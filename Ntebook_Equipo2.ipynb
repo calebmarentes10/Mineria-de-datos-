{
  "nbformat": 4,
  "nbformat_minor": 0,
  "metadata": {
    "colab": {
      "name": "Copia de JJOO.ipynb",
      "provenance": [],
      "collapsed_sections": [],
      "include_colab_link": true
    },
    "kernelspec": {
      "name": "python3",
      "display_name": "Python 3"
    },
    "language_info": {
      "name": "python"
    }
  },
  "cells": [
    {
      "cell_type": "markdown",
      "metadata": {
        "id": "view-in-github",
        "colab_type": "text"
      },
      "source": [
        "<a href=\"https://colab.research.google.com/github/calebmarentes10/Mineria-de-datos-/blob/main/Ntebook_Equipo2.ipynb\" target=\"_parent\"><img src=\"https://colab.research.google.com/assets/colab-badge.svg\" alt=\"Open In Colab\"/></a>"
      ]
    },
    {
      "cell_type": "markdown",
      "metadata": {
        "id": "6UvhwXAhbrek"
      },
      "source": [
        "#**Equipo2**\n",
        "\n",
        "###**120 YEARS OF OLYMPIC HISTORY**\n",
        "\n",
        "https://www.kaggle.com/mysarahmadbhat/120-years-of-olympic-history\n",
        "\n",
        "***Introducción general:***\n",
        "\n",
        "120 years of olympic history  es una base de datos que como su nombre lo dice, consta datos históricos sobre los Juegos Olímpicos modernos, desde Atenas 1896 hasta Río 2016. Cada fila corresponde a un atleta individual que compite en un evento individual, incluido el nombre del atleta, sexo, edad, altura, peso, país y medalla, y el nombre del evento. , deporte, juegos, año y ciudad.\n",
        "\n",
        "Con estos datos pretendemos dar a conocer cuáles han sido los deportes con más medallas, y cual es el competidor promedio ideal para ganar oro en cada deporte.\n",
        "\n",
        "**Descripción de los datos:**\n",
        "\n",
        "Los datos provienen de los Juegos Olímpicos donde se han acomodado en 15 columnas de la siguiente manera:\n",
        "\n",
        "- *ID Unique number for each athlete:* En esta columna podemos ver el ID del atleta\n",
        "- *Name Athlete's name:* En esta columna podemos ver el nombre del atleta\n",
        "-*Sex Male (M) or Female (F):* : En esta columna podemos ver el género del atleta\n",
        "-*Age Integer:* En esta columna podemos ver la edad del atleta\n",
        "- *Height In centimeters:* En esta columna podemos ver la estatura del atleta en centímetros\n",
        "- *Weight In kilograms*: En esta columna podemos ver el peso del atleta en kilogramos\n",
        "- *Team:* En esta columna podemos ver el equipo que representa el atleta\n",
        "- *NOC National Olympic Committee 3-letter code:* En esta columna podemos ver el codigo de el país que representa el atleta\n",
        "- *Games Year and season:* En esta columna podemos ver el año y la temporada de la competencia\n",
        "- *Year Integer:* En esta columna podemos en que año se realizaron los juegos olímpicos\n",
        "Season: En esta columna podemos ver la temporado de los juegos olímpicos ya sea verano o invierno\n",
        "- *City:* En esta columna podemos ver el en que ciudad se llevó a cabo la contienda\n",
        "- *Sport:* En esta columna podemos ver el nombre del deporte\n",
        "- *Event:* En esta columna podemos ver el nombre del evento en el participó el atleta\n",
        "- *Medal Gold, Silver, Bronze, or NA:* En esta columna podemos ver si el atleta logró obtener medalla o no\n",
        "\n",
        "**Justificación de los datos:**\n",
        "\n",
        "Decidimos hacer esta base de datos debido a que nos intriga saber que es lo que hace a un competir llegar a ser un competidor olímpico,  o cuales son los rasgos que identifican a un deportista olímpico\n",
        "\n",
        "Los beneficios para trabajar con esta base de datos es que podemos ver con facilidad que es lo que caracteriza a un deportista a olímpico que cuales son los promedios de un medallista olímpico\n",
        "\n",
        "**Objetivo principal:**\n",
        "\n",
        "Dar a conocer las características específicas que han ayudado a los competidores a lograr colgarse de una presea.\n",
        "\n",
        "**Obejtivos secundarios:**\n",
        "\n",
        "Conocer un promedio de edad de los competidores que logran colgarse una presea.\n",
        "\n",
        "Conocer cuales son los efectos tanto positivos como negativos a los que enfrentan los deportistas en cada pais tomando en cuenta la temporada del evento junto con su año\n",
        "\n",
        "**Preguntas de interés:**\n",
        "\n",
        "¿Cuáles son las características promedio de un medallista de oro? ya sea en: edad, peso, estatura y país\n",
        "\n",
        "¿En qué magnitud se pueden ver alterados los medalleros según la temporada de los juegos olímpicos? ya sea de verano o de invierno\n"
      ]
    },
    {
      "cell_type": "code",
      "metadata": {
        "id": "b-9MkZeZCPGM"
      },
      "source": [
        "import pandas as pd\n",
        "import numpy as np\n",
        "import json\n",
        "\n",
        "jjoo=pd.read_csv(\"/content/Atletes_event.csv\",encoding='utf8', index_col=[0])\n",
        "JJOO=jjoo.rename(columns={'Name':'Nombre','Sex':'Sexo','Age':'Edad','Height':'Estatura','Weight':'Peso','Team':'Equipo','Games':'Juegos','Year':'Año','Season':'Temporada','City':'Ciudad','Sport':'Deporte','Event':'Evento','Medal':'Medalla'})\n",
        "\n"
      ],
      "execution_count": null,
      "outputs": []
    },
    {
      "cell_type": "markdown",
      "metadata": {
        "id": "C4oX5GQ2FKAK"
      },
      "source": [
        "**Valores diferentes a cero**\n",
        "\n",
        "Dado a que buscamos unos resultados mas precisos procederemos a hacer una limpieza identificando los valores con cero para ser posteriormente separados o eliminados \n",
        "\n",
        "*Analizando todas las variables, concluimos que era necesario el precio del libro debido a que los datos se recabaron por parte de una plataforma de compra online, asi mismo, consideramos que los clientes ademas de las reseñas, se guían por el precio por lo que tener un valor de 0 en precio no tiene razon de ser. Dado esto, eliminaremos las filas que contengan 0."
      ]
    },
    {
      "cell_type": "code",
      "metadata": {
        "colab": {
          "base_uri": "https://localhost:8080/"
        },
        "id": "8faNW950FOGy",
        "outputId": "ab5dbe96-008f-4d1b-87de-71664c2e41fd"
      },
      "source": [
        "print(\"Ceros en Nombre   = \", np.count_nonzero(JJOO.Nombre== 0))\n",
        "print(\"Ceros en Año      = \",np.count_nonzero(JJOO.Edad== 0))\n",
        "print(\"Ceros en Sexo     = \",np.count_nonzero(JJOO.Sexo== 0))\n",
        "print(\"Ceros en Estatura = \", np.count_nonzero(JJOO.Estatura == 0))\n",
        "print(\"Ceros en Peso     = \",np.count_nonzero(JJOO.Peso== 0))\n",
        "print(\"Ceros en Equipo   = \",np.count_nonzero(JJOO.Equipo== 0))\n",
        "print(\"Ceros en NOC      = \",np.count_nonzero(JJOO.NOC== 0))\n",
        "print(\"Ceros en Juegos   = \", np.count_nonzero(JJOO.Juegos== 0))\n",
        "print(\"Ceros en Año      = \",np.count_nonzero(JJOO.Año== 0))\n",
        "print(\"Ceros en Temporada= \", np.count_nonzero(JJOO.Temporada == 0))\n",
        "print(\"Ceros en Ciudad   = \",np.count_nonzero(JJOO.Ciudad== 0))\n",
        "print(\"Ceros en Deporte  = \",np.count_nonzero(JJOO.Deporte== 0))\n",
        "print(\"Ceros en Evento   = \",np.count_nonzero(JJOO.Evento== 0))\n",
        "print(\"Ceros en Medalla  = \",np.count_nonzero(JJOO.Medalla== 0))"
      ],
      "execution_count": null,
      "outputs": [
        {
          "output_type": "stream",
          "name": "stdout",
          "text": [
            "Ceros en Nombre   =  0\n",
            "Ceros en Año      =  697\n",
            "Ceros en Sexo     =  0\n",
            "Ceros en Estatura =  3465\n",
            "Ceros en Peso     =  3608\n",
            "Ceros en Equipo   =  0\n",
            "Ceros en NOC      =  0\n",
            "Ceros en Juegos   =  0\n",
            "Ceros en Año      =  0\n",
            "Ceros en Temporada=  0\n",
            "Ceros en Ciudad   =  0\n",
            "Ceros en Deporte  =  0\n",
            "Ceros en Evento   =  0\n",
            "Ceros en Medalla  =  0\n"
          ]
        }
      ]
    },
    {
      "cell_type": "markdown",
      "metadata": {
        "id": "qnkZlz2SLG_A"
      },
      "source": [
        "Como podemos observar, contamos con 9,474 datos de personas que no nos brindan su edad, asi como 60,171 datos en estatura y 62,875 datos en peso donde tampoco contamos con información\n",
        "\n",
        "Considerando que si eliminamos a aquellas personas que no brindan su información completa, nos quedaríamos con muy pocos datos ademas de correr el riesgo de que eliminemos a paises participantes en caso de que solo hayan tenido un solo participante en un solo deporte hemos decidido crear dos bases de datos de una sola y prevenir la perdida de datos masiva.\n",
        "\n",
        "En este caso contaremos con una base de datos de pesos y estaturas eliminando aquellos datos que no brinden la información requerida debido a que nos interesa saber cual es la complexion promedio o necesaria de un altleta de alto rendimento. Por otro lado, tendremos otra base sin las columnas de peso y estatura con el fin de analizar los paises participantes, deportes y demas \n",
        "\n",
        "Asi mismo, eliminaremos la columna \"NOC\" y la columna \"Games\" debido a que la primera es la abreviacion del país y la segunda es un concatenado entre año y temporada por lo que tendriamos datos innecesariamente repetidos.\n"
      ]
    },
    {
      "cell_type": "code",
      "metadata": {
        "id": "3CeFqvPbT4He"
      },
      "source": [
        "SinCero=JJOO[JJOO.Edad > 0]\n",
        "SinCero\n",
        "SinCero.to_csv('SinCero.csv')\n",
        "SinCero=pd.read_csv('SinCero.csv', index_col=[0]) #Guardamos el primer filtrado \n",
        "\n",
        "SinCero1=SinCero[SinCero.Estatura > 0]\n",
        "SinCero1\n",
        "SinCero1.to_csv('SinCero1.csv')\n",
        "SinCero1=pd.read_csv('SinCero1.csv', index_col=[0]) #Guardamos el segundo filtrado \n",
        "\n",
        "SinCero2=SinCero1[SinCero1.Peso > 0]\n",
        "SinCol=SinCero2.drop(['NOC','Juegos'],axis=1)\n",
        "SinCol\n",
        "SinCol.to_csv('SinCero2.csv')\n",
        "Base1=pd.read_csv('SinCero2.csv', index_col=[0]) #Guardamos el tercer filtrado \n",
        "\n",
        "SinCero3=JJOO[JJOO.Peso > 0]\n",
        "SinCero3\n",
        "SinCero3.to_csv('SinCero3.csv')\n",
        "SinCero3=pd.read_csv('SinCero3.csv', index_col=[0])\n",
        "\n",
        "SinCero4=JJOO[JJOO.Estatura > 0]\n",
        "SinCero4\n",
        "SinCero4.to_csv('SinCero4.csv')\n",
        "SinCero4=pd.read_csv('SinCero4.csv', index_col=[0])\n"
      ],
      "execution_count": null,
      "outputs": []
    },
    {
      "cell_type": "markdown",
      "metadata": {
        "id": "_FLNqIj9WhSm"
      },
      "source": [
        "Después de haber filtrado los datos para quedar **sin ceros en Age, Height y Weight** nos quedamos con la siguiente base de datos "
      ]
    },
    {
      "cell_type": "code",
      "metadata": {
        "colab": {
          "base_uri": "https://localhost:8080/"
        },
        "id": "o0uLGF9LVyTw",
        "outputId": "e88814ae-5abe-49f9-e52a-b31011c719a8"
      },
      "source": [
        "Base1\n",
        "Base1.isnull().sum()"
      ],
      "execution_count": null,
      "outputs": [
        {
          "output_type": "execute_result",
          "data": {
            "text/plain": [
              "Nombre       0\n",
              "Sexo         0\n",
              "Edad         0\n",
              "Estatura     0\n",
              "Peso         0\n",
              "Equipo       0\n",
              "Año          1\n",
              "Temporada    1\n",
              "Ciudad       1\n",
              "Deporte      1\n",
              "Evento       1\n",
              "Medalla      1\n",
              "dtype: int64"
            ]
          },
          "metadata": {},
          "execution_count": 4
        }
      ]
    },
    {
      "cell_type": "markdown",
      "metadata": {
        "id": "LeQkpJLVW2nS"
      },
      "source": [
        "Debido a que la siguiente es la segunda base, tenemos que volver a eliminar las columnas no deseadas de la base original (NOC, Juegos). Asi mismo, esta es la que no contendrá los datos de los pesos y las estaturas "
      ]
    },
    {
      "cell_type": "code",
      "metadata": {
        "colab": {
          "base_uri": "https://localhost:8080/",
          "height": 450
        },
        "id": "ir4YIYBwLGlC",
        "outputId": "8c6431bc-92c6-4a48-99cc-54d4a5a9b065"
      },
      "source": [
        "EstPeso=JJOO.drop(['Peso','Estatura','NOC','Juegos'],axis=1)\n",
        "EstPeso"
      ],
      "execution_count": null,
      "outputs": [
        {
          "output_type": "execute_result",
          "data": {
            "text/html": [
              "<div>\n",
              "<style scoped>\n",
              "    .dataframe tbody tr th:only-of-type {\n",
              "        vertical-align: middle;\n",
              "    }\n",
              "\n",
              "    .dataframe tbody tr th {\n",
              "        vertical-align: top;\n",
              "    }\n",
              "\n",
              "    .dataframe thead th {\n",
              "        text-align: right;\n",
              "    }\n",
              "</style>\n",
              "<table border=\"1\" class=\"dataframe\">\n",
              "  <thead>\n",
              "    <tr style=\"text-align: right;\">\n",
              "      <th></th>\n",
              "      <th>Nombre</th>\n",
              "      <th>Sexo</th>\n",
              "      <th>Edad</th>\n",
              "      <th>Equipo</th>\n",
              "      <th>Año</th>\n",
              "      <th>Temporada</th>\n",
              "      <th>Ciudad</th>\n",
              "      <th>Deporte</th>\n",
              "      <th>Evento</th>\n",
              "      <th>Medalla</th>\n",
              "    </tr>\n",
              "    <tr>\n",
              "      <th>ID</th>\n",
              "      <th></th>\n",
              "      <th></th>\n",
              "      <th></th>\n",
              "      <th></th>\n",
              "      <th></th>\n",
              "      <th></th>\n",
              "      <th></th>\n",
              "      <th></th>\n",
              "      <th></th>\n",
              "      <th></th>\n",
              "    </tr>\n",
              "  </thead>\n",
              "  <tbody>\n",
              "    <tr>\n",
              "      <th>1</th>\n",
              "      <td>A Dijiang</td>\n",
              "      <td>M</td>\n",
              "      <td>24</td>\n",
              "      <td>China</td>\n",
              "      <td>1992.0</td>\n",
              "      <td>Summer</td>\n",
              "      <td>Barcelona</td>\n",
              "      <td>Basketball</td>\n",
              "      <td>Basketball Men's Basketball</td>\n",
              "      <td>0</td>\n",
              "    </tr>\n",
              "    <tr>\n",
              "      <th>2</th>\n",
              "      <td>A Lamusi</td>\n",
              "      <td>M</td>\n",
              "      <td>23</td>\n",
              "      <td>China</td>\n",
              "      <td>2012.0</td>\n",
              "      <td>Summer</td>\n",
              "      <td>London</td>\n",
              "      <td>Judo</td>\n",
              "      <td>Judo Men's Extra-Lightweight</td>\n",
              "      <td>0</td>\n",
              "    </tr>\n",
              "    <tr>\n",
              "      <th>3</th>\n",
              "      <td>Gunnar Nielsen Aaby</td>\n",
              "      <td>M</td>\n",
              "      <td>24</td>\n",
              "      <td>Denmark</td>\n",
              "      <td>1920.0</td>\n",
              "      <td>Summer</td>\n",
              "      <td>Antwerpen</td>\n",
              "      <td>Football</td>\n",
              "      <td>Football Men's Football</td>\n",
              "      <td>0</td>\n",
              "    </tr>\n",
              "    <tr>\n",
              "      <th>4</th>\n",
              "      <td>Edgar Lindenau Aabye</td>\n",
              "      <td>M</td>\n",
              "      <td>34</td>\n",
              "      <td>Denmark/Sweden</td>\n",
              "      <td>1900.0</td>\n",
              "      <td>Summer</td>\n",
              "      <td>Paris</td>\n",
              "      <td>Tug-Of-War</td>\n",
              "      <td>Tug-Of-War Men's Tug-Of-War</td>\n",
              "      <td>Gold</td>\n",
              "    </tr>\n",
              "    <tr>\n",
              "      <th>5</th>\n",
              "      <td>Christine Jacoba Aaftink</td>\n",
              "      <td>F</td>\n",
              "      <td>21</td>\n",
              "      <td>Netherlands</td>\n",
              "      <td>1988.0</td>\n",
              "      <td>Winter</td>\n",
              "      <td>Calgary</td>\n",
              "      <td>Speed Skating</td>\n",
              "      <td>Speed Skating Women's 500 metres</td>\n",
              "      <td>0</td>\n",
              "    </tr>\n",
              "    <tr>\n",
              "      <th>...</th>\n",
              "      <td>...</td>\n",
              "      <td>...</td>\n",
              "      <td>...</td>\n",
              "      <td>...</td>\n",
              "      <td>...</td>\n",
              "      <td>...</td>\n",
              "      <td>...</td>\n",
              "      <td>...</td>\n",
              "      <td>...</td>\n",
              "      <td>...</td>\n",
              "    </tr>\n",
              "    <tr>\n",
              "      <th>8668</th>\n",
              "      <td>Adeline Baud (-Mugnier)</td>\n",
              "      <td>F</td>\n",
              "      <td>21</td>\n",
              "      <td>France</td>\n",
              "      <td>2014.0</td>\n",
              "      <td>Winter</td>\n",
              "      <td>Sochi</td>\n",
              "      <td>Alpine Skiing</td>\n",
              "      <td>Alpine Skiing Women's Giant Slalom</td>\n",
              "      <td>0</td>\n",
              "    </tr>\n",
              "    <tr>\n",
              "      <th>8668</th>\n",
              "      <td>Adeline Baud (-Mugnier)</td>\n",
              "      <td>F</td>\n",
              "      <td>21</td>\n",
              "      <td>France</td>\n",
              "      <td>2014.0</td>\n",
              "      <td>Winter</td>\n",
              "      <td>Sochi</td>\n",
              "      <td>Alpine Skiing</td>\n",
              "      <td>Alpine Skiing Women's Slalom</td>\n",
              "      <td>0</td>\n",
              "    </tr>\n",
              "    <tr>\n",
              "      <th>8669</th>\n",
              "      <td>Frdric Baud</td>\n",
              "      <td>M</td>\n",
              "      <td>27</td>\n",
              "      <td>France</td>\n",
              "      <td>2002.0</td>\n",
              "      <td>Winter</td>\n",
              "      <td>Salt Lake City</td>\n",
              "      <td>Nordic Combined</td>\n",
              "      <td>Nordic Combined Men's Team</td>\n",
              "      <td>0</td>\n",
              "    </tr>\n",
              "    <tr>\n",
              "      <th>8669</th>\n",
              "      <td>Frdric Baud</td>\n",
              "      <td>M</td>\n",
              "      <td>27</td>\n",
              "      <td>France</td>\n",
              "      <td>2002.0</td>\n",
              "      <td>Winter</td>\n",
              "      <td>Salt Lake City</td>\n",
              "      <td>Nordic Combined</td>\n",
              "      <td>Nordic Combined Men's Individual</td>\n",
              "      <td>0</td>\n",
              "    </tr>\n",
              "    <tr>\n",
              "      <th>8669</th>\n",
              "      <td>Frdric Baud</td>\n",
              "      <td>M</td>\n",
              "      <td>27</td>\n",
              "      <td>France</td>\n",
              "      <td>NaN</td>\n",
              "      <td>NaN</td>\n",
              "      <td>NaN</td>\n",
              "      <td>NaN</td>\n",
              "      <td>NaN</td>\n",
              "      <td>NaN</td>\n",
              "    </tr>\n",
              "  </tbody>\n",
              "</table>\n",
              "<p>16101 rows × 10 columns</p>\n",
              "</div>"
            ],
            "text/plain": [
              "                        Nombre Sexo  ...                              Evento Medalla\n",
              "ID                                   ...                                            \n",
              "1                    A Dijiang    M  ...         Basketball Men's Basketball       0\n",
              "2                     A Lamusi    M  ...        Judo Men's Extra-Lightweight       0\n",
              "3          Gunnar Nielsen Aaby    M  ...             Football Men's Football       0\n",
              "4         Edgar Lindenau Aabye    M  ...         Tug-Of-War Men's Tug-Of-War    Gold\n",
              "5     Christine Jacoba Aaftink    F  ...    Speed Skating Women's 500 metres       0\n",
              "...                        ...  ...  ...                                 ...     ...\n",
              "8668   Adeline Baud (-Mugnier)    F  ...  Alpine Skiing Women's Giant Slalom       0\n",
              "8668   Adeline Baud (-Mugnier)    F  ...        Alpine Skiing Women's Slalom       0\n",
              "8669               Frdric Baud    M  ...          Nordic Combined Men's Team       0\n",
              "8669               Frdric Baud    M  ...    Nordic Combined Men's Individual       0\n",
              "8669               Frdric Baud    M  ...                                 NaN     NaN\n",
              "\n",
              "[16101 rows x 10 columns]"
            ]
          },
          "metadata": {},
          "execution_count": 5
        }
      ]
    },
    {
      "cell_type": "markdown",
      "metadata": {
        "id": "KaTzxhdwOR21"
      },
      "source": [
        "Procederemos a guardar nuestra base de datos donde **no contamos con pesos ni estaturas**\n"
      ]
    },
    {
      "cell_type": "code",
      "metadata": {
        "colab": {
          "base_uri": "https://localhost:8080/",
          "height": 450
        },
        "id": "CNKQDb_1K04B",
        "outputId": "11231105-3320-490a-92c5-40e149abf7d2"
      },
      "source": [
        "EstPeso.to_csv('JJOO(2).csv')\n",
        "Base2=pd.read_csv('JJOO(2).csv', index_col=[0])\n",
        "Base2"
      ],
      "execution_count": null,
      "outputs": [
        {
          "output_type": "execute_result",
          "data": {
            "text/html": [
              "<div>\n",
              "<style scoped>\n",
              "    .dataframe tbody tr th:only-of-type {\n",
              "        vertical-align: middle;\n",
              "    }\n",
              "\n",
              "    .dataframe tbody tr th {\n",
              "        vertical-align: top;\n",
              "    }\n",
              "\n",
              "    .dataframe thead th {\n",
              "        text-align: right;\n",
              "    }\n",
              "</style>\n",
              "<table border=\"1\" class=\"dataframe\">\n",
              "  <thead>\n",
              "    <tr style=\"text-align: right;\">\n",
              "      <th></th>\n",
              "      <th>Nombre</th>\n",
              "      <th>Sexo</th>\n",
              "      <th>Edad</th>\n",
              "      <th>Equipo</th>\n",
              "      <th>Año</th>\n",
              "      <th>Temporada</th>\n",
              "      <th>Ciudad</th>\n",
              "      <th>Deporte</th>\n",
              "      <th>Evento</th>\n",
              "      <th>Medalla</th>\n",
              "    </tr>\n",
              "    <tr>\n",
              "      <th>ID</th>\n",
              "      <th></th>\n",
              "      <th></th>\n",
              "      <th></th>\n",
              "      <th></th>\n",
              "      <th></th>\n",
              "      <th></th>\n",
              "      <th></th>\n",
              "      <th></th>\n",
              "      <th></th>\n",
              "      <th></th>\n",
              "    </tr>\n",
              "  </thead>\n",
              "  <tbody>\n",
              "    <tr>\n",
              "      <th>1</th>\n",
              "      <td>A Dijiang</td>\n",
              "      <td>M</td>\n",
              "      <td>24</td>\n",
              "      <td>China</td>\n",
              "      <td>1992.0</td>\n",
              "      <td>Summer</td>\n",
              "      <td>Barcelona</td>\n",
              "      <td>Basketball</td>\n",
              "      <td>Basketball Men's Basketball</td>\n",
              "      <td>0</td>\n",
              "    </tr>\n",
              "    <tr>\n",
              "      <th>2</th>\n",
              "      <td>A Lamusi</td>\n",
              "      <td>M</td>\n",
              "      <td>23</td>\n",
              "      <td>China</td>\n",
              "      <td>2012.0</td>\n",
              "      <td>Summer</td>\n",
              "      <td>London</td>\n",
              "      <td>Judo</td>\n",
              "      <td>Judo Men's Extra-Lightweight</td>\n",
              "      <td>0</td>\n",
              "    </tr>\n",
              "    <tr>\n",
              "      <th>3</th>\n",
              "      <td>Gunnar Nielsen Aaby</td>\n",
              "      <td>M</td>\n",
              "      <td>24</td>\n",
              "      <td>Denmark</td>\n",
              "      <td>1920.0</td>\n",
              "      <td>Summer</td>\n",
              "      <td>Antwerpen</td>\n",
              "      <td>Football</td>\n",
              "      <td>Football Men's Football</td>\n",
              "      <td>0</td>\n",
              "    </tr>\n",
              "    <tr>\n",
              "      <th>4</th>\n",
              "      <td>Edgar Lindenau Aabye</td>\n",
              "      <td>M</td>\n",
              "      <td>34</td>\n",
              "      <td>Denmark/Sweden</td>\n",
              "      <td>1900.0</td>\n",
              "      <td>Summer</td>\n",
              "      <td>Paris</td>\n",
              "      <td>Tug-Of-War</td>\n",
              "      <td>Tug-Of-War Men's Tug-Of-War</td>\n",
              "      <td>Gold</td>\n",
              "    </tr>\n",
              "    <tr>\n",
              "      <th>5</th>\n",
              "      <td>Christine Jacoba Aaftink</td>\n",
              "      <td>F</td>\n",
              "      <td>21</td>\n",
              "      <td>Netherlands</td>\n",
              "      <td>1988.0</td>\n",
              "      <td>Winter</td>\n",
              "      <td>Calgary</td>\n",
              "      <td>Speed Skating</td>\n",
              "      <td>Speed Skating Women's 500 metres</td>\n",
              "      <td>0</td>\n",
              "    </tr>\n",
              "    <tr>\n",
              "      <th>...</th>\n",
              "      <td>...</td>\n",
              "      <td>...</td>\n",
              "      <td>...</td>\n",
              "      <td>...</td>\n",
              "      <td>...</td>\n",
              "      <td>...</td>\n",
              "      <td>...</td>\n",
              "      <td>...</td>\n",
              "      <td>...</td>\n",
              "      <td>...</td>\n",
              "    </tr>\n",
              "    <tr>\n",
              "      <th>8668</th>\n",
              "      <td>Adeline Baud (-Mugnier)</td>\n",
              "      <td>F</td>\n",
              "      <td>21</td>\n",
              "      <td>France</td>\n",
              "      <td>2014.0</td>\n",
              "      <td>Winter</td>\n",
              "      <td>Sochi</td>\n",
              "      <td>Alpine Skiing</td>\n",
              "      <td>Alpine Skiing Women's Giant Slalom</td>\n",
              "      <td>0</td>\n",
              "    </tr>\n",
              "    <tr>\n",
              "      <th>8668</th>\n",
              "      <td>Adeline Baud (-Mugnier)</td>\n",
              "      <td>F</td>\n",
              "      <td>21</td>\n",
              "      <td>France</td>\n",
              "      <td>2014.0</td>\n",
              "      <td>Winter</td>\n",
              "      <td>Sochi</td>\n",
              "      <td>Alpine Skiing</td>\n",
              "      <td>Alpine Skiing Women's Slalom</td>\n",
              "      <td>0</td>\n",
              "    </tr>\n",
              "    <tr>\n",
              "      <th>8669</th>\n",
              "      <td>Frdric Baud</td>\n",
              "      <td>M</td>\n",
              "      <td>27</td>\n",
              "      <td>France</td>\n",
              "      <td>2002.0</td>\n",
              "      <td>Winter</td>\n",
              "      <td>Salt Lake City</td>\n",
              "      <td>Nordic Combined</td>\n",
              "      <td>Nordic Combined Men's Team</td>\n",
              "      <td>0</td>\n",
              "    </tr>\n",
              "    <tr>\n",
              "      <th>8669</th>\n",
              "      <td>Frdric Baud</td>\n",
              "      <td>M</td>\n",
              "      <td>27</td>\n",
              "      <td>France</td>\n",
              "      <td>2002.0</td>\n",
              "      <td>Winter</td>\n",
              "      <td>Salt Lake City</td>\n",
              "      <td>Nordic Combined</td>\n",
              "      <td>Nordic Combined Men's Individual</td>\n",
              "      <td>0</td>\n",
              "    </tr>\n",
              "    <tr>\n",
              "      <th>8669</th>\n",
              "      <td>Frdric Baud</td>\n",
              "      <td>M</td>\n",
              "      <td>27</td>\n",
              "      <td>France</td>\n",
              "      <td>NaN</td>\n",
              "      <td>NaN</td>\n",
              "      <td>NaN</td>\n",
              "      <td>NaN</td>\n",
              "      <td>NaN</td>\n",
              "      <td>NaN</td>\n",
              "    </tr>\n",
              "  </tbody>\n",
              "</table>\n",
              "<p>16101 rows × 10 columns</p>\n",
              "</div>"
            ],
            "text/plain": [
              "                        Nombre Sexo  ...                              Evento Medalla\n",
              "ID                                   ...                                            \n",
              "1                    A Dijiang    M  ...         Basketball Men's Basketball       0\n",
              "2                     A Lamusi    M  ...        Judo Men's Extra-Lightweight       0\n",
              "3          Gunnar Nielsen Aaby    M  ...             Football Men's Football       0\n",
              "4         Edgar Lindenau Aabye    M  ...         Tug-Of-War Men's Tug-Of-War    Gold\n",
              "5     Christine Jacoba Aaftink    F  ...    Speed Skating Women's 500 metres       0\n",
              "...                        ...  ...  ...                                 ...     ...\n",
              "8668   Adeline Baud (-Mugnier)    F  ...  Alpine Skiing Women's Giant Slalom       0\n",
              "8668   Adeline Baud (-Mugnier)    F  ...        Alpine Skiing Women's Slalom       0\n",
              "8669               Frdric Baud    M  ...          Nordic Combined Men's Team       0\n",
              "8669               Frdric Baud    M  ...    Nordic Combined Men's Individual       0\n",
              "8669               Frdric Baud    M  ...                                 NaN     NaN\n",
              "\n",
              "[16101 rows x 10 columns]"
            ]
          },
          "metadata": {},
          "execution_count": 6
        }
      ]
    },
    {
      "cell_type": "markdown",
      "metadata": {
        "id": "i82FkE3qfhOS"
      },
      "source": [
        "#**Estadística básica de los datos**\n",
        "\n",
        "En esta parte del proyecto podremos observar la estadística básica de nuestra base de datos\n",
        "\n",
        "Como nuestra pregunta de interés es saber las características promedio de un medallista de oro observaremos las estadísticas de la edad, el peso, la estatura y país\n",
        "\n",
        "Iniciaremos filtrando los medallistas que ganaron oro através de los años por lo que utilizaremos nuestra Base2 "
      ]
    },
    {
      "cell_type": "code",
      "metadata": {
        "id": "kQ3zR1DpBBWp"
      },
      "source": [
        "import matplotlib.pyplot as plt\n",
        "import seaborn as sns"
      ],
      "execution_count": null,
      "outputs": []
    },
    {
      "cell_type": "code",
      "metadata": {
        "id": "l-35B7JzgilT"
      },
      "source": [
        "oro=JJOO[JJOO['Medalla']=='Gold']"
      ],
      "execution_count": null,
      "outputs": []
    },
    {
      "cell_type": "markdown",
      "metadata": {
        "id": "GSFvabrThP5-"
      },
      "source": [
        "Aquí podemos apreciar la estadística descriptiva de la **edad** de los medallistas de oro olímpicos\n",
        "\n",
        "- Conteo de filas\n",
        "- Media\n",
        "- Desviación estándar\n",
        "- Mínimo \n",
        "- Primer cuartil \n",
        "- Segundo cuartil \n",
        "- Tercer cuartil\n",
        "- Máximo\n"
      ]
    },
    {
      "cell_type": "code",
      "metadata": {
        "colab": {
          "base_uri": "https://localhost:8080/",
          "height": 297
        },
        "id": "-Q4l3nT9hY9u",
        "outputId": "99009f9d-0ba7-457f-dce1-30d7f786328b"
      },
      "source": [
        "pd.DataFrame(SinCero['Edad'].describe())"
      ],
      "execution_count": null,
      "outputs": [
        {
          "output_type": "execute_result",
          "data": {
            "text/html": [
              "<div>\n",
              "<style scoped>\n",
              "    .dataframe tbody tr th:only-of-type {\n",
              "        vertical-align: middle;\n",
              "    }\n",
              "\n",
              "    .dataframe tbody tr th {\n",
              "        vertical-align: top;\n",
              "    }\n",
              "\n",
              "    .dataframe thead th {\n",
              "        text-align: right;\n",
              "    }\n",
              "</style>\n",
              "<table border=\"1\" class=\"dataframe\">\n",
              "  <thead>\n",
              "    <tr style=\"text-align: right;\">\n",
              "      <th></th>\n",
              "      <th>Edad</th>\n",
              "    </tr>\n",
              "  </thead>\n",
              "  <tbody>\n",
              "    <tr>\n",
              "      <th>count</th>\n",
              "      <td>15404.000000</td>\n",
              "    </tr>\n",
              "    <tr>\n",
              "      <th>mean</th>\n",
              "      <td>25.431836</td>\n",
              "    </tr>\n",
              "    <tr>\n",
              "      <th>std</th>\n",
              "      <td>6.148561</td>\n",
              "    </tr>\n",
              "    <tr>\n",
              "      <th>min</th>\n",
              "      <td>12.000000</td>\n",
              "    </tr>\n",
              "    <tr>\n",
              "      <th>25%</th>\n",
              "      <td>21.000000</td>\n",
              "    </tr>\n",
              "    <tr>\n",
              "      <th>50%</th>\n",
              "      <td>24.000000</td>\n",
              "    </tr>\n",
              "    <tr>\n",
              "      <th>75%</th>\n",
              "      <td>28.000000</td>\n",
              "    </tr>\n",
              "    <tr>\n",
              "      <th>max</th>\n",
              "      <td>84.000000</td>\n",
              "    </tr>\n",
              "  </tbody>\n",
              "</table>\n",
              "</div>"
            ],
            "text/plain": [
              "               Edad\n",
              "count  15404.000000\n",
              "mean      25.431836\n",
              "std        6.148561\n",
              "min       12.000000\n",
              "25%       21.000000\n",
              "50%       24.000000\n",
              "75%       28.000000\n",
              "max       84.000000"
            ]
          },
          "metadata": {},
          "execution_count": 8
        }
      ]
    },
    {
      "cell_type": "markdown",
      "metadata": {
        "id": "P96XMsDqieep"
      },
      "source": [
        "Esto nos dice que la edad promedio de los medallistas de oro es de alrededor de 26 años es decir que los atletas ganadores son atletas jóvenes y es la edad donde dan su mejor rendimient"
      ]
    },
    {
      "cell_type": "code",
      "metadata": {
        "colab": {
          "base_uri": "https://localhost:8080/",
          "height": 295
        },
        "id": "LeB-GauXBQ7_",
        "outputId": "180950cd-d0ed-4672-a68c-fdd11d370472"
      },
      "source": [
        "plt.hist(SinCero['Edad'])\n",
        "plt.title('Edad de los medallistas')\n",
        "plt.xlabel('Cantidad de medallistas')\n",
        "plt.ylabel('Edad')\n",
        "plt.show()"
      ],
      "execution_count": null,
      "outputs": [
        {
          "output_type": "display_data",
          "data": {
            "image/png": "[encoded data removed]",
            "text/plain": [
              "<Figure size 432x288 with 1 Axes>"
            ]
          },
          "metadata": {
            "needs_background": "light"
          }
        }
      ]
    },
    {
      "cell_type": "markdown",
      "metadata": {
        "id": "v9MV5cguiixH"
      },
      "source": [
        "Aquí podemos apreciar la estadística descriptiva de ***peso*** de los medallistas de oro olímpicos\n",
        "\n",
        "- Conteo de filas\n",
        "- Media\n",
        "- Desviación estándar\n",
        "- Mínimo \n",
        "- Primer cuartil \n",
        "- Segundo cuartil \n",
        "- Tercer cuartil\n",
        "- Máximo"
      ]
    },
    {
      "cell_type": "code",
      "metadata": {
        "colab": {
          "base_uri": "https://localhost:8080/",
          "height": 297
        },
        "id": "R2MBdPJKirfi",
        "outputId": "36f20cd8-eac3-4ebd-b7c1-ef1be07d148a"
      },
      "source": [
        "pd.DataFrame(SinCero3['Peso'].describe())"
      ],
      "execution_count": null,
      "outputs": [
        {
          "output_type": "execute_result",
          "data": {
            "text/html": [
              "<div>\n",
              "<style scoped>\n",
              "    .dataframe tbody tr th:only-of-type {\n",
              "        vertical-align: middle;\n",
              "    }\n",
              "\n",
              "    .dataframe tbody tr th {\n",
              "        vertical-align: top;\n",
              "    }\n",
              "\n",
              "    .dataframe thead th {\n",
              "        text-align: right;\n",
              "    }\n",
              "</style>\n",
              "<table border=\"1\" class=\"dataframe\">\n",
              "  <thead>\n",
              "    <tr style=\"text-align: right;\">\n",
              "      <th></th>\n",
              "      <th>Peso</th>\n",
              "    </tr>\n",
              "  </thead>\n",
              "  <tbody>\n",
              "    <tr>\n",
              "      <th>count</th>\n",
              "      <td>12493.000000</td>\n",
              "    </tr>\n",
              "    <tr>\n",
              "      <th>mean</th>\n",
              "      <td>70.991835</td>\n",
              "    </tr>\n",
              "    <tr>\n",
              "      <th>std</th>\n",
              "      <td>14.201981</td>\n",
              "    </tr>\n",
              "    <tr>\n",
              "      <th>min</th>\n",
              "      <td>32.000000</td>\n",
              "    </tr>\n",
              "    <tr>\n",
              "      <th>25%</th>\n",
              "      <td>61.000000</td>\n",
              "    </tr>\n",
              "    <tr>\n",
              "      <th>50%</th>\n",
              "      <td>70.000000</td>\n",
              "    </tr>\n",
              "    <tr>\n",
              "      <th>75%</th>\n",
              "      <td>79.000000</td>\n",
              "    </tr>\n",
              "    <tr>\n",
              "      <th>max</th>\n",
              "      <td>163.000000</td>\n",
              "    </tr>\n",
              "  </tbody>\n",
              "</table>\n",
              "</div>"
            ],
            "text/plain": [
              "               Peso\n",
              "count  12493.000000\n",
              "mean      70.991835\n",
              "std       14.201981\n",
              "min       32.000000\n",
              "25%       61.000000\n",
              "50%       70.000000\n",
              "75%       79.000000\n",
              "max      163.000000"
            ]
          },
          "metadata": {},
          "execution_count": 10
        }
      ]
    },
    {
      "cell_type": "markdown",
      "metadata": {
        "id": "qwcclNHsjTab"
      },
      "source": [
        "Aunque esta estadística pueda ser algo subjetiva debido a que algunos deportes se necesita mas peso que en otros, sin embargo nos da una idea de como es el peso de un atleta olímpico ganador de una medalla de oro"
      ]
    },
    {
      "cell_type": "code",
      "metadata": {
        "colab": {
          "base_uri": "https://localhost:8080/",
          "height": 350
        },
        "id": "0zEPKrN3Bl80",
        "outputId": "91592cee-4b8a-4769-a221-458a30b2f4eb"
      },
      "source": [
        "sns.boxplot(SinCero['Peso'])\n"
      ],
      "execution_count": null,
      "outputs": [
        {
          "output_type": "stream",
          "name": "stderr",
          "text": [
            "/usr/local/lib/python3.7/dist-packages/seaborn/_decorators.py:43: FutureWarning: Pass the following variable as a keyword arg: x. From version 0.12, the only valid positional argument will be `data`, and passing other arguments without an explicit keyword will result in an error or misinterpretation.\n",
            "  FutureWarning\n"
          ]
        },
        {
          "output_type": "execute_result",
          "data": {
            "text/plain": [
              "<matplotlib.axes._subplots.AxesSubplot at 0x7f6c75a58390>"
            ]
          },
          "metadata": {},
          "execution_count": 11
        },
        {
          "output_type": "display_data",
          "data": {
            "image/png": "[encoded data removed]",
            "text/plain": [
              "<Figure size 432x288 with 1 Axes>"
            ]
          },
          "metadata": {
            "needs_background": "light"
          }
        }
      ]
    },
    {
      "cell_type": "markdown",
      "metadata": {
        "id": "12Ll_78teQkS"
      },
      "source": [
        "##Conclusion\n",
        "En muchos deportes ya se tiene una categoria especifica de pesos pero lo que podemos ver aqui, nos muestra cual es el peso ideal para un deportista olimpico que es de 70.700 kilogramos"
      ]
    },
    {
      "cell_type": "markdown",
      "metadata": {
        "id": "34VUylhvjXo8"
      },
      "source": [
        "Aquí podemos apreciar la estadística descriptiva de la ***estatura*** de los medallistas de oro olímpicos\n",
        "\n",
        "- Conteo de filas\n",
        "- Media\n",
        "- Desviación estándar\n",
        "- Mínimo \n",
        "- Primer cuartil \n",
        "- Segundo cuartil \n",
        "- Tercer cuartil\n",
        "- Máximo"
      ]
    },
    {
      "cell_type": "code",
      "metadata": {
        "colab": {
          "base_uri": "https://localhost:8080/",
          "height": 297
        },
        "id": "EBxNgiERjchd",
        "outputId": "cca23dcd-942d-47dd-f377-c9b76ff0189f"
      },
      "source": [
        "pd.DataFrame(SinCero4['Estatura'].describe())"
      ],
      "execution_count": null,
      "outputs": [
        {
          "output_type": "execute_result",
          "data": {
            "text/html": [
              "<div>\n",
              "<style scoped>\n",
              "    .dataframe tbody tr th:only-of-type {\n",
              "        vertical-align: middle;\n",
              "    }\n",
              "\n",
              "    .dataframe tbody tr th {\n",
              "        vertical-align: top;\n",
              "    }\n",
              "\n",
              "    .dataframe thead th {\n",
              "        text-align: right;\n",
              "    }\n",
              "</style>\n",
              "<table border=\"1\" class=\"dataframe\">\n",
              "  <thead>\n",
              "    <tr style=\"text-align: right;\">\n",
              "      <th></th>\n",
              "      <th>Estatura</th>\n",
              "    </tr>\n",
              "  </thead>\n",
              "  <tbody>\n",
              "    <tr>\n",
              "      <th>count</th>\n",
              "      <td>12636.000000</td>\n",
              "    </tr>\n",
              "    <tr>\n",
              "      <th>mean</th>\n",
              "      <td>175.431466</td>\n",
              "    </tr>\n",
              "    <tr>\n",
              "      <th>std</th>\n",
              "      <td>10.234031</td>\n",
              "    </tr>\n",
              "    <tr>\n",
              "      <th>min</th>\n",
              "      <td>132.000000</td>\n",
              "    </tr>\n",
              "    <tr>\n",
              "      <th>25%</th>\n",
              "      <td>169.000000</td>\n",
              "    </tr>\n",
              "    <tr>\n",
              "      <th>50%</th>\n",
              "      <td>175.000000</td>\n",
              "    </tr>\n",
              "    <tr>\n",
              "      <th>75%</th>\n",
              "      <td>182.000000</td>\n",
              "    </tr>\n",
              "    <tr>\n",
              "      <th>max</th>\n",
              "      <td>217.000000</td>\n",
              "    </tr>\n",
              "  </tbody>\n",
              "</table>\n",
              "</div>"
            ],
            "text/plain": [
              "           Estatura\n",
              "count  12636.000000\n",
              "mean     175.431466\n",
              "std       10.234031\n",
              "min      132.000000\n",
              "25%      169.000000\n",
              "50%      175.000000\n",
              "75%      182.000000\n",
              "max      217.000000"
            ]
          },
          "metadata": {},
          "execution_count": 12
        }
      ]
    },
    {
      "cell_type": "markdown",
      "metadata": {
        "id": "83ELmfqHj4iS"
      },
      "source": [
        "Aqui podemos ver como se distribuyen la alturas en cm de los atletas ganadores y nos describe que en promedio el atleta ganador es un atleta alto"
      ]
    },
    {
      "cell_type": "code",
      "metadata": {
        "colab": {
          "base_uri": "https://localhost:8080/",
          "height": 283
        },
        "id": "C1WyT-VJB_D5",
        "outputId": "c1d492fd-8234-4410-b1bb-b85e4528827b"
      },
      "source": [
        "SinCero['Estatura'].value_counts().sort_index().plot.line()"
      ],
      "execution_count": null,
      "outputs": [
        {
          "output_type": "execute_result",
          "data": {
            "text/plain": [
              "<matplotlib.axes._subplots.AxesSubplot at 0x7f6c74ccd510>"
            ]
          },
          "metadata": {},
          "execution_count": 13
        },
        {
          "output_type": "display_data",
          "data": {
            "image/png": "[encoded data removed]",
            "text/plain": [
              "<Figure size 432x288 with 1 Axes>"
            ]
          },
          "metadata": {
            "needs_background": "light"
          }
        }
      ]
    },
    {
      "cell_type": "markdown",
      "metadata": {
        "id": "5aKqGcVpMdTr"
      },
      "source": [
        "##Coclusion\n",
        "A pesar de que estudios muestran que la estatura promedio del ser humano en el mundo es de 1,65 metros aproximadamente (sin diferenciar el sexo masculino del femenino). La grafica nos muestra que el promedio de los ganadores es una persona cerca de 10cm mas alta que el promedio del ser humano 1,75 metros aproximadamente (sin diferenciar el sexo masculino del femenino). "
      ]
    },
    {
      "cell_type": "markdown",
      "metadata": {
        "id": "KnQvTP58j74e"
      },
      "source": [
        "Aqui podemos observar los 10 paises con mas medallas de oro"
      ]
    },
    {
      "cell_type": "code",
      "metadata": {
        "colab": {
          "base_uri": "https://localhost:8080/",
          "height": 390
        },
        "id": "NtFxh8-tj_98",
        "outputId": "11026243-792e-4ef8-a36e-4ed4406b4129"
      },
      "source": [
        "medalxpais=oro.groupby(['Equipo']).count().sort_values(by=['Deporte'],ascending=False).head(10).iloc[:,1]\n",
        "medalxpais=pd.DataFrame(medalxpais)\n",
        "medalxpais"
      ],
      "execution_count": null,
      "outputs": [
        {
          "output_type": "execute_result",
          "data": {
            "text/html": [
              "<div>\n",
              "<style scoped>\n",
              "    .dataframe tbody tr th:only-of-type {\n",
              "        vertical-align: middle;\n",
              "    }\n",
              "\n",
              "    .dataframe tbody tr th {\n",
              "        vertical-align: top;\n",
              "    }\n",
              "\n",
              "    .dataframe thead th {\n",
              "        text-align: right;\n",
              "    }\n",
              "</style>\n",
              "<table border=\"1\" class=\"dataframe\">\n",
              "  <thead>\n",
              "    <tr style=\"text-align: right;\">\n",
              "      <th></th>\n",
              "      <th>Sexo</th>\n",
              "    </tr>\n",
              "    <tr>\n",
              "      <th>Equipo</th>\n",
              "      <th></th>\n",
              "    </tr>\n",
              "  </thead>\n",
              "  <tbody>\n",
              "    <tr>\n",
              "      <th>United States</th>\n",
              "      <td>120</td>\n",
              "    </tr>\n",
              "    <tr>\n",
              "      <th>Soviet Union</th>\n",
              "      <td>66</td>\n",
              "    </tr>\n",
              "    <tr>\n",
              "      <th>Italy</th>\n",
              "      <td>43</td>\n",
              "    </tr>\n",
              "    <tr>\n",
              "      <th>France</th>\n",
              "      <td>33</td>\n",
              "    </tr>\n",
              "    <tr>\n",
              "      <th>Great Britain</th>\n",
              "      <td>30</td>\n",
              "    </tr>\n",
              "    <tr>\n",
              "      <th>Sweden</th>\n",
              "      <td>28</td>\n",
              "    </tr>\n",
              "    <tr>\n",
              "      <th>Norway</th>\n",
              "      <td>28</td>\n",
              "    </tr>\n",
              "    <tr>\n",
              "      <th>Germany</th>\n",
              "      <td>23</td>\n",
              "    </tr>\n",
              "    <tr>\n",
              "      <th>Russia</th>\n",
              "      <td>20</td>\n",
              "    </tr>\n",
              "    <tr>\n",
              "      <th>Canada</th>\n",
              "      <td>18</td>\n",
              "    </tr>\n",
              "  </tbody>\n",
              "</table>\n",
              "</div>"
            ],
            "text/plain": [
              "               Sexo\n",
              "Equipo             \n",
              "United States   120\n",
              "Soviet Union     66\n",
              "Italy            43\n",
              "France           33\n",
              "Great Britain    30\n",
              "Sweden           28\n",
              "Norway           28\n",
              "Germany          23\n",
              "Russia           20\n",
              "Canada           18"
            ]
          },
          "metadata": {},
          "execution_count": 42
        }
      ]
    },
    {
      "cell_type": "code",
      "metadata": {
        "colab": {
          "base_uri": "https://localhost:8080/",
          "height": 353
        },
        "id": "suroqvGwC4wa",
        "outputId": "7a5bb725-b21b-494c-fff9-b2880c35adbb"
      },
      "source": [
        "plt.bar(medalxpais.index,medalxpais.iloc[:,0])\n",
        "plt.xticks(rotation=90)\n",
        "plt.title('Primeros 10 paises medallistas de oro')\n",
        "plt.xlabel('Paises')\n",
        "plt.ylabel('Canidad medallas de oro')\n",
        "plt.show()"
      ],
      "execution_count": null,
      "outputs": [
        {
          "output_type": "display_data",
          "data": {
            "image/png": "[encoded data removed]",
            "text/plain": [
              "<Figure size 432x288 with 1 Axes>"
            ]
          },
          "metadata": {
            "needs_background": "light"
          }
        }
      ]
    },
    {
      "cell_type": "markdown",
      "metadata": {
        "id": "Mr6rVFSwbsK4"
      },
      "source": [
        "##Conclusión\n",
        "El ser de algun pais en especifico tambien ayuda mucho en tu rendimiento de los juegos olimpicos, ya sea por el apoyo de tu pais tanto como en recursos o como en equipamento.\n",
        "En este caso podemos ver como Estados Unidos lidera por mucho sobre los demas paises."
      ]
    },
    {
      "cell_type": "markdown",
      "metadata": {
        "id": "YgTdaVr2Z9ME"
      },
      "source": [
        ""
      ]
    },
    {
      "cell_type": "code",
      "metadata": {
        "colab": {
          "base_uri": "https://localhost:8080/",
          "height": 142
        },
        "id": "3BdEtaRmCpLl",
        "outputId": "24872d41-fff8-48d4-9cf6-efd58b6d2978"
      },
      "source": [
        "medalxsex=pd.DataFrame(SinCero.groupby(by=['Sexo']).count()['Medalla'])\n",
        "medalxsex"
      ],
      "execution_count": null,
      "outputs": [
        {
          "output_type": "execute_result",
          "data": {
            "text/html": [
              "<div>\n",
              "<style scoped>\n",
              "    .dataframe tbody tr th:only-of-type {\n",
              "        vertical-align: middle;\n",
              "    }\n",
              "\n",
              "    .dataframe tbody tr th {\n",
              "        vertical-align: top;\n",
              "    }\n",
              "\n",
              "    .dataframe thead th {\n",
              "        text-align: right;\n",
              "    }\n",
              "</style>\n",
              "<table border=\"1\" class=\"dataframe\">\n",
              "  <thead>\n",
              "    <tr style=\"text-align: right;\">\n",
              "      <th></th>\n",
              "      <th>Medalla</th>\n",
              "    </tr>\n",
              "    <tr>\n",
              "      <th>Sexo</th>\n",
              "      <th></th>\n",
              "    </tr>\n",
              "  </thead>\n",
              "  <tbody>\n",
              "    <tr>\n",
              "      <th>F</th>\n",
              "      <td>74098</td>\n",
              "    </tr>\n",
              "    <tr>\n",
              "      <th>M</th>\n",
              "      <td>187544</td>\n",
              "    </tr>\n",
              "  </tbody>\n",
              "</table>\n",
              "</div>"
            ],
            "text/plain": [
              "      Medalla\n",
              "Sexo         \n",
              "F       74098\n",
              "M      187544"
            ]
          },
          "metadata": {},
          "execution_count": 170
        }
      ]
    },
    {
      "cell_type": "code",
      "metadata": {
        "colab": {
          "base_uri": "https://localhost:8080/",
          "height": 318
        },
        "id": "QK-R5bQ9Cwuf",
        "outputId": "d6ad57d0-f512-47da-b1f7-ca65885060d5"
      },
      "source": [
        "plt.pie(medalxsex,labels=['Femenino \\n'+str(medalxsex.iloc[0,0]),'Masculino \\n'+str(medalxsex.iloc[1,0])])\n",
        "plt.title('Proporción medallistas por sexo')\n",
        "plt.show()"
      ],
      "execution_count": null,
      "outputs": [
        {
          "output_type": "stream",
          "name": "stderr",
          "text": [
            "/usr/local/lib/python3.7/dist-packages/ipykernel_launcher.py:1: MatplotlibDeprecationWarning: Non-1D inputs to pie() are currently squeeze()d, but this behavior is deprecated since 3.1 and will be removed in 3.3; pass a 1D array instead.\n",
            "  \"\"\"Entry point for launching an IPython kernel.\n"
          ]
        },
        {
          "output_type": "display_data",
          "data": {
            "image/png": "[encoded data removed]",
            "text/plain": [
              "<Figure size 432x288 with 1 Axes>"
            ]
          },
          "metadata": {}
        }
      ]
    },
    {
      "cell_type": "markdown",
      "metadata": {
        "id": "7guqYRGgHF71"
      },
      "source": [
        "##Conclusión\n",
        "Los Juegos de Ámsterdam de 1928 fueron los primeros que contaron con la participación oficial de mujeres, por lo tanto las mujeress se perdieron de 9 temporadas completas de competencias y eso hace una gran diferencia en el total de medallas"
      ]
    },
    {
      "cell_type": "code",
      "metadata": {
        "colab": {
          "base_uri": "https://localhost:8080/",
          "height": 173
        },
        "id": "YeU7Zt1uEWug",
        "outputId": "5ca0d0ff-ab1b-410d-816f-c296280bb0db"
      },
      "source": [
        "SinCero.corr()"
      ],
      "execution_count": null,
      "outputs": [
        {
          "output_type": "execute_result",
          "data": {
            "text/html": [
              "<div>\n",
              "<style scoped>\n",
              "    .dataframe tbody tr th:only-of-type {\n",
              "        vertical-align: middle;\n",
              "    }\n",
              "\n",
              "    .dataframe tbody tr th {\n",
              "        vertical-align: top;\n",
              "    }\n",
              "\n",
              "    .dataframe thead th {\n",
              "        text-align: right;\n",
              "    }\n",
              "</style>\n",
              "<table border=\"1\" class=\"dataframe\">\n",
              "  <thead>\n",
              "    <tr style=\"text-align: right;\">\n",
              "      <th></th>\n",
              "      <th>Edad</th>\n",
              "      <th>Estatura</th>\n",
              "      <th>Peso</th>\n",
              "      <th>Año</th>\n",
              "    </tr>\n",
              "  </thead>\n",
              "  <tbody>\n",
              "    <tr>\n",
              "      <th>Edad</th>\n",
              "      <td>1.000000</td>\n",
              "      <td>-0.132993</td>\n",
              "      <td>-0.071838</td>\n",
              "      <td>-0.115137</td>\n",
              "    </tr>\n",
              "    <tr>\n",
              "      <th>Estatura</th>\n",
              "      <td>-0.132993</td>\n",
              "      <td>1.000000</td>\n",
              "      <td>0.892639</td>\n",
              "      <td>0.620581</td>\n",
              "    </tr>\n",
              "    <tr>\n",
              "      <th>Peso</th>\n",
              "      <td>-0.071838</td>\n",
              "      <td>0.892639</td>\n",
              "      <td>1.000000</td>\n",
              "      <td>0.590639</td>\n",
              "    </tr>\n",
              "    <tr>\n",
              "      <th>Año</th>\n",
              "      <td>-0.115137</td>\n",
              "      <td>0.620581</td>\n",
              "      <td>0.590639</td>\n",
              "      <td>1.000000</td>\n",
              "    </tr>\n",
              "  </tbody>\n",
              "</table>\n",
              "</div>"
            ],
            "text/plain": [
              "              Edad  Estatura      Peso       Año\n",
              "Edad      1.000000 -0.132993 -0.071838 -0.115137\n",
              "Estatura -0.132993  1.000000  0.892639  0.620581\n",
              "Peso     -0.071838  0.892639  1.000000  0.590639\n",
              "Año      -0.115137  0.620581  0.590639  1.000000"
            ]
          },
          "metadata": {},
          "execution_count": 172
        }
      ]
    },
    {
      "cell_type": "code",
      "metadata": {
        "colab": {
          "base_uri": "https://localhost:8080/",
          "height": 390
        },
        "id": "yamH33d3EktB",
        "outputId": "f2bc6975-2694-4069-cb16-e19f398035f2"
      },
      "source": [
        "import matplotlib.pyplot as plt\n",
        "import seaborn as sns\n",
        "plt.figure(figsize=(10,6))\n",
        "sns.heatmap(SinCero.corr(),annot=True)\n",
        "plt.title('Mapa de correlación')\n",
        "plt.savefig('graph.png')\n",
        "plt.show()"
      ],
      "execution_count": null,
      "outputs": [
        {
          "output_type": "display_data",
          "data": {
            "image/png": "[encoded data removed]",
            "text/plain": [
              "<Figure size 720x432 with 2 Axes>"
            ]
          },
          "metadata": {
            "needs_background": "light"
          }
        }
      ]
    },
    {
      "cell_type": "code",
      "metadata": {
        "id": "SuZd57mtFsLy",
        "colab": {
          "base_uri": "https://localhost:8080/",
          "height": 802
        },
        "outputId": "afa7c65e-c0c2-49cc-d13b-2eee540c5bd8"
      },
      "source": [
        "SinCero.hist(figsize=(20, 16),color='lightblue')"
      ],
      "execution_count": null,
      "outputs": [
        {
          "output_type": "execute_result",
          "data": {
            "text/plain": [
              "array([[<matplotlib.axes._subplots.AxesSubplot object at 0x7f1fb9b4d190>,\n",
              "        <matplotlib.axes._subplots.AxesSubplot object at 0x7f1fb9b09110>],\n",
              "       [<matplotlib.axes._subplots.AxesSubplot object at 0x7f1fb9abc6d0>,\n",
              "        <matplotlib.axes._subplots.AxesSubplot object at 0x7f1fb9a72d50>]],\n",
              "      dtype=object)"
            ]
          },
          "metadata": {},
          "execution_count": 174
        },
        {
          "output_type": "display_data",
          "data": {
            "image/png": "[encoded data removed]",
            "text/plain": [
              "<Figure size 1440x1152 with 4 Axes>"
            ]
          },
          "metadata": {
            "needs_background": "light"
          }
        }
      ]
    },
    {
      "cell_type": "markdown",
      "metadata": {
        "id": "xe2vIIh8fvl5"
      },
      "source": [
        "##Conclusiones Generales\n",
        "Gracias a estas ultimas graficas de todos los años y participantes que se dio por entendido que la mayoria de las personas pesan alrededor de 70 kg, que la estatura promedio de ellos es de 1.75 mts y que en su mayoria tienen alrededor de 25 años\n",
        "Por lo que podemos concluir que el molde mas adaptable de una persona para los juegos olimpicos es un joven masculino de 25 años que mida 1.75 mts y su peso sea aproximadamente 70 kg"
      ]
    },
    {
      "cell_type": "code",
      "metadata": {
        "colab": {
          "base_uri": "https://localhost:8080/",
          "height": 142
        },
        "id": "M-wjRcZ7cwFE",
        "outputId": "056e4f18-ffa9-488a-91ed-c3dd5bb6ddc1"
      },
      "source": [
        "medalxstemp=pd.DataFrame(SinCero.groupby(by=['Temporada']).count()['Medalla'])\n",
        "medalxtemp"
      ],
      "execution_count": null,
      "outputs": [
        {
          "output_type": "execute_result",
          "data": {
            "text/html": [
              "<div>\n",
              "<style scoped>\n",
              "    .dataframe tbody tr th:only-of-type {\n",
              "        vertical-align: middle;\n",
              "    }\n",
              "\n",
              "    .dataframe tbody tr th {\n",
              "        vertical-align: top;\n",
              "    }\n",
              "\n",
              "    .dataframe thead th {\n",
              "        text-align: right;\n",
              "    }\n",
              "</style>\n",
              "<table border=\"1\" class=\"dataframe\">\n",
              "  <thead>\n",
              "    <tr style=\"text-align: right;\">\n",
              "      <th></th>\n",
              "      <th>Medalla</th>\n",
              "    </tr>\n",
              "    <tr>\n",
              "      <th>Temporada</th>\n",
              "      <th></th>\n",
              "    </tr>\n",
              "  </thead>\n",
              "  <tbody>\n",
              "    <tr>\n",
              "      <th>Summer</th>\n",
              "      <td>13016</td>\n",
              "    </tr>\n",
              "    <tr>\n",
              "      <th>Winter</th>\n",
              "      <td>2387</td>\n",
              "    </tr>\n",
              "  </tbody>\n",
              "</table>\n",
              "</div>"
            ],
            "text/plain": [
              "           Medalla\n",
              "Temporada         \n",
              "Summer       13016\n",
              "Winter        2387"
            ]
          },
          "metadata": {},
          "execution_count": 35
        }
      ]
    },
    {
      "cell_type": "code",
      "metadata": {
        "colab": {
          "base_uri": "https://localhost:8080/",
          "height": 318
        },
        "id": "SFGQB_GJc9YU",
        "outputId": "c4553dd5-92a8-4df8-ecce-3a79ccd55f7b"
      },
      "source": [
        "plt.pie(medalxtemp,labels=['Summer \\n'+str(medalxsex.iloc[0,0]),'MWinter \\n'+str(medalxtemp.iloc[1,0])])\n",
        "plt.title('Proporción medallistas por temporada')\n",
        "plt.show()"
      ],
      "execution_count": null,
      "outputs": [
        {
          "output_type": "stream",
          "name": "stderr",
          "text": [
            "/usr/local/lib/python3.7/dist-packages/ipykernel_launcher.py:1: MatplotlibDeprecationWarning: Non-1D inputs to pie() are currently squeeze()d, but this behavior is deprecated since 3.1 and will be removed in 3.3; pass a 1D array instead.\n",
            "  \"\"\"Entry point for launching an IPython kernel.\n"
          ]
        },
        {
          "output_type": "display_data",
          "data": {
            "image/png": "[encoded data removed]",
            "text/plain": [
              "<Figure size 432x288 with 1 Axes>"
            ]
          },
          "metadata": {}
        }
      ]
    },
    {
      "cell_type": "markdown",
      "metadata": {
        "id": "gucQ2o9Md1_Q"
      },
      "source": [
        "##Conclusion\n",
        "\n",
        "Debido a que los juegos Olimpicos de Invierno en 1924 tiene una menor cantidad de medallas a comparacion de los Juegos Olimpicos de Verano"
      ]
    },
    {
      "cell_type": "markdown",
      "metadata": {
        "id": "F30YDKj9mAUW"
      },
      "source": [
        "#Técnica de minería\n",
        "\n",
        "\n",
        "\n"
      ]
    },
    {
      "cell_type": "markdown",
      "metadata": {
        "id": "VNixqGkvohPh"
      },
      "source": [
        "## **Leer la base de datoos**"
      ]
    },
    {
      "cell_type": "code",
      "metadata": {
        "id": "1zYsSU49nmaV"
      },
      "source": [
        "# import required libraries for dataframe and visualization\n",
        "\n",
        "import numpy as np\n",
        "import pandas as pd\n",
        "import matplotlib.pyplot as plt\n",
        "import seaborn as sns\n",
        "import datetime as dt\n",
        "\n",
        "# import required libraries for clustering\n",
        "import sklearn\n",
        "from sklearn.preprocessing import StandardScaler\n",
        "from sklearn.cluster import KMeans\n",
        "from sklearn.metrics import silhouette_score\n",
        "from scipy.cluster.hierarchy import linkage\n",
        "from scipy.cluster.hierarchy import dendrogram\n",
        "from scipy.cluster.hierarchy import cut_tree"
      ],
      "execution_count": null,
      "outputs": []
    },
    {
      "cell_type": "code",
      "metadata": {
        "colab": {
          "base_uri": "https://localhost:8080/",
          "height": 397
        },
        "id": "vEdO8Rt1ifLY",
        "outputId": "5a1b254d-6571-4054-de1b-57855f190a64"
      },
      "source": [
        "# Leemos la base de datos general\n",
        "\n",
        "retail = pd.read_csv('/content/Atletes_event.csv', sep=\",\", encoding=\"ISO-8859-1\", header=0)\n",
        "retail.head()"
      ],
      "execution_count": null,
      "outputs": [
        {
          "output_type": "execute_result",
          "data": {
            "text/html": [
              "<div>\n",
              "<style scoped>\n",
              "    .dataframe tbody tr th:only-of-type {\n",
              "        vertical-align: middle;\n",
              "    }\n",
              "\n",
              "    .dataframe tbody tr th {\n",
              "        vertical-align: top;\n",
              "    }\n",
              "\n",
              "    .dataframe thead th {\n",
              "        text-align: right;\n",
              "    }\n",
              "</style>\n",
              "<table border=\"1\" class=\"dataframe\">\n",
              "  <thead>\n",
              "    <tr style=\"text-align: right;\">\n",
              "      <th></th>\n",
              "      <th>ID</th>\n",
              "      <th>Name</th>\n",
              "      <th>Sex</th>\n",
              "      <th>Age</th>\n",
              "      <th>Height</th>\n",
              "      <th>Weight</th>\n",
              "      <th>Team</th>\n",
              "      <th>NOC</th>\n",
              "      <th>Games</th>\n",
              "      <th>Year</th>\n",
              "      <th>Season</th>\n",
              "      <th>City</th>\n",
              "      <th>Sport</th>\n",
              "      <th>Event</th>\n",
              "      <th>Medal</th>\n",
              "    </tr>\n",
              "  </thead>\n",
              "  <tbody>\n",
              "    <tr>\n",
              "      <th>0</th>\n",
              "      <td>1</td>\n",
              "      <td>A Dijiang</td>\n",
              "      <td>M</td>\n",
              "      <td>24</td>\n",
              "      <td>180</td>\n",
              "      <td>80.0</td>\n",
              "      <td>China</td>\n",
              "      <td>CHN</td>\n",
              "      <td>1992 Summer</td>\n",
              "      <td>1992.0</td>\n",
              "      <td>Summer</td>\n",
              "      <td>Barcelona</td>\n",
              "      <td>Basketball</td>\n",
              "      <td>Basketball Men's Basketball</td>\n",
              "      <td>0</td>\n",
              "    </tr>\n",
              "    <tr>\n",
              "      <th>1</th>\n",
              "      <td>2</td>\n",
              "      <td>A Lamusi</td>\n",
              "      <td>M</td>\n",
              "      <td>23</td>\n",
              "      <td>170</td>\n",
              "      <td>60.0</td>\n",
              "      <td>China</td>\n",
              "      <td>CHN</td>\n",
              "      <td>2012 Summer</td>\n",
              "      <td>2012.0</td>\n",
              "      <td>Summer</td>\n",
              "      <td>London</td>\n",
              "      <td>Judo</td>\n",
              "      <td>Judo Men's Extra-Lightweight</td>\n",
              "      <td>0</td>\n",
              "    </tr>\n",
              "    <tr>\n",
              "      <th>2</th>\n",
              "      <td>3</td>\n",
              "      <td>Gunnar Nielsen Aaby</td>\n",
              "      <td>M</td>\n",
              "      <td>24</td>\n",
              "      <td>0</td>\n",
              "      <td>0.0</td>\n",
              "      <td>Denmark</td>\n",
              "      <td>DEN</td>\n",
              "      <td>1920 Summer</td>\n",
              "      <td>1920.0</td>\n",
              "      <td>Summer</td>\n",
              "      <td>Antwerpen</td>\n",
              "      <td>Football</td>\n",
              "      <td>Football Men's Football</td>\n",
              "      <td>0</td>\n",
              "    </tr>\n",
              "    <tr>\n",
              "      <th>3</th>\n",
              "      <td>4</td>\n",
              "      <td>Edgar Lindenau Aabye</td>\n",
              "      <td>M</td>\n",
              "      <td>34</td>\n",
              "      <td>0</td>\n",
              "      <td>0.0</td>\n",
              "      <td>Denmark/Sweden</td>\n",
              "      <td>DEN</td>\n",
              "      <td>1900 Summer</td>\n",
              "      <td>1900.0</td>\n",
              "      <td>Summer</td>\n",
              "      <td>Paris</td>\n",
              "      <td>Tug-Of-War</td>\n",
              "      <td>Tug-Of-War Men's Tug-Of-War</td>\n",
              "      <td>Gold</td>\n",
              "    </tr>\n",
              "    <tr>\n",
              "      <th>4</th>\n",
              "      <td>5</td>\n",
              "      <td>Christine Jacoba Aaftink</td>\n",
              "      <td>F</td>\n",
              "      <td>21</td>\n",
              "      <td>185</td>\n",
              "      <td>82.0</td>\n",
              "      <td>Netherlands</td>\n",
              "      <td>NED</td>\n",
              "      <td>1988 Winter</td>\n",
              "      <td>1988.0</td>\n",
              "      <td>Winter</td>\n",
              "      <td>Calgary</td>\n",
              "      <td>Speed Skating</td>\n",
              "      <td>Speed Skating Women's 500 metres</td>\n",
              "      <td>0</td>\n",
              "    </tr>\n",
              "  </tbody>\n",
              "</table>\n",
              "</div>"
            ],
            "text/plain": [
              "   ID                      Name  ...                             Event  Medal\n",
              "0   1                 A Dijiang  ...       Basketball Men's Basketball      0\n",
              "1   2                  A Lamusi  ...      Judo Men's Extra-Lightweight      0\n",
              "2   3       Gunnar Nielsen Aaby  ...           Football Men's Football      0\n",
              "3   4      Edgar Lindenau Aabye  ...       Tug-Of-War Men's Tug-Of-War   Gold\n",
              "4   5  Christine Jacoba Aaftink  ...  Speed Skating Women's 500 metres      0\n",
              "\n",
              "[5 rows x 15 columns]"
            ]
          },
          "metadata": {},
          "execution_count": 17
        }
      ]
    },
    {
      "cell_type": "markdown",
      "metadata": {
        "id": "9LN9x6C50AXH"
      },
      "source": [
        "RANDOM FOREST"
      ]
    },
    {
      "cell_type": "code",
      "metadata": {
        "colab": {
          "base_uri": "https://localhost:8080/"
        },
        "id": "FhiJ-QLu0ROf",
        "outputId": "ca1bcfad-413d-473a-e204-2cbdfc32a7cb"
      },
      "source": [
        "pip install h2o"
      ],
      "execution_count": null,
      "outputs": [
        {
          "output_type": "stream",
          "name": "stdout",
          "text": [
            "Collecting h2o\n",
            "  Downloading h2o-3.34.0.3.tar.gz (175.8 MB)\n",
            "\u001b[K     |████████████████████████████████| 175.8 MB 30 kB/s \n",
            "\u001b[?25hRequirement already satisfied: requests in /usr/local/lib/python3.7/dist-packages (from h2o) (2.23.0)\n",
            "Requirement already satisfied: tabulate in /usr/local/lib/python3.7/dist-packages (from h2o) (0.8.9)\n",
            "Requirement already satisfied: future in /usr/local/lib/python3.7/dist-packages (from h2o) (0.16.0)\n",
            "Requirement already satisfied: chardet<4,>=3.0.2 in /usr/local/lib/python3.7/dist-packages (from requests->h2o) (3.0.4)\n",
            "Requirement already satisfied: idna<3,>=2.5 in /usr/local/lib/python3.7/dist-packages (from requests->h2o) (2.10)\n",
            "Requirement already satisfied: certifi>=2017.4.17 in /usr/local/lib/python3.7/dist-packages (from requests->h2o) (2021.5.30)\n",
            "Requirement already satisfied: urllib3!=1.25.0,!=1.25.1,<1.26,>=1.21.1 in /usr/local/lib/python3.7/dist-packages (from requests->h2o) (1.24.3)\n",
            "Building wheels for collected packages: h2o\n",
            "  Building wheel for h2o (setup.py) ... \u001b[?25l\u001b[?25hdone\n",
            "  Created wheel for h2o: filename=h2o-3.34.0.3-py2.py3-none-any.whl size=175832480 sha256=f627bcaac8a7c87ba427066badce875ac4fe888f25088edd4da302b2229af42d\n",
            "  Stored in directory: /root/.cache/pip/wheels/2a/52/cf/01f6938288f0731963463ff72510db67f9f3076f801038b2f7\n",
            "Successfully built h2o\n",
            "Installing collected packages: h2o\n",
            "Successfully installed h2o-3.34.0.3\n"
          ]
        }
      ]
    },
    {
      "cell_type": "code",
      "metadata": {
        "id": "MBIdNaWc0C_1"
      },
      "source": [
        "import h2o\n",
        "from h2o.estimators import H2ORandomForestEstimator"
      ],
      "execution_count": null,
      "outputs": []
    },
    {
      "cell_type": "code",
      "metadata": {
        "colab": {
          "base_uri": "https://localhost:8080/",
          "height": 545
        },
        "id": "qAZAwIBH0KJF",
        "outputId": "1ec15f5d-7823-4d0f-c6bf-ec8126407dd6"
      },
      "source": [
        "h2o.init()"
      ],
      "execution_count": null,
      "outputs": [
        {
          "output_type": "stream",
          "name": "stdout",
          "text": [
            "Checking whether there is an H2O instance running at http://localhost:54321 ..... not found.\n",
            "Attempting to start a local H2O server...\n",
            "  Java Version: openjdk version \"11.0.11\" 2021-04-20; OpenJDK Runtime Environment (build 11.0.11+9-Ubuntu-0ubuntu2.18.04); OpenJDK 64-Bit Server VM (build 11.0.11+9-Ubuntu-0ubuntu2.18.04, mixed mode, sharing)\n",
            "  Starting server from /usr/local/lib/python3.7/dist-packages/h2o/backend/bin/h2o.jar\n",
            "  Ice root: /tmp/tmpnah0e2ib\n",
            "  JVM stdout: /tmp/tmpnah0e2ib/h2o_unknownUser_started_from_python.out\n",
            "  JVM stderr: /tmp/tmpnah0e2ib/h2o_unknownUser_started_from_python.err\n",
            "  Server is running at http://127.0.0.1:54321\n",
            "Connecting to H2O server at http://127.0.0.1:54321 ... successful.\n"
          ]
        },
        {
          "output_type": "display_data",
          "data": {
            "text/html": [
              "<div style=\"overflow:auto\"><table style=\"width:50%\"><tr><td>H2O_cluster_uptime:</td>\n",
              "<td>02 secs</td></tr>\n",
              "<tr><td>H2O_cluster_timezone:</td>\n",
              "<td>Etc/UTC</td></tr>\n",
              "<tr><td>H2O_data_parsing_timezone:</td>\n",
              "<td>UTC</td></tr>\n",
              "<tr><td>H2O_cluster_version:</td>\n",
              "<td>3.34.0.3</td></tr>\n",
              "<tr><td>H2O_cluster_version_age:</td>\n",
              "<td>11 days </td></tr>\n",
              "<tr><td>H2O_cluster_name:</td>\n",
              "<td>H2O_from_python_unknownUser_mi5wyo</td></tr>\n",
              "<tr><td>H2O_cluster_total_nodes:</td>\n",
              "<td>1</td></tr>\n",
              "<tr><td>H2O_cluster_free_memory:</td>\n",
              "<td>3.172 Gb</td></tr>\n",
              "<tr><td>H2O_cluster_total_cores:</td>\n",
              "<td>2</td></tr>\n",
              "<tr><td>H2O_cluster_allowed_cores:</td>\n",
              "<td>2</td></tr>\n",
              "<tr><td>H2O_cluster_status:</td>\n",
              "<td>locked, healthy</td></tr>\n",
              "<tr><td>H2O_connection_url:</td>\n",
              "<td>http://127.0.0.1:54321</td></tr>\n",
              "<tr><td>H2O_connection_proxy:</td>\n",
              "<td>{\"http\": null, \"https\": null}</td></tr>\n",
              "<tr><td>H2O_internal_security:</td>\n",
              "<td>False</td></tr>\n",
              "<tr><td>H2O_API_Extensions:</td>\n",
              "<td>Amazon S3, XGBoost, Algos, AutoML, Core V3, TargetEncoder, Core V4</td></tr>\n",
              "<tr><td>Python_version:</td>\n",
              "<td>3.7.12 final</td></tr></table></div>"
            ],
            "text/plain": [
              "--------------------------  ------------------------------------------------------------------\n",
              "H2O_cluster_uptime:         02 secs\n",
              "H2O_cluster_timezone:       Etc/UTC\n",
              "H2O_data_parsing_timezone:  UTC\n",
              "H2O_cluster_version:        3.34.0.3\n",
              "H2O_cluster_version_age:    11 days\n",
              "H2O_cluster_name:           H2O_from_python_unknownUser_mi5wyo\n",
              "H2O_cluster_total_nodes:    1\n",
              "H2O_cluster_free_memory:    3.172 Gb\n",
              "H2O_cluster_total_cores:    2\n",
              "H2O_cluster_allowed_cores:  2\n",
              "H2O_cluster_status:         locked, healthy\n",
              "H2O_connection_url:         http://127.0.0.1:54321\n",
              "H2O_connection_proxy:       {\"http\": null, \"https\": null}\n",
              "H2O_internal_security:      False\n",
              "H2O_API_Extensions:         Amazon S3, XGBoost, Algos, AutoML, Core V3, TargetEncoder, Core V4\n",
              "Python_version:             3.7.12 final\n",
              "--------------------------  ------------------------------------------------------------------"
            ]
          },
          "metadata": {}
        }
      ]
    },
    {
      "cell_type": "code",
      "metadata": {
        "id": "Wb2gaCQ41PYv"
      },
      "source": [
        "\n",
        "training_columns = ['Sex','Age','Height','Weight','Team','Sport']\n",
        "\n",
        "response_column = 'Medal'"
      ],
      "execution_count": null,
      "outputs": []
    },
    {
      "cell_type": "code",
      "metadata": {
        "id": "2cC2ZGCh14ap",
        "colab": {
          "base_uri": "https://localhost:8080/"
        },
        "outputId": "efe335d1-64f6-4945-bd3c-e25b86eae3fd"
      },
      "source": [
        "data = h2o.import_file('/content/Atletes_event.csv')"
      ],
      "execution_count": null,
      "outputs": [
        {
          "output_type": "stream",
          "name": "stdout",
          "text": [
            "Parse progress: |████████████████████████████████████████████████████████████████| (done) 100%\n"
          ]
        }
      ]
    },
    {
      "cell_type": "code",
      "metadata": {
        "id": "pwFu7keu1yjX"
      },
      "source": [
        "train, test = data.split_frame(ratios=[0.8])"
      ],
      "execution_count": null,
      "outputs": []
    },
    {
      "cell_type": "code",
      "metadata": {
        "id": "YmaikBoo1zZ_"
      },
      "source": [
        "model = H2ORandomForestEstimator(ntrees=50, max_depth=20, nfolds=10)"
      ],
      "execution_count": null,
      "outputs": []
    },
    {
      "cell_type": "code",
      "metadata": {
        "id": "NqF-IsHu2U2j",
        "colab": {
          "base_uri": "https://localhost:8080/"
        },
        "outputId": "f2a616b9-a110-4069-f67c-51479fbddc48"
      },
      "source": [
        "model.train(x=training_columns, y=response_column, training_frame=train)"
      ],
      "execution_count": null,
      "outputs": [
        {
          "output_type": "stream",
          "name": "stdout",
          "text": [
            "drf Model Build progress: |███████████████████████████████████"
          ]
        }
      ]
    },
    {
      "cell_type": "code",
      "metadata": {
        "id": "x7KvhMs72V6z",
        "colab": {
          "base_uri": "https://localhost:8080/",
          "height": 1000
        },
        "outputId": "b7b9957d-4e91-406e-9dd0-daee4a2abac2"
      },
      "source": [
        "performance = model.model_performance(test_data=test)\n",
        "\n",
        "print (performance)"
      ],
      "execution_count": null,
      "outputs": [
        {
          "output_type": "stream",
          "name": "stdout",
          "text": [
            "\n",
            "ModelMetricsMultinomial: drf\n",
            "** Reported on test data. **\n",
            "\n",
            "MSE: 0.23024209870697543\n",
            "RMSE: 0.4798354912956892\n",
            "LogLoss: 0.6543414255432523\n",
            "Mean Per-Class Error: 0.21869733763079974\n",
            "AUC: NaN\n",
            "AUCPR: NaN\n",
            "Multinomial auc values: Table is not computed because it is disabled (model parameter 'auc_type' is set to AUTO or NONE) or due to domain size (maximum is 50 domains).\n",
            "Multinomial auc_pr values: Table is not computed because it is disabled (model parameter 'auc_type' is set to AUTO or NONE) or due to domain size (maximum is 50 domains).\n",
            "\n",
            "Confusion Matrix: Row labels: Actual class; Column labels: Predicted class\n"
          ]
        },
        {
          "output_type": "display_data",
          "data": {
            "text/html": [
              "<div>\n",
              "<style scoped>\n",
              "    .dataframe tbody tr th:only-of-type {\n",
              "        vertical-align: middle;\n",
              "    }\n",
              "\n",
              "    .dataframe tbody tr th {\n",
              "        vertical-align: top;\n",
              "    }\n",
              "\n",
              "    .dataframe thead th {\n",
              "        text-align: right;\n",
              "    }\n",
              "</style>\n",
              "<table border=\"1\" class=\"dataframe\">\n",
              "  <thead>\n",
              "    <tr style=\"text-align: right;\">\n",
              "      <th></th>\n",
              "      <th>1992 Summer</th>\n",
              "      <th>41</th>\n",
              "      <th>42</th>\n",
              "      <th>Bronze</th>\n",
              "      <th>Cross Country Skiing Men's Team Sprint</th>\n",
              "      <th>F</th>\n",
              "      <th>Gold</th>\n",
              "      <th>Helsinki</th>\n",
              "      <th>London</th>\n",
              "      <th>M</th>\n",
              "      <th>Norway</th>\n",
              "      <th>Seoul</th>\n",
              "      <th>Silver</th>\n",
              "      <th>Sochi</th>\n",
              "      <th>Summer</th>\n",
              "      <th>Sydney</th>\n",
              "      <th>Winter</th>\n",
              "      <th>Error</th>\n",
              "      <th>Rate</th>\n",
              "    </tr>\n",
              "  </thead>\n",
              "  <tbody>\n",
              "    <tr>\n",
              "      <th>0</th>\n",
              "      <td>0.0</td>\n",
              "      <td>0.0</td>\n",
              "      <td>0.0</td>\n",
              "      <td>0.0</td>\n",
              "      <td>0.0</td>\n",
              "      <td>0.0</td>\n",
              "      <td>0.0</td>\n",
              "      <td>0.0</td>\n",
              "      <td>0.0</td>\n",
              "      <td>0.0</td>\n",
              "      <td>0.0</td>\n",
              "      <td>0.0</td>\n",
              "      <td>0.0</td>\n",
              "      <td>0.0</td>\n",
              "      <td>0.0</td>\n",
              "      <td>0.0</td>\n",
              "      <td>0.0</td>\n",
              "      <td>NaN</td>\n",
              "      <td>0 / 0</td>\n",
              "    </tr>\n",
              "    <tr>\n",
              "      <th>1</th>\n",
              "      <td>0.0</td>\n",
              "      <td>0.0</td>\n",
              "      <td>0.0</td>\n",
              "      <td>0.0</td>\n",
              "      <td>0.0</td>\n",
              "      <td>0.0</td>\n",
              "      <td>0.0</td>\n",
              "      <td>0.0</td>\n",
              "      <td>0.0</td>\n",
              "      <td>0.0</td>\n",
              "      <td>0.0</td>\n",
              "      <td>0.0</td>\n",
              "      <td>0.0</td>\n",
              "      <td>0.0</td>\n",
              "      <td>0.0</td>\n",
              "      <td>0.0</td>\n",
              "      <td>0.0</td>\n",
              "      <td>NaN</td>\n",
              "      <td>0 / 0</td>\n",
              "    </tr>\n",
              "    <tr>\n",
              "      <th>2</th>\n",
              "      <td>0.0</td>\n",
              "      <td>0.0</td>\n",
              "      <td>0.0</td>\n",
              "      <td>0.0</td>\n",
              "      <td>0.0</td>\n",
              "      <td>0.0</td>\n",
              "      <td>0.0</td>\n",
              "      <td>0.0</td>\n",
              "      <td>0.0</td>\n",
              "      <td>0.0</td>\n",
              "      <td>0.0</td>\n",
              "      <td>0.0</td>\n",
              "      <td>0.0</td>\n",
              "      <td>0.0</td>\n",
              "      <td>0.0</td>\n",
              "      <td>0.0</td>\n",
              "      <td>0.0</td>\n",
              "      <td>NaN</td>\n",
              "      <td>0 / 0</td>\n",
              "    </tr>\n",
              "    <tr>\n",
              "      <th>3</th>\n",
              "      <td>0.0</td>\n",
              "      <td>0.0</td>\n",
              "      <td>0.0</td>\n",
              "      <td>4073.0</td>\n",
              "      <td>0.0</td>\n",
              "      <td>0.0</td>\n",
              "      <td>612.0</td>\n",
              "      <td>0.0</td>\n",
              "      <td>0.0</td>\n",
              "      <td>0.0</td>\n",
              "      <td>0.0</td>\n",
              "      <td>0.0</td>\n",
              "      <td>567.0</td>\n",
              "      <td>0.0</td>\n",
              "      <td>0.0</td>\n",
              "      <td>0.0</td>\n",
              "      <td>0.0</td>\n",
              "      <td>0.224486</td>\n",
              "      <td>1,179 / 5,252</td>\n",
              "    </tr>\n",
              "    <tr>\n",
              "      <th>4</th>\n",
              "      <td>0.0</td>\n",
              "      <td>0.0</td>\n",
              "      <td>0.0</td>\n",
              "      <td>0.0</td>\n",
              "      <td>0.0</td>\n",
              "      <td>0.0</td>\n",
              "      <td>0.0</td>\n",
              "      <td>0.0</td>\n",
              "      <td>0.0</td>\n",
              "      <td>0.0</td>\n",
              "      <td>0.0</td>\n",
              "      <td>0.0</td>\n",
              "      <td>0.0</td>\n",
              "      <td>0.0</td>\n",
              "      <td>0.0</td>\n",
              "      <td>0.0</td>\n",
              "      <td>0.0</td>\n",
              "      <td>NaN</td>\n",
              "      <td>0 / 0</td>\n",
              "    </tr>\n",
              "    <tr>\n",
              "      <th>5</th>\n",
              "      <td>0.0</td>\n",
              "      <td>0.0</td>\n",
              "      <td>0.0</td>\n",
              "      <td>0.0</td>\n",
              "      <td>0.0</td>\n",
              "      <td>0.0</td>\n",
              "      <td>0.0</td>\n",
              "      <td>0.0</td>\n",
              "      <td>0.0</td>\n",
              "      <td>0.0</td>\n",
              "      <td>0.0</td>\n",
              "      <td>0.0</td>\n",
              "      <td>0.0</td>\n",
              "      <td>0.0</td>\n",
              "      <td>0.0</td>\n",
              "      <td>0.0</td>\n",
              "      <td>0.0</td>\n",
              "      <td>NaN</td>\n",
              "      <td>0 / 0</td>\n",
              "    </tr>\n",
              "    <tr>\n",
              "      <th>6</th>\n",
              "      <td>0.0</td>\n",
              "      <td>0.0</td>\n",
              "      <td>0.0</td>\n",
              "      <td>461.0</td>\n",
              "      <td>0.0</td>\n",
              "      <td>0.0</td>\n",
              "      <td>4155.0</td>\n",
              "      <td>0.0</td>\n",
              "      <td>0.0</td>\n",
              "      <td>0.0</td>\n",
              "      <td>0.0</td>\n",
              "      <td>0.0</td>\n",
              "      <td>610.0</td>\n",
              "      <td>0.0</td>\n",
              "      <td>0.0</td>\n",
              "      <td>0.0</td>\n",
              "      <td>0.0</td>\n",
              "      <td>0.204937</td>\n",
              "      <td>1,071 / 5,226</td>\n",
              "    </tr>\n",
              "    <tr>\n",
              "      <th>7</th>\n",
              "      <td>0.0</td>\n",
              "      <td>0.0</td>\n",
              "      <td>0.0</td>\n",
              "      <td>0.0</td>\n",
              "      <td>0.0</td>\n",
              "      <td>0.0</td>\n",
              "      <td>0.0</td>\n",
              "      <td>0.0</td>\n",
              "      <td>0.0</td>\n",
              "      <td>0.0</td>\n",
              "      <td>0.0</td>\n",
              "      <td>0.0</td>\n",
              "      <td>0.0</td>\n",
              "      <td>0.0</td>\n",
              "      <td>0.0</td>\n",
              "      <td>0.0</td>\n",
              "      <td>0.0</td>\n",
              "      <td>NaN</td>\n",
              "      <td>0 / 0</td>\n",
              "    </tr>\n",
              "    <tr>\n",
              "      <th>8</th>\n",
              "      <td>0.0</td>\n",
              "      <td>0.0</td>\n",
              "      <td>0.0</td>\n",
              "      <td>1.0</td>\n",
              "      <td>0.0</td>\n",
              "      <td>0.0</td>\n",
              "      <td>0.0</td>\n",
              "      <td>0.0</td>\n",
              "      <td>0.0</td>\n",
              "      <td>0.0</td>\n",
              "      <td>0.0</td>\n",
              "      <td>0.0</td>\n",
              "      <td>0.0</td>\n",
              "      <td>0.0</td>\n",
              "      <td>0.0</td>\n",
              "      <td>0.0</td>\n",
              "      <td>0.0</td>\n",
              "      <td>1.000000</td>\n",
              "      <td>1 / 1</td>\n",
              "    </tr>\n",
              "    <tr>\n",
              "      <th>9</th>\n",
              "      <td>0.0</td>\n",
              "      <td>0.0</td>\n",
              "      <td>0.0</td>\n",
              "      <td>0.0</td>\n",
              "      <td>0.0</td>\n",
              "      <td>0.0</td>\n",
              "      <td>0.0</td>\n",
              "      <td>0.0</td>\n",
              "      <td>0.0</td>\n",
              "      <td>0.0</td>\n",
              "      <td>0.0</td>\n",
              "      <td>0.0</td>\n",
              "      <td>0.0</td>\n",
              "      <td>0.0</td>\n",
              "      <td>0.0</td>\n",
              "      <td>0.0</td>\n",
              "      <td>0.0</td>\n",
              "      <td>NaN</td>\n",
              "      <td>0 / 0</td>\n",
              "    </tr>\n",
              "    <tr>\n",
              "      <th>10</th>\n",
              "      <td>0.0</td>\n",
              "      <td>0.0</td>\n",
              "      <td>0.0</td>\n",
              "      <td>0.0</td>\n",
              "      <td>0.0</td>\n",
              "      <td>0.0</td>\n",
              "      <td>0.0</td>\n",
              "      <td>0.0</td>\n",
              "      <td>0.0</td>\n",
              "      <td>0.0</td>\n",
              "      <td>0.0</td>\n",
              "      <td>0.0</td>\n",
              "      <td>0.0</td>\n",
              "      <td>0.0</td>\n",
              "      <td>0.0</td>\n",
              "      <td>0.0</td>\n",
              "      <td>0.0</td>\n",
              "      <td>NaN</td>\n",
              "      <td>0 / 0</td>\n",
              "    </tr>\n",
              "    <tr>\n",
              "      <th>11</th>\n",
              "      <td>0.0</td>\n",
              "      <td>0.0</td>\n",
              "      <td>0.0</td>\n",
              "      <td>0.0</td>\n",
              "      <td>0.0</td>\n",
              "      <td>0.0</td>\n",
              "      <td>0.0</td>\n",
              "      <td>0.0</td>\n",
              "      <td>0.0</td>\n",
              "      <td>0.0</td>\n",
              "      <td>0.0</td>\n",
              "      <td>0.0</td>\n",
              "      <td>0.0</td>\n",
              "      <td>0.0</td>\n",
              "      <td>0.0</td>\n",
              "      <td>0.0</td>\n",
              "      <td>0.0</td>\n",
              "      <td>NaN</td>\n",
              "      <td>0 / 0</td>\n",
              "    </tr>\n",
              "    <tr>\n",
              "      <th>12</th>\n",
              "      <td>0.0</td>\n",
              "      <td>0.0</td>\n",
              "      <td>0.0</td>\n",
              "      <td>662.0</td>\n",
              "      <td>0.0</td>\n",
              "      <td>0.0</td>\n",
              "      <td>839.0</td>\n",
              "      <td>0.0</td>\n",
              "      <td>0.0</td>\n",
              "      <td>0.0</td>\n",
              "      <td>0.0</td>\n",
              "      <td>0.0</td>\n",
              "      <td>3703.0</td>\n",
              "      <td>0.0</td>\n",
              "      <td>0.0</td>\n",
              "      <td>0.0</td>\n",
              "      <td>0.0</td>\n",
              "      <td>0.288432</td>\n",
              "      <td>1,501 / 5,204</td>\n",
              "    </tr>\n",
              "    <tr>\n",
              "      <th>13</th>\n",
              "      <td>0.0</td>\n",
              "      <td>0.0</td>\n",
              "      <td>0.0</td>\n",
              "      <td>0.0</td>\n",
              "      <td>0.0</td>\n",
              "      <td>0.0</td>\n",
              "      <td>0.0</td>\n",
              "      <td>0.0</td>\n",
              "      <td>0.0</td>\n",
              "      <td>0.0</td>\n",
              "      <td>0.0</td>\n",
              "      <td>0.0</td>\n",
              "      <td>1.0</td>\n",
              "      <td>0.0</td>\n",
              "      <td>0.0</td>\n",
              "      <td>0.0</td>\n",
              "      <td>0.0</td>\n",
              "      <td>1.000000</td>\n",
              "      <td>1 / 1</td>\n",
              "    </tr>\n",
              "    <tr>\n",
              "      <th>14</th>\n",
              "      <td>0.0</td>\n",
              "      <td>0.0</td>\n",
              "      <td>0.0</td>\n",
              "      <td>0.0</td>\n",
              "      <td>0.0</td>\n",
              "      <td>0.0</td>\n",
              "      <td>0.0</td>\n",
              "      <td>0.0</td>\n",
              "      <td>0.0</td>\n",
              "      <td>0.0</td>\n",
              "      <td>0.0</td>\n",
              "      <td>0.0</td>\n",
              "      <td>0.0</td>\n",
              "      <td>0.0</td>\n",
              "      <td>0.0</td>\n",
              "      <td>0.0</td>\n",
              "      <td>0.0</td>\n",
              "      <td>NaN</td>\n",
              "      <td>0 / 0</td>\n",
              "    </tr>\n",
              "    <tr>\n",
              "      <th>15</th>\n",
              "      <td>0.0</td>\n",
              "      <td>0.0</td>\n",
              "      <td>0.0</td>\n",
              "      <td>0.0</td>\n",
              "      <td>0.0</td>\n",
              "      <td>0.0</td>\n",
              "      <td>0.0</td>\n",
              "      <td>0.0</td>\n",
              "      <td>0.0</td>\n",
              "      <td>0.0</td>\n",
              "      <td>0.0</td>\n",
              "      <td>0.0</td>\n",
              "      <td>0.0</td>\n",
              "      <td>0.0</td>\n",
              "      <td>0.0</td>\n",
              "      <td>0.0</td>\n",
              "      <td>0.0</td>\n",
              "      <td>NaN</td>\n",
              "      <td>0 / 0</td>\n",
              "    </tr>\n",
              "    <tr>\n",
              "      <th>16</th>\n",
              "      <td>0.0</td>\n",
              "      <td>0.0</td>\n",
              "      <td>0.0</td>\n",
              "      <td>1.0</td>\n",
              "      <td>0.0</td>\n",
              "      <td>0.0</td>\n",
              "      <td>0.0</td>\n",
              "      <td>0.0</td>\n",
              "      <td>0.0</td>\n",
              "      <td>0.0</td>\n",
              "      <td>0.0</td>\n",
              "      <td>0.0</td>\n",
              "      <td>0.0</td>\n",
              "      <td>0.0</td>\n",
              "      <td>0.0</td>\n",
              "      <td>0.0</td>\n",
              "      <td>0.0</td>\n",
              "      <td>1.000000</td>\n",
              "      <td>1 / 1</td>\n",
              "    </tr>\n",
              "    <tr>\n",
              "      <th>17</th>\n",
              "      <td>0.0</td>\n",
              "      <td>0.0</td>\n",
              "      <td>0.0</td>\n",
              "      <td>5198.0</td>\n",
              "      <td>0.0</td>\n",
              "      <td>0.0</td>\n",
              "      <td>5606.0</td>\n",
              "      <td>0.0</td>\n",
              "      <td>0.0</td>\n",
              "      <td>0.0</td>\n",
              "      <td>0.0</td>\n",
              "      <td>0.0</td>\n",
              "      <td>4881.0</td>\n",
              "      <td>0.0</td>\n",
              "      <td>0.0</td>\n",
              "      <td>0.0</td>\n",
              "      <td>0.0</td>\n",
              "      <td>0.239337</td>\n",
              "      <td>3,754 / 15,685</td>\n",
              "    </tr>\n",
              "  </tbody>\n",
              "</table>\n",
              "</div>"
            ],
            "text/plain": [
              "    1992 Summer   41   42  Bronze  ...  Sydney  Winter     Error            Rate\n",
              "0           0.0  0.0  0.0     0.0  ...     0.0     0.0       NaN           0 / 0\n",
              "1           0.0  0.0  0.0     0.0  ...     0.0     0.0       NaN           0 / 0\n",
              "2           0.0  0.0  0.0     0.0  ...     0.0     0.0       NaN           0 / 0\n",
              "3           0.0  0.0  0.0  4073.0  ...     0.0     0.0  0.224486   1,179 / 5,252\n",
              "4           0.0  0.0  0.0     0.0  ...     0.0     0.0       NaN           0 / 0\n",
              "5           0.0  0.0  0.0     0.0  ...     0.0     0.0       NaN           0 / 0\n",
              "6           0.0  0.0  0.0   461.0  ...     0.0     0.0  0.204937   1,071 / 5,226\n",
              "7           0.0  0.0  0.0     0.0  ...     0.0     0.0       NaN           0 / 0\n",
              "8           0.0  0.0  0.0     1.0  ...     0.0     0.0  1.000000           1 / 1\n",
              "9           0.0  0.0  0.0     0.0  ...     0.0     0.0       NaN           0 / 0\n",
              "10          0.0  0.0  0.0     0.0  ...     0.0     0.0       NaN           0 / 0\n",
              "11          0.0  0.0  0.0     0.0  ...     0.0     0.0       NaN           0 / 0\n",
              "12          0.0  0.0  0.0   662.0  ...     0.0     0.0  0.288432   1,501 / 5,204\n",
              "13          0.0  0.0  0.0     0.0  ...     0.0     0.0  1.000000           1 / 1\n",
              "14          0.0  0.0  0.0     0.0  ...     0.0     0.0       NaN           0 / 0\n",
              "15          0.0  0.0  0.0     0.0  ...     0.0     0.0       NaN           0 / 0\n",
              "16          0.0  0.0  0.0     1.0  ...     0.0     0.0  1.000000           1 / 1\n",
              "17          0.0  0.0  0.0  5198.0  ...     0.0     0.0  0.239337  3,754 / 15,685\n",
              "\n",
              "[18 rows x 19 columns]"
            ]
          },
          "metadata": {}
        },
        {
          "output_type": "stream",
          "name": "stdout",
          "text": [
            "\n",
            "Top-10 Hit Ratios: \n"
          ]
        },
        {
          "output_type": "display_data",
          "data": {
            "text/html": [
              "<div>\n",
              "<style scoped>\n",
              "    .dataframe tbody tr th:only-of-type {\n",
              "        vertical-align: middle;\n",
              "    }\n",
              "\n",
              "    .dataframe tbody tr th {\n",
              "        vertical-align: top;\n",
              "    }\n",
              "\n",
              "    .dataframe thead th {\n",
              "        text-align: right;\n",
              "    }\n",
              "</style>\n",
              "<table border=\"1\" class=\"dataframe\">\n",
              "  <thead>\n",
              "    <tr style=\"text-align: right;\">\n",
              "      <th></th>\n",
              "      <th>k</th>\n",
              "      <th>hit_ratio</th>\n",
              "    </tr>\n",
              "  </thead>\n",
              "  <tbody>\n",
              "    <tr>\n",
              "      <th>0</th>\n",
              "      <td>1</td>\n",
              "      <td>0.760663</td>\n",
              "    </tr>\n",
              "    <tr>\n",
              "      <th>1</th>\n",
              "      <td>2</td>\n",
              "      <td>0.941983</td>\n",
              "    </tr>\n",
              "    <tr>\n",
              "      <th>2</th>\n",
              "      <td>3</td>\n",
              "      <td>0.999809</td>\n",
              "    </tr>\n",
              "    <tr>\n",
              "      <th>3</th>\n",
              "      <td>4</td>\n",
              "      <td>0.999809</td>\n",
              "    </tr>\n",
              "    <tr>\n",
              "      <th>4</th>\n",
              "      <td>5</td>\n",
              "      <td>0.999809</td>\n",
              "    </tr>\n",
              "    <tr>\n",
              "      <th>5</th>\n",
              "      <td>6</td>\n",
              "      <td>0.999809</td>\n",
              "    </tr>\n",
              "    <tr>\n",
              "      <th>6</th>\n",
              "      <td>7</td>\n",
              "      <td>0.999809</td>\n",
              "    </tr>\n",
              "    <tr>\n",
              "      <th>7</th>\n",
              "      <td>8</td>\n",
              "      <td>0.999809</td>\n",
              "    </tr>\n",
              "    <tr>\n",
              "      <th>8</th>\n",
              "      <td>9</td>\n",
              "      <td>0.999809</td>\n",
              "    </tr>\n",
              "    <tr>\n",
              "      <th>9</th>\n",
              "      <td>10</td>\n",
              "      <td>0.999809</td>\n",
              "    </tr>\n",
              "  </tbody>\n",
              "</table>\n",
              "</div>"
            ],
            "text/plain": [
              "    k  hit_ratio\n",
              "0   1   0.760663\n",
              "1   2   0.941983\n",
              "2   3   0.999809\n",
              "3   4   0.999809\n",
              "4   5   0.999809\n",
              "5   6   0.999809\n",
              "6   7   0.999809\n",
              "7   8   0.999809\n",
              "8   9   0.999809\n",
              "9  10   0.999809"
            ]
          },
          "metadata": {}
        },
        {
          "output_type": "stream",
          "name": "stdout",
          "text": [
            "\n"
          ]
        }
      ]
    },
    {
      "cell_type": "markdown",
      "metadata": {
        "id": "aWgnznLxOKtU"
      },
      "source": [
        "CONCLUSIÓN\n",
        "\n",
        "En el modelo de bosques de arboles de decision se procede a dividir los dato en un 80% para entrenamiento y el resto para validación. Asimismo se clasifican 6 condiciones estrechamente relacionadas a la caracterización de cada atleta como variables explicativas y se titula a la variable Medal como el valor a predecir, es decir, a partir de un conjunto de 6 caracteristicas buscamos explicar el resultado obtenido en la competencia medido a partir de medallas.\n",
        "\n",
        "Los hiperparametros del modelo se establecen en 50 arboles, 20 subdivisiones y 10 cortes por cada arbol, lo que es una parametrizacion 'estandar' dentro de la literatura que nos permite un amplio nivel explorativo y de profundidad balanceado con la capacidad de computo requerida.\n",
        "\n",
        "Los resultados del modelo no son conclusivos, ya que si bien obtenemos un conjunto de metricas positivas, entre ellas un 77.46% de poder explicativo promedio en los distintos niveles contemplando las 6 categorias, existe un conjunto de resultados diferenciados que conviven entre si en una misma prediccion, este resultado apunta a la configuracion de la variable Medal que contempla no solo un nivel categorico ordinal, sino que acumula informacion cuantitativa sobre el desempeño del atleta traducido en medallas. Un posible ajuste a este analisis puede ser un tratamiento distinto a dicha variable.\n",
        "\n",
        "Uno de los resultados más relevantes descansa en la jerarquización por relevancia de las variables explicativas, en donde destacan el equipo, el deporte y la edad; seguidas por el peso, la estatura y el sexo respectivamente. Lo anterior apunta a que los equipos o países se pueden apreciar como una entidad mas o menos homogenea en el desarrollo de sus atletas internos, es decir, la diferenciación dentro de un mismo equipo resulta de confusa y podemos plantear que un mismo equipo tiene metodologias, filosofias, objetivos, entrenamientos, etc. compartidos que impactan directamente en el desempeño de sus atletas.\n",
        "\n",
        "Por otro lado, el deporte representa un tema más complejo de esclarecer ya que el papel que juega dentro de la dinamica es el de segmentación de los atletas y podemos entonces presumir una diferenciación clara en al menos dos grupos distintos de atletas entre deportes, es decir, el perfil de atletas de al menos dos deportes es significativamente distinto. Y si entrelazamos esta interpretación con la anterior, podemos especular que existen equipos que cuentan con una mayor predisposicion hacia ciertos deportes en los cuales tendran un mejor rendimiento.\n",
        "\n",
        "La edad, el peso y la estatura son descriptores fisionomicos de los atletas que prodiamos presuponer que estan correlacionados con su pais de origen dado a la evidente diferenciación de las medias poblacionales de estas variables entre paises. Por lo tanto podríamos indicar que en cierta medida este vector de caracteristicas tiene una representación en el impacto general de la variable equipo. Sin embargo resultan lo suficientemente robustos como para abarcar un 30% de nivel explicativo dentro de nuestro modelo.\n",
        "\n",
        "En conclusión, el modelo de bosques de arboles de decision reuslta una tecnica válida para este tipo de problemas que ademas de concretarse en un mecanismo de prediccion estable y especifco, tambien nos entrega un conjunto de interpretaciones relevantes para nuestro estudio. Finalmente, el modelo puede mejorarse a partir de un tratamiento distinto de sus variables, distintas simulaciones con configuraciones de sus hiperparametros distintas, que quedan fuera de este ejercicio dada la carga de computo, asi como un análisis de componentes principales para contrastar las hipotesis aqui propuestas."
      ]
    }
  ]
}