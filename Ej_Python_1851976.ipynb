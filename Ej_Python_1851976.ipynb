{
  "nbformat": 4,
  "nbformat_minor": 0,
  "metadata": {
    "colab": {
      "name": "Untitled0.ipynb",
      "provenance": [],
      "collapsed_sections": [],
      "authorship_tag": "ABX9TyMw5LnJor4D1XWTNVWDvBZy",
      "include_colab_link": true
    },
    "kernelspec": {
      "name": "python3",
      "display_name": "Python 3"
    },
    "language_info": {
      "name": "python"
    }
  },
  "cells": [
    {
      "cell_type": "markdown",
      "metadata": {
        "id": "view-in-github",
        "colab_type": "text"
      },
      "source": [
        "<a href=\"https://colab.research.google.com/github/calebmarentes10/Mineria-de-datos-/blob/main/Ej_Python_1851976.ipynb\" target=\"_parent\"><img src=\"https://colab.research.google.com/assets/colab-badge.svg\" alt=\"Open In Colab\"/></a>"
      ]
    },
    {
      "cell_type": "markdown",
      "metadata": {
        "id": "xQW-YzDMzAwk"
      },
      "source": [
        "Programa 1"
      ]
    },
    {
      "cell_type": "code",
      "metadata": {
        "colab": {
          "base_uri": "https://localhost:8080/"
        },
        "id": "mVoK5zrdzCo6",
        "outputId": "6091fb55-0f84-4e53-f938-79e4a4c87f5c"
      },
      "source": [
        "print(\"Hola mundo!! \")"
      ],
      "execution_count": 5,
      "outputs": [
        {
          "output_type": "stream",
          "text": [
            "Hola mundo!! \n"
          ],
          "name": "stdout"
        }
      ]
    },
    {
      "cell_type": "markdown",
      "metadata": {
        "id": "cBowAYr8zYA-"
      },
      "source": [
        "Ejercicio 1:\n",
        "Realiza una variable con tu matricula y realiza una secuencia de imprimir con tu nombre y tu matricula concatenados."
      ]
    },
    {
      "cell_type": "code",
      "metadata": {
        "colab": {
          "base_uri": "https://localhost:8080/"
        },
        "id": "xoOpU7I9zyvP",
        "outputId": "dd693d3f-7f9b-44bc-8e8f-3ca83ba253d1"
      },
      "source": [
        "matri=int( input('Escriba su matrícula: ') )\n",
        "nomb=str( input('Escriba su nombre: ') )\n",
        "\n",
        "print('{}_{}'.format(matri,nomb))"
      ],
      "execution_count": 18,
      "outputs": [
        {
          "output_type": "stream",
          "text": [
            "Escriba su matrícula: 1851976\n",
            "Escriba su nombre: Caleb Marentes Camarillo\n",
            "1851976_Caleb Marentes Camarillo\n"
          ],
          "name": "stdout"
        }
      ]
    },
    {
      "cell_type": "markdown",
      "metadata": {
        "id": "y9g-QG8Y0vZn"
      },
      "source": [
        "\n",
        "Ejercicio 2:\n",
        "Pidiendo el input del usuario pide dos números y crea una pequeña calculadora con los operadores básicos de suma, resta, multiplicación, división, y exponente.\n",
        "\n",
        "Utilizando el loop de while:\n",
        "\n"
      ]
    },
    {
      "cell_type": "code",
      "metadata": {
        "colab": {
          "base_uri": "https://localhost:8080/"
        },
        "id": "bWPxsTav07Oe",
        "outputId": "16f46b79-aecd-4269-a22a-39bf1a917b59"
      },
      "source": [
        "numero1=int( input('Escriba el primer numero: ') )\n",
        "numero2=int( input('Escriba el segundo numero: ') )\n",
        "\n",
        "ope=str( input('\\n¿Que operación realizara?\\n Las operaciones   son suma(+), resta(-), multiplicación(*), división(/) y potencia(^): ') )\n",
        "while ope!='+' and ope!='-' and ope!='*' and ope!='/' and ope!='^':\n",
        "    print('\\nERROR!!!\\n Escriba un simbolo disponible')\n",
        "    ope=str( input('\\n¿Que operación realizara?\\nLas operaciones son suma(+), resta(-), multiplicación(*), división(/) y potencia(^): ') )\n",
        "    \n",
        "if ope=='+':\n",
        "    resul=numero1+numero2\n",
        "elif ope=='-':\n",
        "    resul=numero1-numero2\n",
        "elif ope=='*':\n",
        "    resul=numero1*numero2\n",
        "elif ope=='/':\n",
        "    resul=numero1/numero2\n",
        "elif ope=='^':\n",
        "    resul=numero1**numero2\n",
        "\n",
        "print('{} {} {} = {}'.format(numero1,ope,numero2,resul))"
      ],
      "execution_count": 22,
      "outputs": [
        {
          "output_type": "stream",
          "text": [
            "Escriba el primer numero: 1\n",
            "Escriba el segundo numero: 9\n",
            "\n",
            "¿Que operación realizara?\n",
            " Las operaciones   son suma(+), resta(-), multiplicación(*), división(/) y potencia(^): &\n",
            "\n",
            "ERROR!!!\n",
            " Escriba un simbolo disponible\n",
            "\n",
            "¿Que operación realizara?\n",
            "Las operaciones son suma(+), resta(-), multiplicación(*), división(/) y potencia(^): +\n",
            "1 + 9 = 10\n"
          ],
          "name": "stdout"
        }
      ]
    },
    {
      "cell_type": "markdown",
      "metadata": {
        "id": "szlOsdvX1vhK"
      },
      "source": [
        "Ejercicio 3:\n",
        "Con loop while o for, realiza una lista de 10 numeros multiplos de 3, y después realiza una función de loop que sume todos los números dentro del arreglo."
      ]
    },
    {
      "cell_type": "code",
      "metadata": {
        "colab": {
          "base_uri": "https://localhost:8080/"
        },
        "id": "mkcS0QPI4brb",
        "outputId": "0ae05620-fca1-4c16-ff86-24565c85c920"
      },
      "source": [
        "mulde3=[3]\n",
        "for i in range(1,10):\n",
        "    mulde3.insert(i, mulde3[i-1]+3)\n",
        "print(mulde3)\n",
        "\n",
        "sum=0\n",
        "for i in range(len(mulde3)):\n",
        "    sum+=mulde3[i]\n",
        "\n",
        "print('Suma : {}'.format(sum))"
      ],
      "execution_count": 23,
      "outputs": [
        {
          "output_type": "stream",
          "text": [
            "[3, 6, 9, 12, 15, 18, 21, 24, 27, 30]\n",
            "Suma : 165\n"
          ],
          "name": "stdout"
        }
      ]
    },
    {
      "cell_type": "markdown",
      "metadata": {
        "id": "Gxg-_2DS5Nv_"
      },
      "source": [
        "\n",
        "Ejercicio 4:\n",
        "Con una función de if else, revisar si un número es par o es impar.\n",
        "\n",
        "Con una función de if else, revisar si un número es primo o no."
      ]
    },
    {
      "cell_type": "code",
      "metadata": {
        "colab": {
          "base_uri": "https://localhost:8080/"
        },
        "id": "Z7AOm6ls5WIF",
        "outputId": "6db28926-72df-4850-e21d-b7e34974f082"
      },
      "source": [
        "numero=int(input('Ingrese un numero : '))\n",
        "res=numero%2\n",
        "if res==0:\n",
        "    print('El numero {} es par'.format(numero))\n",
        "elif res!=0:\n",
        "    print('El numero {} es impar'.format(numero))\n",
        "\n",
        "n=2\n",
        "band='Verdadero'\n",
        "while band=='Verdadero' and n<numero:\n",
        "    if numero%n==0:\n",
        "        band='Falso'\n",
        "    else:\n",
        "        n+=1\n",
        "if band=='Verdadero':\n",
        "    print('El numero {} es primo'.format(numero))\n",
        "elif band=='Falso':\n",
        "    print('El numero {} no es primo'.format(numero))"
      ],
      "execution_count": 25,
      "outputs": [
        {
          "output_type": "stream",
          "text": [
            "Ingrese un numero : 10\n",
            "El numero 10 es par\n",
            "El numero 10 no es primo\n"
          ],
          "name": "stdout"
        }
      ]
    },
    {
      "cell_type": "markdown",
      "metadata": {
        "id": "gl8lg3UA7x5u"
      },
      "source": [
        "Ejercicio 5:\n",
        "Utilizando diferentes clases en python, crea una calculadora con los operadores básicos de suma, resta, multiplicación, división, y exponente."
      ]
    },
    {
      "cell_type": "markdown",
      "metadata": {
        "id": "CBI08xLs-zkc"
      },
      "source": [
        "Ejercicios con estructuras básicas de python.\n",
        "\n",
        "Tuplas:\n",
        "\n",
        "Crear una variable flotante, integer, boleana y compleja e imprimir el tipo de variable que es.\n",
        "\n",
        "Crear una tupla con valores enteros imprimir el primer y ultimo valor.\n",
        "\n",
        "Añadir 3 valores de string a la tupla.\n",
        "\n",
        "Verificar si una variable existe dentro de la tupla."
      ]
    },
    {
      "cell_type": "code",
      "metadata": {
        "colab": {
          "base_uri": "https://localhost:8080/"
        },
        "id": "D1p-xJFd_d9p",
        "outputId": "728966a4-1154-4efe-b14f-9dc488b229f4"
      },
      "source": [
        "varflotante=1.5\n",
        "varinteger=1\n",
        "varboleana=False\n",
        "varcompleja=1j\n",
        "\n",
        "print('La variable flotante es del tipo: {}'.format(type(varflotante)))\n",
        "print('La variable integer es del tipo: {}'.format(type(varinteger)))\n",
        "print('La variable boleana es del tipo: {}'.format(type(varboleana)))\n",
        "print('La variable compleja es del tipo: {}'.format(type(varcompleja)))\n"
      ],
      "execution_count": 35,
      "outputs": [
        {
          "output_type": "stream",
          "text": [
            "La variable flotante es del tipo: <class 'float'>\n",
            "La variable integer es del tipo: <class 'int'>\n",
            "La variable boleana es del tipo: <class 'bool'>\n",
            "La variable compleja es del tipo: <class 'complex'>\n"
          ],
          "name": "stdout"
        }
      ]
    },
    {
      "cell_type": "code",
      "metadata": {
        "colab": {
          "base_uri": "https://localhost:8080/"
        },
        "id": "g-EvAzl4A8Ec",
        "outputId": "dc68386d-e853-43e4-ed20-431db9d289ae"
      },
      "source": [
        "\n",
        "tuple=(5,3,4,24,20,22,56,34,9,19,34,11,10)\n",
        "print('El primer valor  es {} y el ultimo es {}'.format(tuple[0],tuple[-1]))"
      ],
      "execution_count": 37,
      "outputs": [
        {
          "output_type": "stream",
          "text": [
            "El primer valor  es 5 y el ultimo es 10\n"
          ],
          "name": "stdout"
        }
      ]
    },
    {
      "cell_type": "code",
      "metadata": {
        "colab": {
          "base_uri": "https://localhost:8080/"
        },
        "id": "EUK1ssCiBFYT",
        "outputId": "531c2632-0d8f-43ce-89f9-2eac104b3d7e"
      },
      "source": [
        "newvar=tuple.__add__((300,200,900))\n",
        "newvar"
      ],
      "execution_count": 39,
      "outputs": [
        {
          "output_type": "execute_result",
          "data": {
            "text/plain": [
              "(5, 3, 4, 24, 20, 22, 56, 34, 9, 19, 34, 11, 10, 300, 200, 900)"
            ]
          },
          "metadata": {},
          "execution_count": 39
        }
      ]
    },
    {
      "cell_type": "code",
      "metadata": {
        "colab": {
          "base_uri": "https://localhost:8080/"
        },
        "id": "1sNyoi7XBhP9",
        "outputId": "a39775ca-000a-49ca-eb52-c9d1d5ae41cc"
      },
      "source": [
        "buscar=int(input('Que numero busca: '))\n",
        "\n",
        "aux=buscar in tuple\n",
        "if aux==True:\n",
        "    print('El elemento si se encuentra'.format(buscar))\n",
        "else:\n",
        "    print('El elemento no se encuentra '.format(buscar))"
      ],
      "execution_count": 43,
      "outputs": [
        {
          "output_type": "stream",
          "text": [
            "Que numero busca: 5\n",
            "El elemento si se encuentra\n"
          ],
          "name": "stdout"
        }
      ]
    },
    {
      "cell_type": "markdown",
      "metadata": {
        "id": "taDHR2PVCOXA"
      },
      "source": [
        "Listas:\n",
        "\n",
        "Crear una lista con 40 elementos aleatorios enteros.\n",
        "\n",
        "Con una funcion (def) crear dos listas nuevas a partir de la lista creada por numeros aleatorios, en la cual en una esten los elementos pares, y en la otra los elementos impares.\n",
        "\n",
        "Crear dos variables con la longitud de ambas listas nuevas e imprimir las variables.\n",
        "\n",
        "Ordenar los elementos de la lista par de mayor a menor, y los de la lista impar de menor a mayor.\n",
        "\n",
        "Utilizar al menos cuatro de las funciones de listas en python en la lista original de 40 elementos"
      ]
    },
    {
      "cell_type": "code",
      "metadata": {
        "id": "kLQ8RZWoC8Kz"
      },
      "source": [
        "from random import sample"
      ],
      "execution_count": 49,
      "outputs": []
    },
    {
      "cell_type": "code",
      "metadata": {
        "colab": {
          "base_uri": "https://localhost:8080/"
        },
        "id": "66bJ0rK0C9F_",
        "outputId": "07e3761c-3012-48cf-db47-7d967ac9734e"
      },
      "source": [
        "random=sample(range(0,100),40)\n",
        "print(random)"
      ],
      "execution_count": 53,
      "outputs": [
        {
          "output_type": "stream",
          "text": [
            "[91, 12, 14, 1, 56, 64, 45, 92, 62, 10, 49, 41, 86, 74, 76, 20, 23, 66, 67, 98, 88, 17, 19, 3, 47, 40, 43, 95, 65, 93, 18, 34, 54, 72, 61, 85, 27, 26, 73, 83]\n"
          ],
          "name": "stdout"
        }
      ]
    },
    {
      "cell_type": "code",
      "metadata": {
        "id": "fsVO1fbUDQol"
      },
      "source": [
        "def par_impar(list):\n",
        "    par=[]\n",
        "    impar=[]\n",
        "\n",
        "    for i in range(0,len(list)):\n",
        "        residuo=random[i]%2\n",
        "        if residuo==0:\n",
        "            par.insert(i,random[i])\n",
        "        else:\n",
        "            impar.insert(i,random[i])\n",
        "    \n",
        "    return par,impar\n",
        "\n",
        "    "
      ],
      "execution_count": 56,
      "outputs": []
    },
    {
      "cell_type": "code",
      "metadata": {
        "colab": {
          "base_uri": "https://localhost:8080/"
        },
        "id": "bqP5h1LfD2eV",
        "outputId": "58e240c8-d027-4aa0-f3e2-befbb448b425"
      },
      "source": [
        "a,b=par_impar(random)\n",
        "print(a)\n",
        "\n",
        "print(b)"
      ],
      "execution_count": 61,
      "outputs": [
        {
          "output_type": "stream",
          "text": [
            "[12, 14, 56, 64, 92, 62, 10, 86, 74, 76, 20, 66, 98, 88, 40, 18, 34, 54, 72, 26]\n",
            "[91, 1, 45, 49, 41, 23, 67, 17, 19, 3, 47, 43, 95, 65, 93, 61, 85, 27, 73, 83]\n"
          ],
          "name": "stdout"
        }
      ]
    },
    {
      "cell_type": "code",
      "metadata": {
        "colab": {
          "base_uri": "https://localhost:8080/"
        },
        "id": "Fpc-xDydEOMR",
        "outputId": "07f0073d-c991-4c37-886d-4d3098059800"
      },
      "source": [
        "\n",
        "len1=len(a)\n",
        "len2=len(b)\n",
        "print('La longitud de la lista 1 es: {}'.format(len1))\n",
        "print('La longitud de la lista 2  es: {}'.format(len2))"
      ],
      "execution_count": 62,
      "outputs": [
        {
          "output_type": "stream",
          "text": [
            "La longitud de la lista 1 es: 20\n",
            "La longitud de la lista 2  es: 20\n"
          ],
          "name": "stdout"
        }
      ]
    },
    {
      "cell_type": "code",
      "metadata": {
        "colab": {
          "base_uri": "https://localhost:8080/"
        },
        "id": "9pGVZTslEtT_",
        "outputId": "fa11b242-e85d-4147-f97d-39066ca19945"
      },
      "source": [
        "print(sorted(a,reverse=True))\n",
        "print(sorted(b))"
      ],
      "execution_count": 63,
      "outputs": [
        {
          "output_type": "stream",
          "text": [
            "[98, 92, 88, 86, 76, 74, 72, 66, 64, 62, 56, 54, 40, 34, 26, 20, 18, 14, 12, 10]\n",
            "[1, 3, 17, 19, 23, 27, 41, 43, 45, 47, 49, 61, 65, 67, 73, 83, 85, 91, 93, 95]\n"
          ],
          "name": "stdout"
        }
      ]
    },
    {
      "cell_type": "code",
      "metadata": {
        "id": "epkEdGxaFVm-"
      },
      "source": [
        ""
      ],
      "execution_count": null,
      "outputs": []
    },
    {
      "cell_type": "markdown",
      "metadata": {
        "id": "UX7zCvW6FWep"
      },
      "source": [
        "Diccionarios:\n",
        "\n",
        "Crear un diccionario de 6 personas que conozcas con su primer nombre y su edad.\n",
        "\n",
        "Crear una lista con los valores de la edad y reacomodar la lista de menor a mayor valor.\n",
        "\n",
        "Usando el diccionario y un loop, imprimir solo los nombres.\n",
        "\n",
        "Añadir dos personas nuevas a tu diccionario, incluyendo edad."
      ]
    },
    {
      "cell_type": "code",
      "metadata": {
        "colab": {
          "base_uri": "https://localhost:8080/"
        },
        "id": "d4v5HnGwFjQA",
        "outputId": "7802cf5b-68eb-43c6-fa88-58156bea0876"
      },
      "source": [
        "diccionario = {'Nombre de la persona': ['Arantza','Eliud','Maria','Manuel','Cesar','Imanol'],\n",
        "      'Edad de las personas': [19,20,56,57,25,21]}\n",
        "diccionario"
      ],
      "execution_count": 69,
      "outputs": [
        {
          "output_type": "execute_result",
          "data": {
            "text/plain": [
              "{'Edad de las personas': [19, 20, 56, 57, 25, 21],\n",
              " 'Nombre de la persona': ['Arantza',\n",
              "  'Eliud',\n",
              "  'Maria',\n",
              "  'Manuel',\n",
              "  'Cesar',\n",
              "  'Imanol']}"
            ]
          },
          "metadata": {},
          "execution_count": 69
        }
      ]
    },
    {
      "cell_type": "code",
      "metadata": {
        "colab": {
          "base_uri": "https://localhost:8080/"
        },
        "id": "_6LTp1GBGleT",
        "outputId": "0aab4dc0-f051-4529-df30-378a93a56612"
      },
      "source": [
        "listaedad=diccionario['Edad de las personas']\n",
        "print(sorted(listaedad))"
      ],
      "execution_count": 70,
      "outputs": [
        {
          "output_type": "stream",
          "text": [
            "[19, 20, 21, 25, 56, 57]\n"
          ],
          "name": "stdout"
        }
      ]
    },
    {
      "cell_type": "code",
      "metadata": {
        "colab": {
          "base_uri": "https://localhost:8080/"
        },
        "id": "wh5bMiXYG6jQ",
        "outputId": "c3902424-82e3-4e8f-dffe-427ea4956c9a"
      },
      "source": [
        "listanom=diccionario['Nombre de la persona']\n",
        "for i in range(0,len(listanom)):\n",
        "    print('{}'.format(listanom[i]))"
      ],
      "execution_count": 71,
      "outputs": [
        {
          "output_type": "stream",
          "text": [
            "Arantza\n",
            "Eliud\n",
            "Maria\n",
            "Manuel\n",
            "Cesar\n",
            "Imanol\n"
          ],
          "name": "stdout"
        }
      ]
    },
    {
      "cell_type": "code",
      "metadata": {
        "colab": {
          "base_uri": "https://localhost:8080/"
        },
        "id": "-BcDaBDMHK2h",
        "outputId": "16ec32a9-7854-43a6-bc8a-d113f304c160"
      },
      "source": [
        "X=0\n",
        "while X==0:\n",
        "    nuevonom=str(input('Ingrese un nuevo e nombre : '))\n",
        "    diccionario['Nombre de la persona'].insert(len(diccionario['Nombre de la persona']),nuevonom)\n",
        "    nuevaedad=int(input('Ingrese la edad : '))\n",
        "    diccionario['Edad de las personas'].insert(len(diccionario['Edad de las personas']),nuevaedad)\n",
        "    X=int(input('Si desea agregar otro nombre pulse 0.Siu no pulse 1: '))"
      ],
      "execution_count": 75,
      "outputs": [
        {
          "output_type": "stream",
          "text": [
            "Ingrese un nuevo e nombre : Paulina \n",
            "Ingrese la edad : 20\n",
            "Si desea agregar otro nombre pulse 0.Siu no pulse 1: 0\n",
            "Ingrese un nuevo e nombre : Elsa\n",
            "Ingrese la edad : 75\n",
            "Si desea agregar otro nombre pulse 0.Siu no pulse 1: 1\n"
          ],
          "name": "stdout"
        }
      ]
    },
    {
      "cell_type": "code",
      "metadata": {
        "colab": {
          "base_uri": "https://localhost:8080/"
        },
        "id": "KwPI01poInQB",
        "outputId": "01b2c11d-d6f1-42a0-af5e-431ab064f031"
      },
      "source": [
        "print(diccionario['Nombre de la persona'])\n",
        "print(diccionario['Edad de las personas'])"
      ],
      "execution_count": 76,
      "outputs": [
        {
          "output_type": "stream",
          "text": [
            "['Arantza', 'Eliud', 'Maria', 'Manuel', 'Cesar', 'Imanol', 'Paulina', 'Paulina', 'Paulina', 'Paulina ', 'Elsa']\n",
            "[19, 20, 56, 57, 25, 21, 20, 20, 75]\n"
          ],
          "name": "stdout"
        }
      ]
    },
    {
      "cell_type": "markdown",
      "metadata": {
        "id": "stHgxmEnJCrq"
      },
      "source": [
        "Sets:\n",
        "\n",
        "Crea un set con 100 numeros aleatorios enteros del 1 al 25.\n",
        "\n",
        "Comprueba la longitud de tu set.\n",
        "\n",
        "Crea una lista de 5 numeros aleatorios del 1 al 10 y comprueba si cada valor aparece en el set inicial."
      ]
    },
    {
      "cell_type": "code",
      "metadata": {
        "id": "1Ti-WM1WKpOA"
      },
      "source": [
        "import random"
      ],
      "execution_count": 84,
      "outputs": []
    },
    {
      "cell_type": "code",
      "metadata": {
        "colab": {
          "base_uri": "https://localhost:8080/"
        },
        "id": "zlVsnDLSK8WG",
        "outputId": "f378b3e4-07bc-469f-9121-c8fd37ba3802"
      },
      "source": [
        "primerset=set()\n",
        "for i in range(100):\n",
        "    primerset.add(random.randint(1,25))\n",
        "    \n",
        "primerset"
      ],
      "execution_count": 87,
      "outputs": [
        {
          "output_type": "execute_result",
          "data": {
            "text/plain": [
              "{1,\n",
              " 2,\n",
              " 3,\n",
              " 4,\n",
              " 5,\n",
              " 6,\n",
              " 7,\n",
              " 8,\n",
              " 9,\n",
              " 10,\n",
              " 11,\n",
              " 12,\n",
              " 13,\n",
              " 14,\n",
              " 15,\n",
              " 16,\n",
              " 17,\n",
              " 18,\n",
              " 19,\n",
              " 20,\n",
              " 21,\n",
              " 22,\n",
              " 23,\n",
              " 24,\n",
              " 25}"
            ]
          },
          "metadata": {},
          "execution_count": 87
        }
      ]
    },
    {
      "cell_type": "code",
      "metadata": {
        "colab": {
          "base_uri": "https://localhost:8080/"
        },
        "id": "z6R9FOzOLUlq",
        "outputId": "a5875bed-85d6-4615-ede8-64896ef210a5"
      },
      "source": [
        "print(type(primerset))"
      ],
      "execution_count": 88,
      "outputs": [
        {
          "output_type": "stream",
          "text": [
            "<class 'set'>\n"
          ],
          "name": "stdout"
        }
      ]
    },
    {
      "cell_type": "code",
      "metadata": {
        "colab": {
          "base_uri": "https://localhost:8080/"
        },
        "id": "1bgh7UrZLY5d",
        "outputId": "290e43af-2bf2-4c8d-dfdb-bcc9db1d6f57"
      },
      "source": [
        "print('La longitud es de: {}'.format(len(primerset)))"
      ],
      "execution_count": 89,
      "outputs": [
        {
          "output_type": "stream",
          "text": [
            "La longitud es de: 25\n"
          ],
          "name": "stdout"
        }
      ]
    },
    {
      "cell_type": "code",
      "metadata": {
        "colab": {
          "base_uri": "https://localhost:8080/"
        },
        "id": "NBOiwqVqLhNq",
        "outputId": "027f6dcb-e3a0-4ddb-e0d5-092274faea01"
      },
      "source": [
        "listrandom=list()\n",
        "for i in range(5):\n",
        "    listrandom.insert(i,random.randint(1,10))\n",
        "    \n",
        "listrandom"
      ],
      "execution_count": 92,
      "outputs": [
        {
          "output_type": "execute_result",
          "data": {
            "text/plain": [
              "[4, 6, 7, 5, 4]"
            ]
          },
          "metadata": {},
          "execution_count": 92
        }
      ]
    },
    {
      "cell_type": "code",
      "metadata": {
        "colab": {
          "base_uri": "https://localhost:8080/"
        },
        "id": "sDdikK2dL53z",
        "outputId": "e2e09ad6-b63e-4a73-c172-ac17fb4d5636"
      },
      "source": [
        "for i in range(0,len(listrandom)):\n",
        "    val=listrandom[i] in primerset\n",
        "    if val==True:\n",
        "        print('El numero {} Si se encuentra'.format(listrandom[i]))\n",
        "    else:\n",
        "        print(' El numero {} No se encuentra en el set inicial'.format(listrandom[i]))"
      ],
      "execution_count": 98,
      "outputs": [
        {
          "output_type": "stream",
          "text": [
            "El numero 4 Si se encuentra\n",
            "El numero 6 Si se encuentra\n",
            "El numero 7 Si se encuentra\n",
            "El numero 5 Si se encuentra\n",
            "El numero 4 Si se encuentra\n"
          ],
          "name": "stdout"
        }
      ]
    }
  ]
}