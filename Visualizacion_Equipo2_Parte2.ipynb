{
  "nbformat": 4,
  "nbformat_minor": 0,
  "metadata": {
    "colab": {
      "name": "Copia de Copia de Untitled1.ipynb",
      "provenance": [],
      "include_colab_link": true
    },
    "kernelspec": {
      "name": "python3",
      "display_name": "Python 3"
    },
    "language_info": {
      "name": "python"
    }
  },
  "cells": [
    {
      "cell_type": "markdown",
      "metadata": {
        "id": "view-in-github",
        "colab_type": "text"
      },
      "source": [
        "<a href=\"https://colab.research.google.com/github/calebmarentes10/Mineria-de-datos-/blob/main/Visualizacion_Equipo2_Parte2.ipynb\" target=\"_parent\"><img src=\"https://colab.research.google.com/assets/colab-badge.svg\" alt=\"Open In Colab\"/></a>"
      ]
    },
    {
      "cell_type": "markdown",
      "metadata": {
        "id": "dULhiKjboJuH"
      },
      "source": [
        ""
      ]
    },
    {
      "cell_type": "markdown",
      "metadata": {
        "id": "4nWLbAf2PGHf"
      },
      "source": [
        "# **Equipo 2**\n",
        "Grupo: 001 Lunes de 7:00 – 10:00\n",
        "\n",
        "Integrantes:\n",
        "* 1851976 Marentes Camarillo Caleb\n",
        "- 1851600 Garnica Cardenas Maria Fernanda\n",
        "- 1941526 Morales Garcia Ismael\n",
        "- 1797297 Garcia Partida Yael Alejandro\n",
        "- 1726507 Vidal Barriga Dayanne Alejandra\n",
        "\n",
        "\n",
        " \n"
      ]
    },
    {
      "cell_type": "markdown",
      "metadata": {
        "id": "hzjE5STzQ_os"
      },
      "source": [
        "###**120 YEARS OF OLYMPIC HISTORY**\n",
        "\n",
        "Base 2 https://www.kaggle.com/mysarahmadbhat/120-years-of-olympic-history\n"
      ]
    },
    {
      "cell_type": "markdown",
      "metadata": {
        "id": "gaT-PIGkRGFg"
      },
      "source": [
        "***Introducción general:***\n",
        "\n",
        "120 years of olympic history  es una base de datos que como su nombre lo dice, consta datos históricos sobre los Juegos Olímpicos modernos, desde Atenas 1896 hasta Río 2016. Cada fila corresponde a un atleta individual que compite en un evento individual, incluido el nombre del atleta, sexo, edad, altura, peso, país y medalla, y el nombre del evento. , deporte, juegos, año y ciudad.\n",
        "\n",
        "Con estos datos pretendemos dar a conocer cuáles han sido los deportes con más medallas, y cual es el competidor promedio ideal para ganar oro en cada deporte.\n"
      ]
    },
    {
      "cell_type": "markdown",
      "metadata": {
        "id": "Haxd0L2pRKb8"
      },
      "source": [
        "**Descripción de los datos:**\n",
        "\n",
        "Los datos provienen de los Juegos Olímpicos donde se han acomodado en 15 columnas de la siguiente manera:\n",
        "\n",
        "- *ID Unique number for each athlete:* En esta columna podemos ver el ID del atleta\n",
        "- *Name Athlete's name:* En esta columna podemos ver el nombre del atleta\n",
        "-*Sex Male (M) or Female (F):* : En esta columna podemos ver el género del atleta\n",
        "-*Age Integer:* En esta columna podemos ver la edad del atleta\n",
        "- *Height In centimeters:* En esta columna podemos ver la estatura del atleta en centímetros\n",
        "- *Weight In kilograms*: En esta columna podemos ver el peso del atleta en kilogramos\n",
        "- *Team:* En esta columna podemos ver el equipo que representa el atleta\n",
        "- *NOC National Olympic Committee 3-letter code:* En esta columna podemos ver el codigo de el país que representa el atleta\n",
        "- *Games Year and season:* En esta columna podemos ver el año y la temporada de la competencia\n",
        "- *Year Integer:* En esta columna podemos en que año se realizaron los juegos olímpicos\n",
        "Season: En esta columna podemos ver la temporado de los juegos olímpicos ya sea verano o invierno\n",
        "- *City:* En esta columna podemos ver el en que ciudad se llevó a cabo la contienda\n",
        "- *Sport:* En esta columna podemos ver el nombre del deporte\n",
        "- *Event:* En esta columna podemos ver el nombre del evento en el participó el atleta\n",
        "- *Medal Gold, Silver, Bronze, or NA:* En esta columna podemos ver si el atleta logró obtener medalla o no\n"
      ]
    },
    {
      "cell_type": "markdown",
      "metadata": {
        "id": "yqCA6L_DSBjM"
      },
      "source": [
        "**Justificación de los datos:**\n",
        "\n",
        "Decidimos hacer esta base de datos debido a que nos intriga saber que es lo que hace a un competir llegar a ser un competidor olímpico,  o cuales son los rasgos que identifican a un deportista olímpico\n",
        "\n",
        "Los beneficios para trabajar con esta base de datos es que podemos ver con facilidad que es lo que caracteriza a un deportista a olímpico que cuales son los promedios de un medallista olímpico\n"
      ]
    },
    {
      "cell_type": "markdown",
      "metadata": {
        "id": "Mm61yCkYSFQ0"
      },
      "source": [
        "**Objetivo final:**\n",
        "\n",
        "Analizar a fondo cuales son las características específicas que han ayudado a los competidores a lograr colgarse de una presea y ver cuales son los detalles que les favorece a los deportistas de cada país en  las distintas temporadas de los eventos\n"
      ]
    },
    {
      "cell_type": "markdown",
      "metadata": {
        "id": "wpunTsAYSHro"
      },
      "source": [
        "**Preguntas de interés:**\n",
        "\n",
        "¿Cuáles son las características promedio de un medallista de oro? ya sea en: edad, peso, estatura y país\n",
        "\n",
        "¿En qué magnitud se pueden ver alterados los medalleros según la temporada de los juegos olímpicos? ya sea de verano o de invierno\n"
      ]
    },
    {
      "cell_type": "markdown",
      "metadata": {
        "id": "kY4oA1skuXA9"
      },
      "source": [
        ""
      ]
    },
    {
      "cell_type": "markdown",
      "metadata": {
        "id": "jiiuZ5OJFzAQ"
      },
      "source": [
        "**Limpieza de datos**\n",
        "\n",
        "a) Comenzamos importando librerias y bases de datos"
      ]
    },
    {
      "cell_type": "code",
      "metadata": {
        "id": "0AI9c-qwtphv",
        "colab": {
          "base_uri": "https://localhost:8080/",
          "height": 345
        },
        "outputId": "da43fc6a-a111-431f-b3ea-1a1bf808334d"
      },
      "source": [
        "import pandas as pd\n",
        "import numpy as np\n",
        "import json\n",
        "\n",
        "JJ = pd.read_csv(\"/content/athlete.csv\",encoding='utf8')\n"
      ],
      "execution_count": null,
      "outputs": [
        {
          "output_type": "error",
          "ename": "FileNotFoundError",
          "evalue": "ignored",
          "traceback": [
            "\u001b[0;31m---------------------------------------------------------------------------\u001b[0m",
            "\u001b[0;31mFileNotFoundError\u001b[0m                         Traceback (most recent call last)",
            "\u001b[0;32m<ipython-input-1-7ba98295fbc3>\u001b[0m in \u001b[0;36m<module>\u001b[0;34m()\u001b[0m\n\u001b[1;32m      3\u001b[0m \u001b[0;32mimport\u001b[0m \u001b[0mjson\u001b[0m\u001b[0;34m\u001b[0m\u001b[0;34m\u001b[0m\u001b[0m\n\u001b[1;32m      4\u001b[0m \u001b[0;34m\u001b[0m\u001b[0m\n\u001b[0;32m----> 5\u001b[0;31m \u001b[0mJJ\u001b[0m \u001b[0;34m=\u001b[0m \u001b[0mpd\u001b[0m\u001b[0;34m.\u001b[0m\u001b[0mread_csv\u001b[0m\u001b[0;34m(\u001b[0m\u001b[0;34m\"/content/athlete.csv\"\u001b[0m\u001b[0;34m,\u001b[0m\u001b[0mencoding\u001b[0m\u001b[0;34m=\u001b[0m\u001b[0;34m'utf8'\u001b[0m\u001b[0;34m)\u001b[0m\u001b[0;34m\u001b[0m\u001b[0;34m\u001b[0m\u001b[0m\n\u001b[0m",
            "\u001b[0;32m/usr/local/lib/python3.7/dist-packages/pandas/io/parsers.py\u001b[0m in \u001b[0;36mread_csv\u001b[0;34m(filepath_or_buffer, sep, delimiter, header, names, index_col, usecols, squeeze, prefix, mangle_dupe_cols, dtype, engine, converters, true_values, false_values, skipinitialspace, skiprows, skipfooter, nrows, na_values, keep_default_na, na_filter, verbose, skip_blank_lines, parse_dates, infer_datetime_format, keep_date_col, date_parser, dayfirst, cache_dates, iterator, chunksize, compression, thousands, decimal, lineterminator, quotechar, quoting, doublequote, escapechar, comment, encoding, dialect, error_bad_lines, warn_bad_lines, delim_whitespace, low_memory, memory_map, float_precision)\u001b[0m\n\u001b[1;32m    686\u001b[0m     )\n\u001b[1;32m    687\u001b[0m \u001b[0;34m\u001b[0m\u001b[0m\n\u001b[0;32m--> 688\u001b[0;31m     \u001b[0;32mreturn\u001b[0m \u001b[0m_read\u001b[0m\u001b[0;34m(\u001b[0m\u001b[0mfilepath_or_buffer\u001b[0m\u001b[0;34m,\u001b[0m \u001b[0mkwds\u001b[0m\u001b[0;34m)\u001b[0m\u001b[0;34m\u001b[0m\u001b[0;34m\u001b[0m\u001b[0m\n\u001b[0m\u001b[1;32m    689\u001b[0m \u001b[0;34m\u001b[0m\u001b[0m\n\u001b[1;32m    690\u001b[0m \u001b[0;34m\u001b[0m\u001b[0m\n",
            "\u001b[0;32m/usr/local/lib/python3.7/dist-packages/pandas/io/parsers.py\u001b[0m in \u001b[0;36m_read\u001b[0;34m(filepath_or_buffer, kwds)\u001b[0m\n\u001b[1;32m    452\u001b[0m \u001b[0;34m\u001b[0m\u001b[0m\n\u001b[1;32m    453\u001b[0m     \u001b[0;31m# Create the parser.\u001b[0m\u001b[0;34m\u001b[0m\u001b[0;34m\u001b[0m\u001b[0;34m\u001b[0m\u001b[0m\n\u001b[0;32m--> 454\u001b[0;31m     \u001b[0mparser\u001b[0m \u001b[0;34m=\u001b[0m \u001b[0mTextFileReader\u001b[0m\u001b[0;34m(\u001b[0m\u001b[0mfp_or_buf\u001b[0m\u001b[0;34m,\u001b[0m \u001b[0;34m**\u001b[0m\u001b[0mkwds\u001b[0m\u001b[0;34m)\u001b[0m\u001b[0;34m\u001b[0m\u001b[0;34m\u001b[0m\u001b[0m\n\u001b[0m\u001b[1;32m    455\u001b[0m \u001b[0;34m\u001b[0m\u001b[0m\n\u001b[1;32m    456\u001b[0m     \u001b[0;32mif\u001b[0m \u001b[0mchunksize\u001b[0m \u001b[0;32mor\u001b[0m \u001b[0miterator\u001b[0m\u001b[0;34m:\u001b[0m\u001b[0;34m\u001b[0m\u001b[0;34m\u001b[0m\u001b[0m\n",
            "\u001b[0;32m/usr/local/lib/python3.7/dist-packages/pandas/io/parsers.py\u001b[0m in \u001b[0;36m__init__\u001b[0;34m(self, f, engine, **kwds)\u001b[0m\n\u001b[1;32m    946\u001b[0m             \u001b[0mself\u001b[0m\u001b[0;34m.\u001b[0m\u001b[0moptions\u001b[0m\u001b[0;34m[\u001b[0m\u001b[0;34m\"has_index_names\"\u001b[0m\u001b[0;34m]\u001b[0m \u001b[0;34m=\u001b[0m \u001b[0mkwds\u001b[0m\u001b[0;34m[\u001b[0m\u001b[0;34m\"has_index_names\"\u001b[0m\u001b[0;34m]\u001b[0m\u001b[0;34m\u001b[0m\u001b[0;34m\u001b[0m\u001b[0m\n\u001b[1;32m    947\u001b[0m \u001b[0;34m\u001b[0m\u001b[0m\n\u001b[0;32m--> 948\u001b[0;31m         \u001b[0mself\u001b[0m\u001b[0;34m.\u001b[0m\u001b[0m_make_engine\u001b[0m\u001b[0;34m(\u001b[0m\u001b[0mself\u001b[0m\u001b[0;34m.\u001b[0m\u001b[0mengine\u001b[0m\u001b[0;34m)\u001b[0m\u001b[0;34m\u001b[0m\u001b[0;34m\u001b[0m\u001b[0m\n\u001b[0m\u001b[1;32m    949\u001b[0m \u001b[0;34m\u001b[0m\u001b[0m\n\u001b[1;32m    950\u001b[0m     \u001b[0;32mdef\u001b[0m \u001b[0mclose\u001b[0m\u001b[0;34m(\u001b[0m\u001b[0mself\u001b[0m\u001b[0;34m)\u001b[0m\u001b[0;34m:\u001b[0m\u001b[0;34m\u001b[0m\u001b[0;34m\u001b[0m\u001b[0m\n",
            "\u001b[0;32m/usr/local/lib/python3.7/dist-packages/pandas/io/parsers.py\u001b[0m in \u001b[0;36m_make_engine\u001b[0;34m(self, engine)\u001b[0m\n\u001b[1;32m   1178\u001b[0m     \u001b[0;32mdef\u001b[0m \u001b[0m_make_engine\u001b[0m\u001b[0;34m(\u001b[0m\u001b[0mself\u001b[0m\u001b[0;34m,\u001b[0m \u001b[0mengine\u001b[0m\u001b[0;34m=\u001b[0m\u001b[0;34m\"c\"\u001b[0m\u001b[0;34m)\u001b[0m\u001b[0;34m:\u001b[0m\u001b[0;34m\u001b[0m\u001b[0;34m\u001b[0m\u001b[0m\n\u001b[1;32m   1179\u001b[0m         \u001b[0;32mif\u001b[0m \u001b[0mengine\u001b[0m \u001b[0;34m==\u001b[0m \u001b[0;34m\"c\"\u001b[0m\u001b[0;34m:\u001b[0m\u001b[0;34m\u001b[0m\u001b[0;34m\u001b[0m\u001b[0m\n\u001b[0;32m-> 1180\u001b[0;31m             \u001b[0mself\u001b[0m\u001b[0;34m.\u001b[0m\u001b[0m_engine\u001b[0m \u001b[0;34m=\u001b[0m \u001b[0mCParserWrapper\u001b[0m\u001b[0;34m(\u001b[0m\u001b[0mself\u001b[0m\u001b[0;34m.\u001b[0m\u001b[0mf\u001b[0m\u001b[0;34m,\u001b[0m \u001b[0;34m**\u001b[0m\u001b[0mself\u001b[0m\u001b[0;34m.\u001b[0m\u001b[0moptions\u001b[0m\u001b[0;34m)\u001b[0m\u001b[0;34m\u001b[0m\u001b[0;34m\u001b[0m\u001b[0m\n\u001b[0m\u001b[1;32m   1181\u001b[0m         \u001b[0;32melse\u001b[0m\u001b[0;34m:\u001b[0m\u001b[0;34m\u001b[0m\u001b[0;34m\u001b[0m\u001b[0m\n\u001b[1;32m   1182\u001b[0m             \u001b[0;32mif\u001b[0m \u001b[0mengine\u001b[0m \u001b[0;34m==\u001b[0m \u001b[0;34m\"python\"\u001b[0m\u001b[0;34m:\u001b[0m\u001b[0;34m\u001b[0m\u001b[0;34m\u001b[0m\u001b[0m\n",
            "\u001b[0;32m/usr/local/lib/python3.7/dist-packages/pandas/io/parsers.py\u001b[0m in \u001b[0;36m__init__\u001b[0;34m(self, src, **kwds)\u001b[0m\n\u001b[1;32m   1991\u001b[0m         \u001b[0;32mif\u001b[0m \u001b[0mkwds\u001b[0m\u001b[0;34m.\u001b[0m\u001b[0mget\u001b[0m\u001b[0;34m(\u001b[0m\u001b[0;34m\"compression\"\u001b[0m\u001b[0;34m)\u001b[0m \u001b[0;32mis\u001b[0m \u001b[0;32mNone\u001b[0m \u001b[0;32mand\u001b[0m \u001b[0mencoding\u001b[0m\u001b[0;34m:\u001b[0m\u001b[0;34m\u001b[0m\u001b[0;34m\u001b[0m\u001b[0m\n\u001b[1;32m   1992\u001b[0m             \u001b[0;32mif\u001b[0m \u001b[0misinstance\u001b[0m\u001b[0;34m(\u001b[0m\u001b[0msrc\u001b[0m\u001b[0;34m,\u001b[0m \u001b[0mstr\u001b[0m\u001b[0;34m)\u001b[0m\u001b[0;34m:\u001b[0m\u001b[0;34m\u001b[0m\u001b[0;34m\u001b[0m\u001b[0m\n\u001b[0;32m-> 1993\u001b[0;31m                 \u001b[0msrc\u001b[0m \u001b[0;34m=\u001b[0m \u001b[0mopen\u001b[0m\u001b[0;34m(\u001b[0m\u001b[0msrc\u001b[0m\u001b[0;34m,\u001b[0m \u001b[0;34m\"rb\"\u001b[0m\u001b[0;34m)\u001b[0m\u001b[0;34m\u001b[0m\u001b[0;34m\u001b[0m\u001b[0m\n\u001b[0m\u001b[1;32m   1994\u001b[0m                 \u001b[0mself\u001b[0m\u001b[0;34m.\u001b[0m\u001b[0mhandles\u001b[0m\u001b[0;34m.\u001b[0m\u001b[0mappend\u001b[0m\u001b[0;34m(\u001b[0m\u001b[0msrc\u001b[0m\u001b[0;34m)\u001b[0m\u001b[0;34m\u001b[0m\u001b[0;34m\u001b[0m\u001b[0m\n\u001b[1;32m   1995\u001b[0m \u001b[0;34m\u001b[0m\u001b[0m\n",
            "\u001b[0;31mFileNotFoundError\u001b[0m: [Errno 2] No such file or directory: '/content/athlete.csv'"
          ]
        }
      ]
    },
    {
      "cell_type": "markdown",
      "metadata": {
        "id": "zIbn9hwTF2IJ"
      },
      "source": [
        "b) Visualizacion de datos "
      ]
    },
    {
      "cell_type": "code",
      "metadata": {
        "id": "TQZ87s0Vum5h"
      },
      "source": [
        "JJ"
      ],
      "execution_count": null,
      "outputs": []
    },
    {
      "cell_type": "markdown",
      "metadata": {
        "id": "-MWGOPE-GVjQ"
      },
      "source": [
        "Continuaremos con revisar la cantidad de filas y columnas de la base"
      ]
    },
    {
      "cell_type": "code",
      "metadata": {
        "id": "vaXkPo_GHCcM"
      },
      "source": [
        "JJ.shape  #Nos regresará la cantidad de filas y columnas "
      ],
      "execution_count": null,
      "outputs": []
    },
    {
      "cell_type": "markdown",
      "metadata": {
        "id": "lVrMJp2YIMUh"
      },
      "source": [
        "Procederemos a cambiar los titulos a español para mejor entendimiento "
      ]
    },
    {
      "cell_type": "code",
      "metadata": {
        "id": "9K0Rf32kIZxj"
      },
      "source": [
        "JJ.columns\n",
        "JJ. columns=[\"ID\",\"Nombre\",\"Sexo\",\"Edad\",\"Estatura\",\"Peso\",\"Equipo\",\"Abreviacion\",\"Juegos\",\"Año\",\"Temporada\",\"Ciudad\",\"Deporte\",\"Evento\",\"Medalla\"]\n",
        "JJ.columns"
      ],
      "execution_count": null,
      "outputs": []
    },
    {
      "cell_type": "code",
      "metadata": {
        "id": "8eBPdIpPu9hE"
      },
      "source": [
        "JJ"
      ],
      "execution_count": null,
      "outputs": []
    },
    {
      "cell_type": "markdown",
      "metadata": {
        "id": "nTiozZV4Kdry"
      },
      "source": [
        "Posteriormente a cmabir los nombres, seguiremos a analizar el tipo de dato que tenemos apoyandonos de la funcion dtype"
      ]
    },
    {
      "cell_type": "code",
      "metadata": {
        "id": "yrs7WxIxKtsk"
      },
      "source": [
        "JJ.dtypes"
      ],
      "execution_count": null,
      "outputs": []
    },
    {
      "cell_type": "markdown",
      "metadata": {
        "id": "yU-E0vVWLiFQ"
      },
      "source": [
        "#Estadística básica de los datos\n",
        "*En esta parte del proyecto podremos observar la estadística básica de nuestra base de datos*\n",
        "\n",
        "*Como nuestra pregunta de interés es saber las características promedio de un medallista de oro observaremos las estadísticas de la edad, el peso, la estatura y país*"
      ]
    },
    {
      "cell_type": "markdown",
      "metadata": {
        "id": "5fnlku2oNyC7"
      },
      "source": [
        "*Lo primero que se hizo es que se filtro por medallistas que ganaron medalla de oro*"
      ]
    },
    {
      "cell_type": "code",
      "metadata": {
        "id": "92Ofa_YvNn-Q"
      },
      "source": [
        "JJ=JJ[JJ['Medalla']=='Gold']\n"
      ],
      "execution_count": null,
      "outputs": []
    },
    {
      "cell_type": "markdown",
      "metadata": {
        "id": "x-IXVEcYP3V4"
      },
      "source": [
        "*Aquí podemos apreciar la estadística descriptiva de la* ***edad*** *de los medallistas de oro olímpicos*\n",
        "\n",
        "- Conteo de filas\n",
        "- Media\n",
        "- Desviación estándar\n",
        "- Mínimo \n",
        "- Primer cuartil \n",
        "- Segundo cuartil \n",
        "- Tercer cuartil\n",
        "- Máximo\n"
      ]
    },
    {
      "cell_type": "code",
      "metadata": {
        "colab": {
          "base_uri": "https://localhost:8080/",
          "height": 297
        },
        "id": "WM88up4BPoYB",
        "outputId": "15481aeb-b067-4e59-950d-60bc52fe3dd8"
      },
      "source": [
        "pd.DataFrame(JJ['Edad'].describe())"
      ],
      "execution_count": null,
      "outputs": [
        {
          "output_type": "execute_result",
          "data": {
            "text/html": [
              "<div>\n",
              "<style scoped>\n",
              "    .dataframe tbody tr th:only-of-type {\n",
              "        vertical-align: middle;\n",
              "    }\n",
              "\n",
              "    .dataframe tbody tr th {\n",
              "        vertical-align: top;\n",
              "    }\n",
              "\n",
              "    .dataframe thead th {\n",
              "        text-align: right;\n",
              "    }\n",
              "</style>\n",
              "<table border=\"1\" class=\"dataframe\">\n",
              "  <thead>\n",
              "    <tr style=\"text-align: right;\">\n",
              "      <th></th>\n",
              "      <th>Edad</th>\n",
              "    </tr>\n",
              "  </thead>\n",
              "  <tbody>\n",
              "    <tr>\n",
              "      <th>count</th>\n",
              "      <td>13224.000000</td>\n",
              "    </tr>\n",
              "    <tr>\n",
              "      <th>mean</th>\n",
              "      <td>25.901013</td>\n",
              "    </tr>\n",
              "    <tr>\n",
              "      <th>std</th>\n",
              "      <td>5.892887</td>\n",
              "    </tr>\n",
              "    <tr>\n",
              "      <th>min</th>\n",
              "      <td>13.000000</td>\n",
              "    </tr>\n",
              "    <tr>\n",
              "      <th>25%</th>\n",
              "      <td>22.000000</td>\n",
              "    </tr>\n",
              "    <tr>\n",
              "      <th>50%</th>\n",
              "      <td>25.000000</td>\n",
              "    </tr>\n",
              "    <tr>\n",
              "      <th>75%</th>\n",
              "      <td>29.000000</td>\n",
              "    </tr>\n",
              "    <tr>\n",
              "      <th>max</th>\n",
              "      <td>64.000000</td>\n",
              "    </tr>\n",
              "  </tbody>\n",
              "</table>\n",
              "</div>"
            ],
            "text/plain": [
              "               Edad\n",
              "count  13224.000000\n",
              "mean      25.901013\n",
              "std        5.892887\n",
              "min       13.000000\n",
              "25%       22.000000\n",
              "50%       25.000000\n",
              "75%       29.000000\n",
              "max       64.000000"
            ]
          },
          "metadata": {},
          "execution_count": 71
        }
      ]
    },
    {
      "cell_type": "markdown",
      "metadata": {
        "id": "WUAguTKlWxzJ"
      },
      "source": [
        "*Esto nos dice que la edad promedio de los medallistas de oro es de alrededor de 26 años es decir que los atletas ganadores son atletas jóvenes y es la edad donde dan su mejor rendimiento*"
      ]
    },
    {
      "cell_type": "markdown",
      "metadata": {
        "id": "zuQXaINUVFad"
      },
      "source": [
        "*Aquí podemos apreciar la estadística descriptiva del* ***peso*** *de los medallistas de oro olímpicos*\n",
        "\n",
        "- Conteo de filas\n",
        "- Media\n",
        "- Desviación estándar\n",
        "- Mínimo \n",
        "- Primer cuartil \n",
        "- Segundo cuartil \n",
        "- Tercer cuartil\n",
        "- Máximo"
      ]
    },
    {
      "cell_type": "code",
      "metadata": {
        "colab": {
          "base_uri": "https://localhost:8080/",
          "height": 297
        },
        "id": "FlE3LyfCQSt1",
        "outputId": "561f824d-933d-424c-b543-d0a2af508d67"
      },
      "source": [
        "pd.DataFrame(JJ['Peso'].describe())"
      ],
      "execution_count": null,
      "outputs": [
        {
          "output_type": "execute_result",
          "data": {
            "text/html": [
              "<div>\n",
              "<style scoped>\n",
              "    .dataframe tbody tr th:only-of-type {\n",
              "        vertical-align: middle;\n",
              "    }\n",
              "\n",
              "    .dataframe tbody tr th {\n",
              "        vertical-align: top;\n",
              "    }\n",
              "\n",
              "    .dataframe thead th {\n",
              "        text-align: right;\n",
              "    }\n",
              "</style>\n",
              "<table border=\"1\" class=\"dataframe\">\n",
              "  <thead>\n",
              "    <tr style=\"text-align: right;\">\n",
              "      <th></th>\n",
              "      <th>Peso</th>\n",
              "    </tr>\n",
              "  </thead>\n",
              "  <tbody>\n",
              "    <tr>\n",
              "      <th>count</th>\n",
              "      <td>10254.000000</td>\n",
              "    </tr>\n",
              "    <tr>\n",
              "      <th>mean</th>\n",
              "      <td>74.183879</td>\n",
              "    </tr>\n",
              "    <tr>\n",
              "      <th>std</th>\n",
              "      <td>15.207425</td>\n",
              "    </tr>\n",
              "    <tr>\n",
              "      <th>min</th>\n",
              "      <td>28.000000</td>\n",
              "    </tr>\n",
              "    <tr>\n",
              "      <th>25%</th>\n",
              "      <td>63.000000</td>\n",
              "    </tr>\n",
              "    <tr>\n",
              "      <th>50%</th>\n",
              "      <td>73.000000</td>\n",
              "    </tr>\n",
              "    <tr>\n",
              "      <th>75%</th>\n",
              "      <td>84.000000</td>\n",
              "    </tr>\n",
              "    <tr>\n",
              "      <th>max</th>\n",
              "      <td>170.000000</td>\n",
              "    </tr>\n",
              "  </tbody>\n",
              "</table>\n",
              "</div>"
            ],
            "text/plain": [
              "               Peso\n",
              "count  10254.000000\n",
              "mean      74.183879\n",
              "std       15.207425\n",
              "min       28.000000\n",
              "25%       63.000000\n",
              "50%       73.000000\n",
              "75%       84.000000\n",
              "max      170.000000"
            ]
          },
          "metadata": {},
          "execution_count": 73
        }
      ]
    },
    {
      "cell_type": "markdown",
      "metadata": {
        "id": "ycLEcecwXVIF"
      },
      "source": [
        "*Aunque esta estadística pueda ser algo subjetiva debido a que algunos deportes se necesita mas peso que en otros, sin embargo nos da una idea de como es el peso de un atleta olímpico ganador de una medalla de oro*\n"
      ]
    },
    {
      "cell_type": "markdown",
      "metadata": {
        "id": "hWDz6VwKVt18"
      },
      "source": [
        "*Aquí podemos apreciar la estadística descriptiva de la* ***estatura*** *de los medallistas de oro olímpicos*\n",
        "\n",
        "- Conteo de filas\n",
        "- Media\n",
        "- Desviación estándar\n",
        "- Mínimo \n",
        "- Primer cuartil \n",
        "- Segundo cuartil \n",
        "- Tercer cuartil\n",
        "- Máximo"
      ]
    },
    {
      "cell_type": "code",
      "metadata": {
        "colab": {
          "base_uri": "https://localhost:8080/",
          "height": 297
        },
        "id": "a4KOpudvV3M6",
        "outputId": "cdc0fd2a-4aad-4380-fbce-fa8af869cec1"
      },
      "source": [
        "pd.DataFrame(JJ['Estatura'].describe())"
      ],
      "execution_count": null,
      "outputs": [
        {
          "output_type": "execute_result",
          "data": {
            "text/html": [
              "<div>\n",
              "<style scoped>\n",
              "    .dataframe tbody tr th:only-of-type {\n",
              "        vertical-align: middle;\n",
              "    }\n",
              "\n",
              "    .dataframe tbody tr th {\n",
              "        vertical-align: top;\n",
              "    }\n",
              "\n",
              "    .dataframe thead th {\n",
              "        text-align: right;\n",
              "    }\n",
              "</style>\n",
              "<table border=\"1\" class=\"dataframe\">\n",
              "  <thead>\n",
              "    <tr style=\"text-align: right;\">\n",
              "      <th></th>\n",
              "      <th>Estatura</th>\n",
              "    </tr>\n",
              "  </thead>\n",
              "  <tbody>\n",
              "    <tr>\n",
              "      <th>count</th>\n",
              "      <td>10539.000000</td>\n",
              "    </tr>\n",
              "    <tr>\n",
              "      <th>mean</th>\n",
              "      <td>177.898472</td>\n",
              "    </tr>\n",
              "    <tr>\n",
              "      <th>std</th>\n",
              "      <td>11.052521</td>\n",
              "    </tr>\n",
              "    <tr>\n",
              "      <th>min</th>\n",
              "      <td>136.000000</td>\n",
              "    </tr>\n",
              "    <tr>\n",
              "      <th>25%</th>\n",
              "      <td>170.000000</td>\n",
              "    </tr>\n",
              "    <tr>\n",
              "      <th>50%</th>\n",
              "      <td>178.000000</td>\n",
              "    </tr>\n",
              "    <tr>\n",
              "      <th>75%</th>\n",
              "      <td>185.000000</td>\n",
              "    </tr>\n",
              "    <tr>\n",
              "      <th>max</th>\n",
              "      <td>223.000000</td>\n",
              "    </tr>\n",
              "  </tbody>\n",
              "</table>\n",
              "</div>"
            ],
            "text/plain": [
              "           Estatura\n",
              "count  10539.000000\n",
              "mean     177.898472\n",
              "std       11.052521\n",
              "min      136.000000\n",
              "25%      170.000000\n",
              "50%      178.000000\n",
              "75%      185.000000\n",
              "max      223.000000"
            ]
          },
          "metadata": {},
          "execution_count": 74
        }
      ]
    },
    {
      "cell_type": "markdown",
      "metadata": {
        "id": "_FnDAMevY84z"
      },
      "source": [
        "*Aqui podemos ver como se distribuyen la alturas en cm de los atletas ganadores y nos describe que en promedio el atleta ganador es un atleta alto*"
      ]
    },
    {
      "cell_type": "markdown",
      "metadata": {
        "id": "F2jffeOLeGmo"
      },
      "source": [
        "*Aqui podemos observar los 10 paises con mas medallas de oro*"
      ]
    },
    {
      "cell_type": "code",
      "metadata": {
        "colab": {
          "base_uri": "https://localhost:8080/",
          "height": 390
        },
        "id": "aCbzG-KzZlkb",
        "outputId": "5bd180bc-7b56-4983-8f9a-519527a072d1"
      },
      "source": [
        "medalxpais=JJ.groupby(['Equipo']).count().sort_values(by=['Deporte'],ascending=False).head(10).iloc[:,1]\n",
        "medalxpais=pd.DataFrame(medalxpais)\n",
        "medalxpais"
      ],
      "execution_count": null,
      "outputs": [
        {
          "output_type": "execute_result",
          "data": {
            "text/html": [
              "<div>\n",
              "<style scoped>\n",
              "    .dataframe tbody tr th:only-of-type {\n",
              "        vertical-align: middle;\n",
              "    }\n",
              "\n",
              "    .dataframe tbody tr th {\n",
              "        vertical-align: top;\n",
              "    }\n",
              "\n",
              "    .dataframe thead th {\n",
              "        text-align: right;\n",
              "    }\n",
              "</style>\n",
              "<table border=\"1\" class=\"dataframe\">\n",
              "  <thead>\n",
              "    <tr style=\"text-align: right;\">\n",
              "      <th></th>\n",
              "      <th>Nombre</th>\n",
              "    </tr>\n",
              "    <tr>\n",
              "      <th>Equipo</th>\n",
              "      <th></th>\n",
              "    </tr>\n",
              "  </thead>\n",
              "  <tbody>\n",
              "    <tr>\n",
              "      <th>United States</th>\n",
              "      <td>2474</td>\n",
              "    </tr>\n",
              "    <tr>\n",
              "      <th>Soviet Union</th>\n",
              "      <td>1058</td>\n",
              "    </tr>\n",
              "    <tr>\n",
              "      <th>Germany</th>\n",
              "      <td>679</td>\n",
              "    </tr>\n",
              "    <tr>\n",
              "      <th>Italy</th>\n",
              "      <td>535</td>\n",
              "    </tr>\n",
              "    <tr>\n",
              "      <th>Great Britain</th>\n",
              "      <td>519</td>\n",
              "    </tr>\n",
              "    <tr>\n",
              "      <th>France</th>\n",
              "      <td>455</td>\n",
              "    </tr>\n",
              "    <tr>\n",
              "      <th>Sweden</th>\n",
              "      <td>451</td>\n",
              "    </tr>\n",
              "    <tr>\n",
              "      <th>Hungary</th>\n",
              "      <td>432</td>\n",
              "    </tr>\n",
              "    <tr>\n",
              "      <th>Canada</th>\n",
              "      <td>422</td>\n",
              "    </tr>\n",
              "    <tr>\n",
              "      <th>East Germany</th>\n",
              "      <td>369</td>\n",
              "    </tr>\n",
              "  </tbody>\n",
              "</table>\n",
              "</div>"
            ],
            "text/plain": [
              "               Nombre\n",
              "Equipo               \n",
              "United States    2474\n",
              "Soviet Union     1058\n",
              "Germany           679\n",
              "Italy             535\n",
              "Great Britain     519\n",
              "France            455\n",
              "Sweden            451\n",
              "Hungary           432\n",
              "Canada            422\n",
              "East Germany      369"
            ]
          },
          "metadata": {},
          "execution_count": 70
        }
      ]
    },
    {
      "cell_type": "markdown",
      "metadata": {
        "id": "K2983VD9ewW3"
      },
      "source": [
        "#Graficas"
      ]
    },
    {
      "cell_type": "markdown",
      "metadata": {
        "id": "xcJ7FSfIfCMc"
      },
      "source": [
        "*Para la parte grafica mandamos a llamar la libreria seaborn y matplotlib*"
      ]
    },
    {
      "cell_type": "code",
      "metadata": {
        "id": "UkMa3jXxfBNN"
      },
      "source": [
        "import matplotlib.pyplot as plt\n",
        "import seaborn as sns\n"
      ],
      "execution_count": null,
      "outputs": []
    },
    {
      "cell_type": "markdown",
      "metadata": {
        "id": "K34Ib1hZjmOc"
      },
      "source": [
        "**Histograma de la edad de los medallistas de oro olimpico**"
      ]
    },
    {
      "cell_type": "markdown",
      "metadata": {
        "id": "D9heNEYYfXRm"
      },
      "source": [
        "*De manera grafica podemos ver la distribución de la edad con un histograma donde se puede ver que a simple vista sigue una distribución poisson*"
      ]
    },
    {
      "cell_type": "code",
      "metadata": {
        "colab": {
          "base_uri": "https://localhost:8080/",
          "height": 295
        },
        "id": "FJByB6UnfgYJ",
        "outputId": "999457eb-34f8-4c01-97b7-90391a5f3faa"
      },
      "source": [
        "plt.hist(JJ['Edad'])\n",
        "plt.title('Edad de los medallistas')\n",
        "plt.xlabel('Cantidad de medallistas')\n",
        "plt.ylabel('Edad')\n",
        "plt.show()"
      ],
      "execution_count": null,
      "outputs": [
        {
          "output_type": "display_data",
          "data": {
            "image/png": "[encoded data removed]",
            "text/plain": [
              "<Figure size 432x288 with 1 Axes>"
            ]
          },
          "metadata": {
            "needs_background": "light"
          }
        }
      ]
    },
    {
      "cell_type": "markdown",
      "metadata": {
        "id": "yG-sIj_Vkawz"
      },
      "source": [
        "**Diagrama de caja del peso de los medallistas de oro olimpico**"
      ]
    },
    {
      "cell_type": "markdown",
      "metadata": {
        "id": "mC8Wm5Tzkel4"
      },
      "source": [
        "*De manera grafica podemos ver la distribución del peso con un diagrama de caja*"
      ]
    },
    {
      "cell_type": "code",
      "metadata": {
        "colab": {
          "base_uri": "https://localhost:8080/",
          "height": 350
        },
        "id": "bfGSViYFkitS",
        "outputId": "319be53a-d9d2-4883-dee0-d942486dce97"
      },
      "source": [
        "sns.boxplot(JJ['Peso'])"
      ],
      "execution_count": null,
      "outputs": [
        {
          "output_type": "stream",
          "name": "stderr",
          "text": [
            "/usr/local/lib/python3.7/dist-packages/seaborn/_decorators.py:43: FutureWarning: Pass the following variable as a keyword arg: x. From version 0.12, the only valid positional argument will be `data`, and passing other arguments without an explicit keyword will result in an error or misinterpretation.\n",
            "  FutureWarning\n"
          ]
        },
        {
          "output_type": "execute_result",
          "data": {
            "text/plain": [
              "<matplotlib.axes._subplots.AxesSubplot at 0x7fe7184a8550>"
            ]
          },
          "metadata": {},
          "execution_count": 102
        },
        {
          "output_type": "display_data",
          "data": {
            "image/png": "[encoded data removed]",
            "text/plain": [
              "<Figure size 432x288 with 1 Axes>"
            ]
          },
          "metadata": {
            "needs_background": "light"
          }
        }
      ]
    },
    {
      "cell_type": "code",
      "metadata": {
        "colab": {
          "base_uri": "https://localhost:8080/",
          "height": 142
        },
        "id": "yqmRCSy4lRpY",
        "outputId": "da5b0840-79a6-485b-cc0f-e7ca26829614"
      },
      "source": [
        "medalxsex=pd.DataFrame(JJ.groupby(by=['Sexo']).count()['Medalla'])\n",
        "medalxsex"
      ],
      "execution_count": null,
      "outputs": [
        {
          "output_type": "execute_result",
          "data": {
            "text/html": [
              "<div>\n",
              "<style scoped>\n",
              "    .dataframe tbody tr th:only-of-type {\n",
              "        vertical-align: middle;\n",
              "    }\n",
              "\n",
              "    .dataframe tbody tr th {\n",
              "        vertical-align: top;\n",
              "    }\n",
              "\n",
              "    .dataframe thead th {\n",
              "        text-align: right;\n",
              "    }\n",
              "</style>\n",
              "<table border=\"1\" class=\"dataframe\">\n",
              "  <thead>\n",
              "    <tr style=\"text-align: right;\">\n",
              "      <th></th>\n",
              "      <th>Medalla</th>\n",
              "    </tr>\n",
              "    <tr>\n",
              "      <th>Sexo</th>\n",
              "      <th></th>\n",
              "    </tr>\n",
              "  </thead>\n",
              "  <tbody>\n",
              "    <tr>\n",
              "      <th>F</th>\n",
              "      <td>3747</td>\n",
              "    </tr>\n",
              "    <tr>\n",
              "      <th>M</th>\n",
              "      <td>9625</td>\n",
              "    </tr>\n",
              "  </tbody>\n",
              "</table>\n",
              "</div>"
            ],
            "text/plain": [
              "      Medalla\n",
              "Sexo         \n",
              "F        3747\n",
              "M        9625"
            ]
          },
          "metadata": {},
          "execution_count": 124
        }
      ]
    },
    {
      "cell_type": "markdown",
      "metadata": {
        "id": "VtWy1GqHobo6"
      },
      "source": [
        "*Aqui podemos ver la proporcion de hombres y mujeres que han ganado dichas medallas y podemos observar que el sexo masculino ha tenido mas medallas*"
      ]
    },
    {
      "cell_type": "code",
      "metadata": {
        "colab": {
          "base_uri": "https://localhost:8080/",
          "height": 318
        },
        "id": "H18uMWY4mDiO",
        "outputId": "9522c3d2-1c33-4712-9845-c85e2c95585d"
      },
      "source": [
        "plt.pie(medalxsex,labels=['Femenino \\n'+str(medalxsex.iloc[0,0]),'Masculino \\n'+str(medalxsex.iloc[1,0])])\n",
        "plt.title('Proporción medallistas por sexo')\n",
        "plt.show()"
      ],
      "execution_count": null,
      "outputs": [
        {
          "output_type": "stream",
          "name": "stderr",
          "text": [
            "/usr/local/lib/python3.7/dist-packages/ipykernel_launcher.py:1: MatplotlibDeprecationWarning: Non-1D inputs to pie() are currently squeeze()d, but this behavior is deprecated since 3.1 and will be removed in 3.3; pass a 1D array instead.\n",
            "  \"\"\"Entry point for launching an IPython kernel.\n"
          ]
        },
        {
          "output_type": "display_data",
          "data": {
            "image/png": "[encoded data removed]",
            "text/plain": [
              "<Figure size 432x288 with 1 Axes>"
            ]
          },
          "metadata": {}
        }
      ]
    },
    {
      "cell_type": "code",
      "metadata": {
        "colab": {
          "base_uri": "https://localhost:8080/",
          "height": 356
        },
        "id": "hOrR7698owb0",
        "outputId": "f30a2bfa-21fa-4d56-e1c5-9d0b53490e18"
      },
      "source": [
        "plt.bar(medalxpais.index,medalxpais.iloc[:,0])\n",
        "plt.xticks(rotation=90)\n",
        "plt.title('Primeros 10 paises medallistas de oro')\n",
        "plt.xlabel('Paises')\n",
        "plt.ylabel('Canidad medallas de oro')\n",
        "plt.show()"
      ],
      "execution_count": null,
      "outputs": [
        {
          "output_type": "display_data",
          "data": {
            "image/png": "[encoded data removed]",
            "text/plain": [
              "<Figure size 432x288 with 1 Axes>"
            ]
          },
          "metadata": {
            "needs_background": "light"
          }
        }
      ]
    },
    {
      "cell_type": "markdown",
      "metadata": {
        "id": "wCiD6T4DrRMX"
      },
      "source": [
        "*Esta grafica nos indica que estados unidos es el pais con mas medallas de oro en nuestra base de datos*"
      ]
    }
  ]
}