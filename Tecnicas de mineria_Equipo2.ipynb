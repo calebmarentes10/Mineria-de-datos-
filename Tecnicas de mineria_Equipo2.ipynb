{
  "nbformat": 4,
  "nbformat_minor": 0,
  "metadata": {
    "colab": {
      "name": "JJOO.ipynb",
      "provenance": [],
      "collapsed_sections": [],
      "include_colab_link": true
    },
    "kernelspec": {
      "name": "python3",
      "display_name": "Python 3"
    },
    "language_info": {
      "name": "python"
    }
  },
  "cells": [
    {
      "cell_type": "markdown",
      "metadata": {
        "id": "view-in-github",
        "colab_type": "text"
      },
      "source": [
        "<a href=\"https://colab.research.google.com/github/calebmarentes10/Mineria-de-datos-/blob/main/Tecnicas%20de%20mineria_Equipo2.ipynb\" target=\"_parent\"><img src=\"https://colab.research.google.com/assets/colab-badge.svg\" alt=\"Open In Colab\"/></a>"
      ]
    },
    {
      "cell_type": "markdown",
      "metadata": {
        "id": "6UvhwXAhbrek"
      },
      "source": [
        "#**Equipo2**\n",
        "\n",
        "###**120 YEARS OF OLYMPIC HISTORY**\n",
        "\n",
        "https://www.kaggle.com/mysarahmadbhat/120-years-of-olympic-history\n",
        "\n",
        "***Introducción general:***\n",
        "\n",
        "120 years of olympic history  es una base de datos que como su nombre lo dice, consta datos históricos sobre los Juegos Olímpicos modernos, desde Atenas 1896 hasta Río 2016. Cada fila corresponde a un atleta individual que compite en un evento individual, incluido el nombre del atleta, sexo, edad, altura, peso, país y medalla, y el nombre del evento. , deporte, juegos, año y ciudad.\n",
        "\n",
        "Con estos datos pretendemos dar a conocer cuáles han sido los deportes con más medallas, y cual es el competidor promedio ideal para ganar oro en cada deporte.\n",
        "\n",
        "**Descripción de los datos:**\n",
        "\n",
        "Los datos provienen de los Juegos Olímpicos donde se han acomodado en 15 columnas de la siguiente manera:\n",
        "\n",
        "- *ID Unique number for each athlete:* En esta columna podemos ver el ID del atleta\n",
        "- *Name Athlete's name:* En esta columna podemos ver el nombre del atleta\n",
        "-*Sex Male (M) or Female (F):* : En esta columna podemos ver el género del atleta\n",
        "-*Age Integer:* En esta columna podemos ver la edad del atleta\n",
        "- *Height In centimeters:* En esta columna podemos ver la estatura del atleta en centímetros\n",
        "- *Weight In kilograms*: En esta columna podemos ver el peso del atleta en kilogramos\n",
        "- *Team:* En esta columna podemos ver el equipo que representa el atleta\n",
        "- *NOC National Olympic Committee 3-letter code:* En esta columna podemos ver el codigo de el país que representa el atleta\n",
        "- *Games Year and season:* En esta columna podemos ver el año y la temporada de la competencia\n",
        "- *Year Integer:* En esta columna podemos en que año se realizaron los juegos olímpicos\n",
        "Season: En esta columna podemos ver la temporado de los juegos olímpicos ya sea verano o invierno\n",
        "- *City:* En esta columna podemos ver el en que ciudad se llevó a cabo la contienda\n",
        "- *Sport:* En esta columna podemos ver el nombre del deporte\n",
        "- *Event:* En esta columna podemos ver el nombre del evento en el participó el atleta\n",
        "- *Medal Gold, Silver, Bronze, or NA:* En esta columna podemos ver si el atleta logró obtener medalla o no\n",
        "\n",
        "**Justificación de los datos:**\n",
        "\n",
        "Decidimos hacer esta base de datos debido a que nos intriga saber que es lo que hace a un competir llegar a ser un competidor olímpico,  o cuales son los rasgos que identifican a un deportista olímpico\n",
        "\n",
        "Los beneficios para trabajar con esta base de datos es que podemos ver con facilidad que es lo que caracteriza a un deportista a olímpico que cuales son los promedios de un medallista olímpico\n",
        "\n",
        "**Objetivo final:**\n",
        "\n",
        "Analizar a fondo cuales son las características específicas que han ayudado a los competidores a lograr colgarse de una presea y ver cuales son los detalles que les favorece a los deportistas de cada país en  las distintas temporadas de los eventos\n",
        "\n",
        "**Preguntas de interés:**\n",
        "\n",
        "¿Cuáles son las características promedio de un medallista de oro? ya sea en: edad, peso, estatura y país\n",
        "\n",
        "¿En qué magnitud se pueden ver alterados los medalleros según la temporada de los juegos olímpicos? ya sea de verano o de invierno"
      ]
    },
    {
      "cell_type": "code",
      "metadata": {
        "id": "b-9MkZeZCPGM"
      },
      "source": [
        "import pandas as pd\n",
        "import numpy as np\n",
        "import json\n",
        "\n",
        "jjoo=pd.read_csv(\"/content/Atletes_event.csv\",encoding='utf8', index_col=[0])\n",
        "JJOO=jjoo.rename(columns={'Name':'Nombre','Sex':'Sexo','Age':'Edad','Height':'Estatura','Weight':'Peso','Team':'Equipo','Games':'Juegos','Year':'Año','Season':'Temporada','City':'Ciudad','Sport':'Deporte','Event':'Evento','Medal':'Medalla'})\n",
        "\n"
      ],
      "execution_count": null,
      "outputs": []
    },
    {
      "cell_type": "markdown",
      "metadata": {
        "id": "C4oX5GQ2FKAK"
      },
      "source": [
        "**Valores diferentes a cero**\n",
        "\n",
        "Dado a que buscamos unos resultados mas precisos procederemos a hacer una limpieza identificando los valores con cero para ser posteriormente separados o eliminados \n",
        "\n",
        "*Analizando todas las variables, concluimos que era necesario el precio del libro debido a que los datos se recabaron por parte de una plataforma de compra online, asi mismo, consideramos que los clientes ademas de las reseñas, se guían por el precio por lo que tener un valor de 0 en precio no tiene razon de ser. Dado esto, eliminaremos las filas que contengan 0."
      ]
    },
    {
      "cell_type": "code",
      "metadata": {
        "colab": {
          "base_uri": "https://localhost:8080/"
        },
        "id": "8faNW950FOGy",
        "outputId": "331a1241-9cb1-4f1b-a6a2-438a5ba76e07"
      },
      "source": [
        "print(\"Ceros en Nombre   = \", np.count_nonzero(JJOO.Nombre== 0))\n",
        "print(\"Ceros en Año      = \",np.count_nonzero(JJOO.Edad== 0))\n",
        "print(\"Ceros en Sexo     = \",np.count_nonzero(JJOO.Sexo== 0))\n",
        "print(\"Ceros en Estatura = \", np.count_nonzero(JJOO.Estatura == 0))\n",
        "print(\"Ceros en Peso     = \",np.count_nonzero(JJOO.Peso== 0))\n",
        "print(\"Ceros en Equipo   = \",np.count_nonzero(JJOO.Equipo== 0))\n",
        "print(\"Ceros en NOC      = \",np.count_nonzero(JJOO.NOC== 0))\n",
        "print(\"Ceros en Juegos   = \", np.count_nonzero(JJOO.Juegos== 0))\n",
        "print(\"Ceros en Año      = \",np.count_nonzero(JJOO.Año== 0))\n",
        "print(\"Ceros en Temporada= \", np.count_nonzero(JJOO.Temporada == 0))\n",
        "print(\"Ceros en Ciudad   = \",np.count_nonzero(JJOO.Ciudad== 0))\n",
        "print(\"Ceros en Deporte  = \",np.count_nonzero(JJOO.Deporte== 0))\n",
        "print(\"Ceros en Evento   = \",np.count_nonzero(JJOO.Evento== 0))\n",
        "print(\"Ceros en Medalla  = \",np.count_nonzero(JJOO.Medalla== 0))"
      ],
      "execution_count": null,
      "outputs": [
        {
          "output_type": "stream",
          "name": "stdout",
          "text": [
            "Ceros en Nombre   =  0\n",
            "Ceros en Año      =  9474\n",
            "Ceros en Sexo     =  0\n",
            "Ceros en Estatura =  60171\n",
            "Ceros en Peso     =  62875\n",
            "Ceros en Equipo   =  0\n",
            "Ceros en NOC      =  0\n",
            "Ceros en Juegos   =  0\n",
            "Ceros en Año      =  0\n",
            "Ceros en Temporada=  0\n",
            "Ceros en Ciudad   =  0\n",
            "Ceros en Deporte  =  0\n",
            "Ceros en Evento   =  0\n",
            "Ceros en Medalla  =  0\n"
          ]
        }
      ]
    },
    {
      "cell_type": "markdown",
      "metadata": {
        "id": "qnkZlz2SLG_A"
      },
      "source": [
        "Como podemos observar, contamos con 9,474 datos de personas que no nos brindan su edad, asi como 60,171 datos en estatura y 62,875 datos en peso donde tampoco contamos con información\n",
        "\n",
        "Considerando que si eliminamos a aquellas personas que no brindan su información completa, nos quedaríamos con muy pocos datos ademas de correr el riesgo de que eliminemos a paises participantes en caso de que solo hayan tenido un solo participante en un solo deporte hemos decidido crear dos bases de datos de una sola y prevenir la perdida de datos masiva.\n",
        "\n",
        "En este caso contaremos con una base de datos de pesos y estaturas eliminando aquellos datos que no brinden la información requerida debido a que nos interesa saber cual es la complexion promedio o necesaria de un altleta de alto rendimento. Por otro lado, tendremos otra base sin las columnas de peso y estatura con el fin de analizar los paises participantes, deportes y demas \n",
        "\n",
        "Asi mismo, eliminaremos la columna \"NOC\" y la columna \"Games\" debido a que la primera es la abreviacion del país y la segunda es un concatenado entre año y temporada por lo que tendriamos datos innecesariamente repetidos.\n"
      ]
    },
    {
      "cell_type": "code",
      "metadata": {
        "id": "3CeFqvPbT4He"
      },
      "source": [
        "SinCero=JJOO[JJOO.Edad > 0]\n",
        "SinCero\n",
        "SinCero.to_csv('SinCero.csv')\n",
        "SinCero=pd.read_csv('SinCero.csv', index_col=[0]) #Guardamos el primer filtrado \n",
        "\n",
        "SinCero1=SinCero[SinCero.Estatura > 0]\n",
        "SinCero1\n",
        "SinCero1.to_csv('SinCero1.csv')\n",
        "SinCero1=pd.read_csv('SinCero1.csv', index_col=[0]) #Guardamos el segundo filtrado \n",
        "\n",
        "SinCero2=SinCero1[SinCero1.Peso > 0]\n",
        "SinCol=SinCero2.drop(['NOC','Juegos'],axis=1)\n",
        "SinCol\n",
        "SinCol.to_csv('SinCero2.csv')\n",
        "Base1=pd.read_csv('SinCero2.csv', index_col=[0]) #Guardamos el tercer filtrado \n",
        "\n",
        "SinCero3=JJOO[JJOO.Peso > 0]\n",
        "SinCero3\n",
        "SinCero3.to_csv('SinCero3.csv')\n",
        "SinCero3=pd.read_csv('SinCero3.csv', index_col=[0])\n",
        "\n",
        "SinCero4=JJOO[JJOO.Estatura > 0]\n",
        "SinCero4\n",
        "SinCero4.to_csv('SinCero4.csv')\n",
        "SinCero4=pd.read_csv('SinCero4.csv', index_col=[0])\n"
      ],
      "execution_count": null,
      "outputs": []
    },
    {
      "cell_type": "markdown",
      "metadata": {
        "id": "_FLNqIj9WhSm"
      },
      "source": [
        "Después de haber filtrado los datos para quedar **sin ceros en Age, Height y Weight** nos quedamos con la siguiente base de datos "
      ]
    },
    {
      "cell_type": "code",
      "metadata": {
        "colab": {
          "base_uri": "https://localhost:8080/"
        },
        "id": "o0uLGF9LVyTw",
        "outputId": "d1cf5e49-ea42-4c15-bd74-e533efb100a3"
      },
      "source": [
        "Base1\n",
        "Base1.isnull().sum()"
      ],
      "execution_count": null,
      "outputs": [
        {
          "output_type": "execute_result",
          "data": {
            "text/plain": [
              "Nombre       0\n",
              "Sexo         0\n",
              "Edad         0\n",
              "Estatura     0\n",
              "Peso         0\n",
              "Equipo       0\n",
              "Año          0\n",
              "Temporada    0\n",
              "Ciudad       0\n",
              "Deporte      0\n",
              "Evento       0\n",
              "Medalla      0\n",
              "dtype: int64"
            ]
          },
          "metadata": {},
          "execution_count": 157
        }
      ]
    },
    {
      "cell_type": "markdown",
      "metadata": {
        "id": "LeQkpJLVW2nS"
      },
      "source": [
        "Debido a que la siguiente es la segunda base, tenemos que volver a eliminar las columnas no deseadas de la base original (NOC, Juegos). Asi mismo, esta es la que no contendrá los datos de los pesos y las estaturas "
      ]
    },
    {
      "cell_type": "code",
      "metadata": {
        "colab": {
          "base_uri": "https://localhost:8080/",
          "height": 654
        },
        "id": "ir4YIYBwLGlC",
        "outputId": "06032239-4d56-48eb-a203-4ab9a11ffc23"
      },
      "source": [
        "EstPeso=JJOO.drop(['Peso','Estatura','NOC','Juegos'],axis=1)\n",
        "EstPeso"
      ],
      "execution_count": null,
      "outputs": [
        {
          "output_type": "execute_result",
          "data": {
            "text/html": [
              "<div>\n",
              "<style scoped>\n",
              "    .dataframe tbody tr th:only-of-type {\n",
              "        vertical-align: middle;\n",
              "    }\n",
              "\n",
              "    .dataframe tbody tr th {\n",
              "        vertical-align: top;\n",
              "    }\n",
              "\n",
              "    .dataframe thead th {\n",
              "        text-align: right;\n",
              "    }\n",
              "</style>\n",
              "<table border=\"1\" class=\"dataframe\">\n",
              "  <thead>\n",
              "    <tr style=\"text-align: right;\">\n",
              "      <th></th>\n",
              "      <th>Nombre</th>\n",
              "      <th>Sexo</th>\n",
              "      <th>Edad</th>\n",
              "      <th>Equipo</th>\n",
              "      <th>Año</th>\n",
              "      <th>Temporada</th>\n",
              "      <th>Ciudad</th>\n",
              "      <th>Deporte</th>\n",
              "      <th>Evento</th>\n",
              "      <th>Medalla</th>\n",
              "    </tr>\n",
              "    <tr>\n",
              "      <th>ID</th>\n",
              "      <th></th>\n",
              "      <th></th>\n",
              "      <th></th>\n",
              "      <th></th>\n",
              "      <th></th>\n",
              "      <th></th>\n",
              "      <th></th>\n",
              "      <th></th>\n",
              "      <th></th>\n",
              "      <th></th>\n",
              "    </tr>\n",
              "  </thead>\n",
              "  <tbody>\n",
              "    <tr>\n",
              "      <th>1</th>\n",
              "      <td>A Dijiang</td>\n",
              "      <td>M</td>\n",
              "      <td>24</td>\n",
              "      <td>China</td>\n",
              "      <td>1992</td>\n",
              "      <td>Summer</td>\n",
              "      <td>Barcelona</td>\n",
              "      <td>Basketball</td>\n",
              "      <td>Basketball Men's Basketball</td>\n",
              "      <td>0</td>\n",
              "    </tr>\n",
              "    <tr>\n",
              "      <th>2</th>\n",
              "      <td>A Lamusi</td>\n",
              "      <td>M</td>\n",
              "      <td>23</td>\n",
              "      <td>China</td>\n",
              "      <td>2012</td>\n",
              "      <td>Summer</td>\n",
              "      <td>London</td>\n",
              "      <td>Judo</td>\n",
              "      <td>Judo Men's Extra-Lightweight</td>\n",
              "      <td>0</td>\n",
              "    </tr>\n",
              "    <tr>\n",
              "      <th>3</th>\n",
              "      <td>Gunnar Nielsen Aaby</td>\n",
              "      <td>M</td>\n",
              "      <td>24</td>\n",
              "      <td>Denmark</td>\n",
              "      <td>1920</td>\n",
              "      <td>Summer</td>\n",
              "      <td>Antwerpen</td>\n",
              "      <td>Football</td>\n",
              "      <td>Football Men's Football</td>\n",
              "      <td>0</td>\n",
              "    </tr>\n",
              "    <tr>\n",
              "      <th>4</th>\n",
              "      <td>Edgar Lindenau Aabye</td>\n",
              "      <td>M</td>\n",
              "      <td>34</td>\n",
              "      <td>Denmark/Sweden</td>\n",
              "      <td>1900</td>\n",
              "      <td>Summer</td>\n",
              "      <td>Paris</td>\n",
              "      <td>Tug-Of-War</td>\n",
              "      <td>Tug-Of-War Men's Tug-Of-War</td>\n",
              "      <td>Gold</td>\n",
              "    </tr>\n",
              "    <tr>\n",
              "      <th>5</th>\n",
              "      <td>Christine Jacoba Aaftink</td>\n",
              "      <td>F</td>\n",
              "      <td>21</td>\n",
              "      <td>Netherlands</td>\n",
              "      <td>1988</td>\n",
              "      <td>Winter</td>\n",
              "      <td>Calgary</td>\n",
              "      <td>Speed Skating</td>\n",
              "      <td>Speed Skating Women's 500 metres</td>\n",
              "      <td>0</td>\n",
              "    </tr>\n",
              "    <tr>\n",
              "      <th>...</th>\n",
              "      <td>...</td>\n",
              "      <td>...</td>\n",
              "      <td>...</td>\n",
              "      <td>...</td>\n",
              "      <td>...</td>\n",
              "      <td>...</td>\n",
              "      <td>...</td>\n",
              "      <td>...</td>\n",
              "      <td>...</td>\n",
              "      <td>...</td>\n",
              "    </tr>\n",
              "    <tr>\n",
              "      <th>135569</th>\n",
              "      <td>Andrzej ya</td>\n",
              "      <td>M</td>\n",
              "      <td>29</td>\n",
              "      <td>Poland-1</td>\n",
              "      <td>1976</td>\n",
              "      <td>Winter</td>\n",
              "      <td>Innsbruck</td>\n",
              "      <td>Luge</td>\n",
              "      <td>Luge Mixed (Men)'s Doubles</td>\n",
              "      <td>0</td>\n",
              "    </tr>\n",
              "    <tr>\n",
              "      <th>135570</th>\n",
              "      <td>Piotr ya</td>\n",
              "      <td>M</td>\n",
              "      <td>27</td>\n",
              "      <td>Poland</td>\n",
              "      <td>2014</td>\n",
              "      <td>Winter</td>\n",
              "      <td>Sochi</td>\n",
              "      <td>Ski Jumping</td>\n",
              "      <td>Ski Jumping Men's Large Hill, Individual</td>\n",
              "      <td>0</td>\n",
              "    </tr>\n",
              "    <tr>\n",
              "      <th>135570</th>\n",
              "      <td>Piotr ya</td>\n",
              "      <td>M</td>\n",
              "      <td>27</td>\n",
              "      <td>Poland</td>\n",
              "      <td>2014</td>\n",
              "      <td>Winter</td>\n",
              "      <td>Sochi</td>\n",
              "      <td>Ski Jumping</td>\n",
              "      <td>Ski Jumping Men's Large Hill, Team</td>\n",
              "      <td>0</td>\n",
              "    </tr>\n",
              "    <tr>\n",
              "      <th>135571</th>\n",
              "      <td>Tomasz Ireneusz ya</td>\n",
              "      <td>M</td>\n",
              "      <td>30</td>\n",
              "      <td>Poland</td>\n",
              "      <td>1998</td>\n",
              "      <td>Winter</td>\n",
              "      <td>Nagano</td>\n",
              "      <td>Bobsleigh</td>\n",
              "      <td>Bobsleigh Men's Four</td>\n",
              "      <td>0</td>\n",
              "    </tr>\n",
              "    <tr>\n",
              "      <th>135571</th>\n",
              "      <td>Tomasz Ireneusz ya</td>\n",
              "      <td>M</td>\n",
              "      <td>34</td>\n",
              "      <td>Poland</td>\n",
              "      <td>2002</td>\n",
              "      <td>Winter</td>\n",
              "      <td>Salt Lake City</td>\n",
              "      <td>Bobsleigh</td>\n",
              "      <td>Bobsleigh Men's Four</td>\n",
              "      <td>0</td>\n",
              "    </tr>\n",
              "  </tbody>\n",
              "</table>\n",
              "<p>271116 rows × 10 columns</p>\n",
              "</div>"
            ],
            "text/plain": [
              "                          Nombre  ... Medalla\n",
              "ID                                ...        \n",
              "1                      A Dijiang  ...       0\n",
              "2                       A Lamusi  ...       0\n",
              "3            Gunnar Nielsen Aaby  ...       0\n",
              "4           Edgar Lindenau Aabye  ...    Gold\n",
              "5       Christine Jacoba Aaftink  ...       0\n",
              "...                          ...  ...     ...\n",
              "135569                Andrzej ya  ...       0\n",
              "135570                  Piotr ya  ...       0\n",
              "135570                  Piotr ya  ...       0\n",
              "135571        Tomasz Ireneusz ya  ...       0\n",
              "135571        Tomasz Ireneusz ya  ...       0\n",
              "\n",
              "[271116 rows x 10 columns]"
            ]
          },
          "metadata": {},
          "execution_count": 158
        }
      ]
    },
    {
      "cell_type": "markdown",
      "metadata": {
        "id": "KaTzxhdwOR21"
      },
      "source": [
        "Procederemos a guardar nuestra base de datos donde **no contamos con pesos ni estaturas**\n"
      ]
    },
    {
      "cell_type": "code",
      "metadata": {
        "colab": {
          "base_uri": "https://localhost:8080/",
          "height": 654
        },
        "id": "CNKQDb_1K04B",
        "outputId": "22d18c7d-48e4-405b-c90e-6281787e02e6"
      },
      "source": [
        "EstPeso.to_csv('JJOO(2).csv')\n",
        "Base2=pd.read_csv('JJOO(2).csv', index_col=[0])\n",
        "Base2"
      ],
      "execution_count": null,
      "outputs": [
        {
          "output_type": "execute_result",
          "data": {
            "text/html": [
              "<div>\n",
              "<style scoped>\n",
              "    .dataframe tbody tr th:only-of-type {\n",
              "        vertical-align: middle;\n",
              "    }\n",
              "\n",
              "    .dataframe tbody tr th {\n",
              "        vertical-align: top;\n",
              "    }\n",
              "\n",
              "    .dataframe thead th {\n",
              "        text-align: right;\n",
              "    }\n",
              "</style>\n",
              "<table border=\"1\" class=\"dataframe\">\n",
              "  <thead>\n",
              "    <tr style=\"text-align: right;\">\n",
              "      <th></th>\n",
              "      <th>Nombre</th>\n",
              "      <th>Sexo</th>\n",
              "      <th>Edad</th>\n",
              "      <th>Equipo</th>\n",
              "      <th>Año</th>\n",
              "      <th>Temporada</th>\n",
              "      <th>Ciudad</th>\n",
              "      <th>Deporte</th>\n",
              "      <th>Evento</th>\n",
              "      <th>Medalla</th>\n",
              "    </tr>\n",
              "    <tr>\n",
              "      <th>ID</th>\n",
              "      <th></th>\n",
              "      <th></th>\n",
              "      <th></th>\n",
              "      <th></th>\n",
              "      <th></th>\n",
              "      <th></th>\n",
              "      <th></th>\n",
              "      <th></th>\n",
              "      <th></th>\n",
              "      <th></th>\n",
              "    </tr>\n",
              "  </thead>\n",
              "  <tbody>\n",
              "    <tr>\n",
              "      <th>1</th>\n",
              "      <td>A Dijiang</td>\n",
              "      <td>M</td>\n",
              "      <td>24</td>\n",
              "      <td>China</td>\n",
              "      <td>1992</td>\n",
              "      <td>Summer</td>\n",
              "      <td>Barcelona</td>\n",
              "      <td>Basketball</td>\n",
              "      <td>Basketball Men's Basketball</td>\n",
              "      <td>0</td>\n",
              "    </tr>\n",
              "    <tr>\n",
              "      <th>2</th>\n",
              "      <td>A Lamusi</td>\n",
              "      <td>M</td>\n",
              "      <td>23</td>\n",
              "      <td>China</td>\n",
              "      <td>2012</td>\n",
              "      <td>Summer</td>\n",
              "      <td>London</td>\n",
              "      <td>Judo</td>\n",
              "      <td>Judo Men's Extra-Lightweight</td>\n",
              "      <td>0</td>\n",
              "    </tr>\n",
              "    <tr>\n",
              "      <th>3</th>\n",
              "      <td>Gunnar Nielsen Aaby</td>\n",
              "      <td>M</td>\n",
              "      <td>24</td>\n",
              "      <td>Denmark</td>\n",
              "      <td>1920</td>\n",
              "      <td>Summer</td>\n",
              "      <td>Antwerpen</td>\n",
              "      <td>Football</td>\n",
              "      <td>Football Men's Football</td>\n",
              "      <td>0</td>\n",
              "    </tr>\n",
              "    <tr>\n",
              "      <th>4</th>\n",
              "      <td>Edgar Lindenau Aabye</td>\n",
              "      <td>M</td>\n",
              "      <td>34</td>\n",
              "      <td>Denmark/Sweden</td>\n",
              "      <td>1900</td>\n",
              "      <td>Summer</td>\n",
              "      <td>Paris</td>\n",
              "      <td>Tug-Of-War</td>\n",
              "      <td>Tug-Of-War Men's Tug-Of-War</td>\n",
              "      <td>Gold</td>\n",
              "    </tr>\n",
              "    <tr>\n",
              "      <th>5</th>\n",
              "      <td>Christine Jacoba Aaftink</td>\n",
              "      <td>F</td>\n",
              "      <td>21</td>\n",
              "      <td>Netherlands</td>\n",
              "      <td>1988</td>\n",
              "      <td>Winter</td>\n",
              "      <td>Calgary</td>\n",
              "      <td>Speed Skating</td>\n",
              "      <td>Speed Skating Women's 500 metres</td>\n",
              "      <td>0</td>\n",
              "    </tr>\n",
              "    <tr>\n",
              "      <th>...</th>\n",
              "      <td>...</td>\n",
              "      <td>...</td>\n",
              "      <td>...</td>\n",
              "      <td>...</td>\n",
              "      <td>...</td>\n",
              "      <td>...</td>\n",
              "      <td>...</td>\n",
              "      <td>...</td>\n",
              "      <td>...</td>\n",
              "      <td>...</td>\n",
              "    </tr>\n",
              "    <tr>\n",
              "      <th>135569</th>\n",
              "      <td>Andrzej ya</td>\n",
              "      <td>M</td>\n",
              "      <td>29</td>\n",
              "      <td>Poland-1</td>\n",
              "      <td>1976</td>\n",
              "      <td>Winter</td>\n",
              "      <td>Innsbruck</td>\n",
              "      <td>Luge</td>\n",
              "      <td>Luge Mixed (Men)'s Doubles</td>\n",
              "      <td>0</td>\n",
              "    </tr>\n",
              "    <tr>\n",
              "      <th>135570</th>\n",
              "      <td>Piotr ya</td>\n",
              "      <td>M</td>\n",
              "      <td>27</td>\n",
              "      <td>Poland</td>\n",
              "      <td>2014</td>\n",
              "      <td>Winter</td>\n",
              "      <td>Sochi</td>\n",
              "      <td>Ski Jumping</td>\n",
              "      <td>Ski Jumping Men's Large Hill, Individual</td>\n",
              "      <td>0</td>\n",
              "    </tr>\n",
              "    <tr>\n",
              "      <th>135570</th>\n",
              "      <td>Piotr ya</td>\n",
              "      <td>M</td>\n",
              "      <td>27</td>\n",
              "      <td>Poland</td>\n",
              "      <td>2014</td>\n",
              "      <td>Winter</td>\n",
              "      <td>Sochi</td>\n",
              "      <td>Ski Jumping</td>\n",
              "      <td>Ski Jumping Men's Large Hill, Team</td>\n",
              "      <td>0</td>\n",
              "    </tr>\n",
              "    <tr>\n",
              "      <th>135571</th>\n",
              "      <td>Tomasz Ireneusz ya</td>\n",
              "      <td>M</td>\n",
              "      <td>30</td>\n",
              "      <td>Poland</td>\n",
              "      <td>1998</td>\n",
              "      <td>Winter</td>\n",
              "      <td>Nagano</td>\n",
              "      <td>Bobsleigh</td>\n",
              "      <td>Bobsleigh Men's Four</td>\n",
              "      <td>0</td>\n",
              "    </tr>\n",
              "    <tr>\n",
              "      <th>135571</th>\n",
              "      <td>Tomasz Ireneusz ya</td>\n",
              "      <td>M</td>\n",
              "      <td>34</td>\n",
              "      <td>Poland</td>\n",
              "      <td>2002</td>\n",
              "      <td>Winter</td>\n",
              "      <td>Salt Lake City</td>\n",
              "      <td>Bobsleigh</td>\n",
              "      <td>Bobsleigh Men's Four</td>\n",
              "      <td>0</td>\n",
              "    </tr>\n",
              "  </tbody>\n",
              "</table>\n",
              "<p>271116 rows × 10 columns</p>\n",
              "</div>"
            ],
            "text/plain": [
              "                          Nombre  ... Medalla\n",
              "ID                                ...        \n",
              "1                      A Dijiang  ...       0\n",
              "2                       A Lamusi  ...       0\n",
              "3            Gunnar Nielsen Aaby  ...       0\n",
              "4           Edgar Lindenau Aabye  ...    Gold\n",
              "5       Christine Jacoba Aaftink  ...       0\n",
              "...                          ...  ...     ...\n",
              "135569                Andrzej ya  ...       0\n",
              "135570                  Piotr ya  ...       0\n",
              "135570                  Piotr ya  ...       0\n",
              "135571        Tomasz Ireneusz ya  ...       0\n",
              "135571        Tomasz Ireneusz ya  ...       0\n",
              "\n",
              "[271116 rows x 10 columns]"
            ]
          },
          "metadata": {},
          "execution_count": 159
        }
      ]
    },
    {
      "cell_type": "markdown",
      "metadata": {
        "id": "i82FkE3qfhOS"
      },
      "source": [
        "#**Estadística básica de los datos**\n",
        "\n",
        "En esta parte del proyecto podremos observar la estadística básica de nuestra base de datos\n",
        "\n",
        "Como nuestra pregunta de interés es saber las características promedio de un medallista de oro observaremos las estadísticas de la edad, el peso, la estatura y país\n",
        "\n",
        "Iniciaremos filtrando los medallistas que ganaron oro através de los años por lo que utilizaremos nuestra Base2 "
      ]
    },
    {
      "cell_type": "code",
      "metadata": {
        "id": "kQ3zR1DpBBWp"
      },
      "source": [
        "import matplotlib.pyplot as plt\n",
        "import seaborn as sns"
      ],
      "execution_count": null,
      "outputs": []
    },
    {
      "cell_type": "code",
      "metadata": {
        "id": "l-35B7JzgilT"
      },
      "source": [
        "oro=JJOO[JJOO['Medalla']=='Gold']"
      ],
      "execution_count": null,
      "outputs": []
    },
    {
      "cell_type": "markdown",
      "metadata": {
        "id": "GSFvabrThP5-"
      },
      "source": [
        "Aquí podemos apreciar la estadística descriptiva de la **edad** de los medallistas de oro olímpicos\n",
        "\n",
        "- Conteo de filas\n",
        "- Media\n",
        "- Desviación estándar\n",
        "- Mínimo \n",
        "- Primer cuartil \n",
        "- Segundo cuartil \n",
        "- Tercer cuartil\n",
        "- Máximo\n"
      ]
    },
    {
      "cell_type": "code",
      "metadata": {
        "colab": {
          "base_uri": "https://localhost:8080/",
          "height": 297
        },
        "id": "-Q4l3nT9hY9u",
        "outputId": "c78668b9-201a-411d-9452-d6557b9ab31c"
      },
      "source": [
        "pd.DataFrame(SinCero['Edad'].describe())"
      ],
      "execution_count": null,
      "outputs": [
        {
          "output_type": "execute_result",
          "data": {
            "text/html": [
              "<div>\n",
              "<style scoped>\n",
              "    .dataframe tbody tr th:only-of-type {\n",
              "        vertical-align: middle;\n",
              "    }\n",
              "\n",
              "    .dataframe tbody tr th {\n",
              "        vertical-align: top;\n",
              "    }\n",
              "\n",
              "    .dataframe thead th {\n",
              "        text-align: right;\n",
              "    }\n",
              "</style>\n",
              "<table border=\"1\" class=\"dataframe\">\n",
              "  <thead>\n",
              "    <tr style=\"text-align: right;\">\n",
              "      <th></th>\n",
              "      <th>Edad</th>\n",
              "    </tr>\n",
              "  </thead>\n",
              "  <tbody>\n",
              "    <tr>\n",
              "      <th>count</th>\n",
              "      <td>261642.000000</td>\n",
              "    </tr>\n",
              "    <tr>\n",
              "      <th>mean</th>\n",
              "      <td>25.556898</td>\n",
              "    </tr>\n",
              "    <tr>\n",
              "      <th>std</th>\n",
              "      <td>6.393561</td>\n",
              "    </tr>\n",
              "    <tr>\n",
              "      <th>min</th>\n",
              "      <td>10.000000</td>\n",
              "    </tr>\n",
              "    <tr>\n",
              "      <th>25%</th>\n",
              "      <td>21.000000</td>\n",
              "    </tr>\n",
              "    <tr>\n",
              "      <th>50%</th>\n",
              "      <td>24.000000</td>\n",
              "    </tr>\n",
              "    <tr>\n",
              "      <th>75%</th>\n",
              "      <td>28.000000</td>\n",
              "    </tr>\n",
              "    <tr>\n",
              "      <th>max</th>\n",
              "      <td>97.000000</td>\n",
              "    </tr>\n",
              "  </tbody>\n",
              "</table>\n",
              "</div>"
            ],
            "text/plain": [
              "                Edad\n",
              "count  261642.000000\n",
              "mean       25.556898\n",
              "std         6.393561\n",
              "min        10.000000\n",
              "25%        21.000000\n",
              "50%        24.000000\n",
              "75%        28.000000\n",
              "max        97.000000"
            ]
          },
          "metadata": {},
          "execution_count": 162
        }
      ]
    },
    {
      "cell_type": "markdown",
      "metadata": {
        "id": "P96XMsDqieep"
      },
      "source": [
        "Esto nos dice que la edad promedio de los medallistas de oro es de alrededor de 26 años es decir que los atletas ganadores son atletas jóvenes y es la edad donde dan su mejor rendimient"
      ]
    },
    {
      "cell_type": "code",
      "metadata": {
        "colab": {
          "base_uri": "https://localhost:8080/",
          "height": 295
        },
        "id": "LeB-GauXBQ7_",
        "outputId": "ccd33a4d-a89a-4879-fd98-53002b060049"
      },
      "source": [
        "plt.hist(SinCero['Edad'])\n",
        "plt.title('Edad de los medallistas')\n",
        "plt.xlabel('Cantidad de medallistas')\n",
        "plt.ylabel('Edad')\n",
        "plt.show()"
      ],
      "execution_count": null,
      "outputs": [
        {
          "output_type": "display_data",
          "data": {
            "image/png": "[encoded data removed]",
            "text/plain": [
              "<Figure size 432x288 with 1 Axes>"
            ]
          },
          "metadata": {
            "needs_background": "light"
          }
        }
      ]
    },
    {
      "cell_type": "markdown",
      "metadata": {
        "id": "v9MV5cguiixH"
      },
      "source": [
        "Aquí podemos apreciar la estadística descriptiva de ***peso*** de los medallistas de oro olímpicos\n",
        "\n",
        "- Conteo de filas\n",
        "- Media\n",
        "- Desviación estándar\n",
        "- Mínimo \n",
        "- Primer cuartil \n",
        "- Segundo cuartil \n",
        "- Tercer cuartil\n",
        "- Máximo"
      ]
    },
    {
      "cell_type": "code",
      "metadata": {
        "colab": {
          "base_uri": "https://localhost:8080/",
          "height": 297
        },
        "id": "R2MBdPJKirfi",
        "outputId": "8de12c00-d7a3-4c56-f898-8bdc573baca0"
      },
      "source": [
        "pd.DataFrame(SinCero3['Peso'].describe())"
      ],
      "execution_count": null,
      "outputs": [
        {
          "output_type": "execute_result",
          "data": {
            "text/html": [
              "<div>\n",
              "<style scoped>\n",
              "    .dataframe tbody tr th:only-of-type {\n",
              "        vertical-align: middle;\n",
              "    }\n",
              "\n",
              "    .dataframe tbody tr th {\n",
              "        vertical-align: top;\n",
              "    }\n",
              "\n",
              "    .dataframe thead th {\n",
              "        text-align: right;\n",
              "    }\n",
              "</style>\n",
              "<table border=\"1\" class=\"dataframe\">\n",
              "  <thead>\n",
              "    <tr style=\"text-align: right;\">\n",
              "      <th></th>\n",
              "      <th>Peso</th>\n",
              "    </tr>\n",
              "  </thead>\n",
              "  <tbody>\n",
              "    <tr>\n",
              "      <th>count</th>\n",
              "      <td>208241.000000</td>\n",
              "    </tr>\n",
              "    <tr>\n",
              "      <th>mean</th>\n",
              "      <td>70.702393</td>\n",
              "    </tr>\n",
              "    <tr>\n",
              "      <th>std</th>\n",
              "      <td>14.348020</td>\n",
              "    </tr>\n",
              "    <tr>\n",
              "      <th>min</th>\n",
              "      <td>25.000000</td>\n",
              "    </tr>\n",
              "    <tr>\n",
              "      <th>25%</th>\n",
              "      <td>60.000000</td>\n",
              "    </tr>\n",
              "    <tr>\n",
              "      <th>50%</th>\n",
              "      <td>70.000000</td>\n",
              "    </tr>\n",
              "    <tr>\n",
              "      <th>75%</th>\n",
              "      <td>79.000000</td>\n",
              "    </tr>\n",
              "    <tr>\n",
              "      <th>max</th>\n",
              "      <td>214.000000</td>\n",
              "    </tr>\n",
              "  </tbody>\n",
              "</table>\n",
              "</div>"
            ],
            "text/plain": [
              "                Peso\n",
              "count  208241.000000\n",
              "mean       70.702393\n",
              "std        14.348020\n",
              "min        25.000000\n",
              "25%        60.000000\n",
              "50%        70.000000\n",
              "75%        79.000000\n",
              "max       214.000000"
            ]
          },
          "metadata": {},
          "execution_count": 164
        }
      ]
    },
    {
      "cell_type": "markdown",
      "metadata": {
        "id": "qwcclNHsjTab"
      },
      "source": [
        "Aunque esta estadística pueda ser algo subjetiva debido a que algunos deportes se necesita mas peso que en otros, sin embargo nos da una idea de como es el peso de un atleta olímpico ganador de una medalla de oro"
      ]
    },
    {
      "cell_type": "code",
      "metadata": {
        "colab": {
          "base_uri": "https://localhost:8080/",
          "height": 350
        },
        "id": "0zEPKrN3Bl80",
        "outputId": "71878745-3e3a-42a8-e727-7688d05725d9"
      },
      "source": [
        "sns.boxplot(SinCero['Peso'])\n"
      ],
      "execution_count": null,
      "outputs": [
        {
          "output_type": "stream",
          "name": "stderr",
          "text": [
            "/usr/local/lib/python3.7/dist-packages/seaborn/_decorators.py:43: FutureWarning: Pass the following variable as a keyword arg: x. From version 0.12, the only valid positional argument will be `data`, and passing other arguments without an explicit keyword will result in an error or misinterpretation.\n",
            "  FutureWarning\n"
          ]
        },
        {
          "output_type": "execute_result",
          "data": {
            "text/plain": [
              "<matplotlib.axes._subplots.AxesSubplot at 0x7f1fb9dc6a10>"
            ]
          },
          "metadata": {},
          "execution_count": 165
        },
        {
          "output_type": "display_data",
          "data": {
            "image/png": "[encoded data removed]",
            "text/plain": [
              "<Figure size 432x288 with 1 Axes>"
            ]
          },
          "metadata": {
            "needs_background": "light"
          }
        }
      ]
    },
    {
      "cell_type": "markdown",
      "metadata": {
        "id": "12Ll_78teQkS"
      },
      "source": [
        "##Conclusion\n",
        "En muchos deportes ya se tiene una categoria especifica de pesos pero lo que podemos ver aqui, nos muestra cual es el peso ideal para un deportista olimpico que es de 70.700 kilogramos"
      ]
    },
    {
      "cell_type": "markdown",
      "metadata": {
        "id": "34VUylhvjXo8"
      },
      "source": [
        "Aquí podemos apreciar la estadística descriptiva de la ***estatura*** de los medallistas de oro olímpicos\n",
        "\n",
        "- Conteo de filas\n",
        "- Media\n",
        "- Desviación estándar\n",
        "- Mínimo \n",
        "- Primer cuartil \n",
        "- Segundo cuartil \n",
        "- Tercer cuartil\n",
        "- Máximo"
      ]
    },
    {
      "cell_type": "code",
      "metadata": {
        "colab": {
          "base_uri": "https://localhost:8080/",
          "height": 297
        },
        "id": "EBxNgiERjchd",
        "outputId": "fb676c8b-55bc-4938-e3af-31077f21695b"
      },
      "source": [
        "pd.DataFrame(SinCero4['Estatura'].describe())"
      ],
      "execution_count": null,
      "outputs": [
        {
          "output_type": "execute_result",
          "data": {
            "text/html": [
              "<div>\n",
              "<style scoped>\n",
              "    .dataframe tbody tr th:only-of-type {\n",
              "        vertical-align: middle;\n",
              "    }\n",
              "\n",
              "    .dataframe tbody tr th {\n",
              "        vertical-align: top;\n",
              "    }\n",
              "\n",
              "    .dataframe thead th {\n",
              "        text-align: right;\n",
              "    }\n",
              "</style>\n",
              "<table border=\"1\" class=\"dataframe\">\n",
              "  <thead>\n",
              "    <tr style=\"text-align: right;\">\n",
              "      <th></th>\n",
              "      <th>Estatura</th>\n",
              "    </tr>\n",
              "  </thead>\n",
              "  <tbody>\n",
              "    <tr>\n",
              "      <th>count</th>\n",
              "      <td>210945.000000</td>\n",
              "    </tr>\n",
              "    <tr>\n",
              "      <th>mean</th>\n",
              "      <td>175.338970</td>\n",
              "    </tr>\n",
              "    <tr>\n",
              "      <th>std</th>\n",
              "      <td>10.518462</td>\n",
              "    </tr>\n",
              "    <tr>\n",
              "      <th>min</th>\n",
              "      <td>127.000000</td>\n",
              "    </tr>\n",
              "    <tr>\n",
              "      <th>25%</th>\n",
              "      <td>168.000000</td>\n",
              "    </tr>\n",
              "    <tr>\n",
              "      <th>50%</th>\n",
              "      <td>175.000000</td>\n",
              "    </tr>\n",
              "    <tr>\n",
              "      <th>75%</th>\n",
              "      <td>183.000000</td>\n",
              "    </tr>\n",
              "    <tr>\n",
              "      <th>max</th>\n",
              "      <td>226.000000</td>\n",
              "    </tr>\n",
              "  </tbody>\n",
              "</table>\n",
              "</div>"
            ],
            "text/plain": [
              "            Estatura\n",
              "count  210945.000000\n",
              "mean      175.338970\n",
              "std        10.518462\n",
              "min       127.000000\n",
              "25%       168.000000\n",
              "50%       175.000000\n",
              "75%       183.000000\n",
              "max       226.000000"
            ]
          },
          "metadata": {},
          "execution_count": 166
        }
      ]
    },
    {
      "cell_type": "markdown",
      "metadata": {
        "id": "83ELmfqHj4iS"
      },
      "source": [
        "Aqui podemos ver como se distribuyen la alturas en cm de los atletas ganadores y nos describe que en promedio el atleta ganador es un atleta alto"
      ]
    },
    {
      "cell_type": "code",
      "metadata": {
        "colab": {
          "base_uri": "https://localhost:8080/",
          "height": 282
        },
        "id": "C1WyT-VJB_D5",
        "outputId": "e9abc86d-7545-4ac8-bf7b-3ecc03cbddda"
      },
      "source": [
        "SinCero['Estatura'].value_counts().sort_index().plot.line()"
      ],
      "execution_count": null,
      "outputs": [
        {
          "output_type": "execute_result",
          "data": {
            "text/plain": [
              "<matplotlib.axes._subplots.AxesSubplot at 0x7f1fb9d3f650>"
            ]
          },
          "metadata": {},
          "execution_count": 167
        },
        {
          "output_type": "display_data",
          "data": {
            "image/png": "[encoded data removed]",
            "text/plain": [
              "<Figure size 432x288 with 1 Axes>"
            ]
          },
          "metadata": {
            "needs_background": "light"
          }
        }
      ]
    },
    {
      "cell_type": "markdown",
      "metadata": {
        "id": "5aKqGcVpMdTr"
      },
      "source": [
        "##Coclusion\n",
        "A pesar de que estudios muestran que la estatura promedio del ser humano en el mundo es de 1,65 metros aproximadamente (sin diferenciar el sexo masculino del femenino). La grafica nos muestra que el promedio de los ganadores es una persona cerca de 10cm mas alta que el promedio del ser humano 1,75 metros aproximadamente (sin diferenciar el sexo masculino del femenino). "
      ]
    },
    {
      "cell_type": "markdown",
      "metadata": {
        "id": "KnQvTP58j74e"
      },
      "source": [
        "Aqui podemos observar los 10 paises con mas medallas de oro"
      ]
    },
    {
      "cell_type": "code",
      "metadata": {
        "colab": {
          "base_uri": "https://localhost:8080/",
          "height": 390
        },
        "id": "NtFxh8-tj_98",
        "outputId": "a2066bc3-f690-4df2-9d2e-705f365bea82"
      },
      "source": [
        "medalxpais=oro.groupby(['Equipo']).count().sort_values(by=['Deporte'],ascending=False).head(10).iloc[:,1]\n",
        "medalxpais=pd.DataFrame(medalxpais)\n",
        "medalxpais"
      ],
      "execution_count": null,
      "outputs": [
        {
          "output_type": "execute_result",
          "data": {
            "text/html": [
              "<div>\n",
              "<style scoped>\n",
              "    .dataframe tbody tr th:only-of-type {\n",
              "        vertical-align: middle;\n",
              "    }\n",
              "\n",
              "    .dataframe tbody tr th {\n",
              "        vertical-align: top;\n",
              "    }\n",
              "\n",
              "    .dataframe thead th {\n",
              "        text-align: right;\n",
              "    }\n",
              "</style>\n",
              "<table border=\"1\" class=\"dataframe\">\n",
              "  <thead>\n",
              "    <tr style=\"text-align: right;\">\n",
              "      <th></th>\n",
              "      <th>Sexo</th>\n",
              "    </tr>\n",
              "    <tr>\n",
              "      <th>Equipo</th>\n",
              "      <th></th>\n",
              "    </tr>\n",
              "  </thead>\n",
              "  <tbody>\n",
              "    <tr>\n",
              "      <th>United States</th>\n",
              "      <td>2474</td>\n",
              "    </tr>\n",
              "    <tr>\n",
              "      <th>Soviet Union</th>\n",
              "      <td>1058</td>\n",
              "    </tr>\n",
              "    <tr>\n",
              "      <th>Germany</th>\n",
              "      <td>679</td>\n",
              "    </tr>\n",
              "    <tr>\n",
              "      <th>Italy</th>\n",
              "      <td>535</td>\n",
              "    </tr>\n",
              "    <tr>\n",
              "      <th>Great Britain</th>\n",
              "      <td>519</td>\n",
              "    </tr>\n",
              "    <tr>\n",
              "      <th>France</th>\n",
              "      <td>455</td>\n",
              "    </tr>\n",
              "    <tr>\n",
              "      <th>Sweden</th>\n",
              "      <td>451</td>\n",
              "    </tr>\n",
              "    <tr>\n",
              "      <th>Hungary</th>\n",
              "      <td>432</td>\n",
              "    </tr>\n",
              "    <tr>\n",
              "      <th>Canada</th>\n",
              "      <td>422</td>\n",
              "    </tr>\n",
              "    <tr>\n",
              "      <th>East Germany</th>\n",
              "      <td>369</td>\n",
              "    </tr>\n",
              "  </tbody>\n",
              "</table>\n",
              "</div>"
            ],
            "text/plain": [
              "               Sexo\n",
              "Equipo             \n",
              "United States  2474\n",
              "Soviet Union   1058\n",
              "Germany         679\n",
              "Italy           535\n",
              "Great Britain   519\n",
              "France          455\n",
              "Sweden          451\n",
              "Hungary         432\n",
              "Canada          422\n",
              "East Germany    369"
            ]
          },
          "metadata": {},
          "execution_count": 168
        }
      ]
    },
    {
      "cell_type": "code",
      "metadata": {
        "colab": {
          "base_uri": "https://localhost:8080/",
          "height": 356
        },
        "id": "suroqvGwC4wa",
        "outputId": "597e1dc0-8cbd-4a97-a225-55868297c00c"
      },
      "source": [
        "plt.bar(medalxpais.index,medalxpais.iloc[:,0])\n",
        "plt.xticks(rotation=90)\n",
        "plt.title('Primeros 10 paises medallistas de oro')\n",
        "plt.xlabel('Paises')\n",
        "plt.ylabel('Canidad medallas de oro')\n",
        "plt.show()"
      ],
      "execution_count": null,
      "outputs": [
        {
          "output_type": "display_data",
          "data": {
            "image/png": "[encoded data removed]",
            "text/plain": [
              "<Figure size 432x288 with 1 Axes>"
            ]
          },
          "metadata": {
            "needs_background": "light"
          }
        }
      ]
    },
    {
      "cell_type": "markdown",
      "metadata": {
        "id": "Mr6rVFSwbsK4"
      },
      "source": [
        "##Conclusión\n",
        "El ser de algun pais en especifico tambien ayuda mucho en tu rendimiento de los juegos olimpicos, ya sea por el apoyo de tu pais tanto como en recursos o como en equipamento.\n",
        "En este caso podemos ver como Estados Unidos lidera por mucho sobre los demas paises."
      ]
    },
    {
      "cell_type": "markdown",
      "metadata": {
        "id": "YgTdaVr2Z9ME"
      },
      "source": [
        ""
      ]
    },
    {
      "cell_type": "code",
      "metadata": {
        "colab": {
          "base_uri": "https://localhost:8080/",
          "height": 142
        },
        "id": "3BdEtaRmCpLl",
        "outputId": "24872d41-fff8-48d4-9cf6-efd58b6d2978"
      },
      "source": [
        "medalxsex=pd.DataFrame(SinCero.groupby(by=['Sexo']).count()['Medalla'])\n",
        "medalxsex"
      ],
      "execution_count": null,
      "outputs": [
        {
          "output_type": "execute_result",
          "data": {
            "text/html": [
              "<div>\n",
              "<style scoped>\n",
              "    .dataframe tbody tr th:only-of-type {\n",
              "        vertical-align: middle;\n",
              "    }\n",
              "\n",
              "    .dataframe tbody tr th {\n",
              "        vertical-align: top;\n",
              "    }\n",
              "\n",
              "    .dataframe thead th {\n",
              "        text-align: right;\n",
              "    }\n",
              "</style>\n",
              "<table border=\"1\" class=\"dataframe\">\n",
              "  <thead>\n",
              "    <tr style=\"text-align: right;\">\n",
              "      <th></th>\n",
              "      <th>Medalla</th>\n",
              "    </tr>\n",
              "    <tr>\n",
              "      <th>Sexo</th>\n",
              "      <th></th>\n",
              "    </tr>\n",
              "  </thead>\n",
              "  <tbody>\n",
              "    <tr>\n",
              "      <th>F</th>\n",
              "      <td>74098</td>\n",
              "    </tr>\n",
              "    <tr>\n",
              "      <th>M</th>\n",
              "      <td>187544</td>\n",
              "    </tr>\n",
              "  </tbody>\n",
              "</table>\n",
              "</div>"
            ],
            "text/plain": [
              "      Medalla\n",
              "Sexo         \n",
              "F       74098\n",
              "M      187544"
            ]
          },
          "metadata": {},
          "execution_count": 170
        }
      ]
    },
    {
      "cell_type": "code",
      "metadata": {
        "colab": {
          "base_uri": "https://localhost:8080/",
          "height": 318
        },
        "id": "QK-R5bQ9Cwuf",
        "outputId": "d6ad57d0-f512-47da-b1f7-ca65885060d5"
      },
      "source": [
        "plt.pie(medalxsex,labels=['Femenino \\n'+str(medalxsex.iloc[0,0]),'Masculino \\n'+str(medalxsex.iloc[1,0])])\n",
        "plt.title('Proporción medallistas por sexo')\n",
        "plt.show()"
      ],
      "execution_count": null,
      "outputs": [
        {
          "output_type": "stream",
          "name": "stderr",
          "text": [
            "/usr/local/lib/python3.7/dist-packages/ipykernel_launcher.py:1: MatplotlibDeprecationWarning: Non-1D inputs to pie() are currently squeeze()d, but this behavior is deprecated since 3.1 and will be removed in 3.3; pass a 1D array instead.\n",
            "  \"\"\"Entry point for launching an IPython kernel.\n"
          ]
        },
        {
          "output_type": "display_data",
          "data": {
            "image/png": "[encoded data removed]",
            "text/plain": [
              "<Figure size 432x288 with 1 Axes>"
            ]
          },
          "metadata": {}
        }
      ]
    },
    {
      "cell_type": "markdown",
      "metadata": {
        "id": "7guqYRGgHF71"
      },
      "source": [
        "##Conclusión\n",
        "Los Juegos de Ámsterdam de 1928 fueron los primeros que contaron con la participación oficial de mujeres, por lo tanto las mujeress se perdieron de 9 temporadas completas de competencias y eso hace una gran diferencia en el total de medallas"
      ]
    },
    {
      "cell_type": "code",
      "metadata": {
        "colab": {
          "base_uri": "https://localhost:8080/",
          "height": 173
        },
        "id": "YeU7Zt1uEWug",
        "outputId": "5ca0d0ff-ab1b-410d-816f-c296280bb0db"
      },
      "source": [
        "SinCero.corr()"
      ],
      "execution_count": null,
      "outputs": [
        {
          "output_type": "execute_result",
          "data": {
            "text/html": [
              "<div>\n",
              "<style scoped>\n",
              "    .dataframe tbody tr th:only-of-type {\n",
              "        vertical-align: middle;\n",
              "    }\n",
              "\n",
              "    .dataframe tbody tr th {\n",
              "        vertical-align: top;\n",
              "    }\n",
              "\n",
              "    .dataframe thead th {\n",
              "        text-align: right;\n",
              "    }\n",
              "</style>\n",
              "<table border=\"1\" class=\"dataframe\">\n",
              "  <thead>\n",
              "    <tr style=\"text-align: right;\">\n",
              "      <th></th>\n",
              "      <th>Edad</th>\n",
              "      <th>Estatura</th>\n",
              "      <th>Peso</th>\n",
              "      <th>Año</th>\n",
              "    </tr>\n",
              "  </thead>\n",
              "  <tbody>\n",
              "    <tr>\n",
              "      <th>Edad</th>\n",
              "      <td>1.000000</td>\n",
              "      <td>-0.132993</td>\n",
              "      <td>-0.071838</td>\n",
              "      <td>-0.115137</td>\n",
              "    </tr>\n",
              "    <tr>\n",
              "      <th>Estatura</th>\n",
              "      <td>-0.132993</td>\n",
              "      <td>1.000000</td>\n",
              "      <td>0.892639</td>\n",
              "      <td>0.620581</td>\n",
              "    </tr>\n",
              "    <tr>\n",
              "      <th>Peso</th>\n",
              "      <td>-0.071838</td>\n",
              "      <td>0.892639</td>\n",
              "      <td>1.000000</td>\n",
              "      <td>0.590639</td>\n",
              "    </tr>\n",
              "    <tr>\n",
              "      <th>Año</th>\n",
              "      <td>-0.115137</td>\n",
              "      <td>0.620581</td>\n",
              "      <td>0.590639</td>\n",
              "      <td>1.000000</td>\n",
              "    </tr>\n",
              "  </tbody>\n",
              "</table>\n",
              "</div>"
            ],
            "text/plain": [
              "              Edad  Estatura      Peso       Año\n",
              "Edad      1.000000 -0.132993 -0.071838 -0.115137\n",
              "Estatura -0.132993  1.000000  0.892639  0.620581\n",
              "Peso     -0.071838  0.892639  1.000000  0.590639\n",
              "Año      -0.115137  0.620581  0.590639  1.000000"
            ]
          },
          "metadata": {},
          "execution_count": 172
        }
      ]
    },
    {
      "cell_type": "code",
      "metadata": {
        "colab": {
          "base_uri": "https://localhost:8080/",
          "height": 390
        },
        "id": "yamH33d3EktB",
        "outputId": "f2bc6975-2694-4069-cb16-e19f398035f2"
      },
      "source": [
        "import matplotlib.pyplot as plt\n",
        "import seaborn as sns\n",
        "plt.figure(figsize=(10,6))\n",
        "sns.heatmap(SinCero.corr(),annot=True)\n",
        "plt.title('Mapa de correlación')\n",
        "plt.savefig('graph.png')\n",
        "plt.show()"
      ],
      "execution_count": null,
      "outputs": [
        {
          "output_type": "display_data",
          "data": {
            "image/png": "[encoded data removed]",
            "text/plain": [
              "<Figure size 720x432 with 2 Axes>"
            ]
          },
          "metadata": {
            "needs_background": "light"
          }
        }
      ]
    },
    {
      "cell_type": "code",
      "metadata": {
        "id": "SuZd57mtFsLy",
        "colab": {
          "base_uri": "https://localhost:8080/",
          "height": 802
        },
        "outputId": "afa7c65e-c0c2-49cc-d13b-2eee540c5bd8"
      },
      "source": [
        "SinCero.hist(figsize=(20, 16),color='lightblue')"
      ],
      "execution_count": null,
      "outputs": [
        {
          "output_type": "execute_result",
          "data": {
            "text/plain": [
              "array([[<matplotlib.axes._subplots.AxesSubplot object at 0x7f1fb9b4d190>,\n",
              "        <matplotlib.axes._subplots.AxesSubplot object at 0x7f1fb9b09110>],\n",
              "       [<matplotlib.axes._subplots.AxesSubplot object at 0x7f1fb9abc6d0>,\n",
              "        <matplotlib.axes._subplots.AxesSubplot object at 0x7f1fb9a72d50>]],\n",
              "      dtype=object)"
            ]
          },
          "metadata": {},
          "execution_count": 174
        },
        {
          "output_type": "display_data",
          "data": {
            "image/png": "[encoded data removed]",
            "text/plain": [
              "<Figure size 1440x1152 with 4 Axes>"
            ]
          },
          "metadata": {
            "needs_background": "light"
          }
        }
      ]
    },
    {
      "cell_type": "markdown",
      "metadata": {
        "id": "xe2vIIh8fvl5"
      },
      "source": [
        "##Conclusiones Generales\n",
        "Gracias a estas ultimas graficas de todos los años y participantes que se dio por entendido que la mayoria de las personas pesan alrededor de 70 kg, que la estatura promedio de ellos es de 1.75 mts y que en su mayoria tienen alrededor de 25 años\n",
        "Por lo que podemos concluir que el molde mas adaptable de una persona para los juegos olimpicos es un joven masculino de 25 años que mida 1.75 mts y su peso sea aproximadamente 70 kg"
      ]
    },
    {
      "cell_type": "markdown",
      "metadata": {
        "id": "F30YDKj9mAUW"
      },
      "source": [
        "#Técnica de minería\n",
        "La tecnica que usaremos para saber si el atleta ganara una medalla dependiendo de sus caracteristicas es la regresión logistica, este tipo de regresión utilizado para predecir el resultado de una variable categórica en este caso la variable medalla\n",
        "\n",
        "[Notebook de kagle](https://www.kaggle.com/alperenclk/for-beginner-logistic-regression)\n"
      ]
    },
    {
      "cell_type": "markdown",
      "metadata": {
        "id": "MZpGWD31nhz0"
      },
      "source": [
        "Primero elegiremos las variables de interes"
      ]
    },
    {
      "cell_type": "code",
      "metadata": {
        "id": "1zYsSU49nmaV"
      },
      "source": [
        "JJOO=JJOO[['Sexo','Edad','Estatura','Peso','Medalla']]"
      ],
      "execution_count": null,
      "outputs": []
    },
    {
      "cell_type": "markdown",
      "metadata": {
        "id": "XXDdpEHen6O9"
      },
      "source": [
        "Después, cambiamos las variables a categoricas donde en sexo=0 se refiere a Masculino y sexo=1 hace referencia a Femenino, de igual manera en la variable de medalla el 1 hace referencia a que dicho atleta gano una medalla en dicho evento y el 0 nos indica que no logro conseguir una medalla en dicho evento "
      ]
    },
    {
      "cell_type": "code",
      "metadata": {
        "colab": {
          "base_uri": "https://localhost:8080/",
          "height": 450
        },
        "id": "vEdO8Rt1ifLY",
        "outputId": "d9070c2d-13b2-490e-a3ee-b909ff561f79"
      },
      "source": [
        "JJOO['Medalla']=JJOO['Medalla'].replace(['Gold','Bronze','Silver'],1)\n",
        "JJOO['Medalla']=JJOO['Medalla'].replace('0',0)\n",
        "JJOO['Sexo']=JJOO['Sexo'].replace(['M','F'],[0,1])\n",
        "JJOO"
      ],
      "execution_count": null,
      "outputs": [
        {
          "output_type": "execute_result",
          "data": {
            "text/html": [
              "<div>\n",
              "<style scoped>\n",
              "    .dataframe tbody tr th:only-of-type {\n",
              "        vertical-align: middle;\n",
              "    }\n",
              "\n",
              "    .dataframe tbody tr th {\n",
              "        vertical-align: top;\n",
              "    }\n",
              "\n",
              "    .dataframe thead th {\n",
              "        text-align: right;\n",
              "    }\n",
              "</style>\n",
              "<table border=\"1\" class=\"dataframe\">\n",
              "  <thead>\n",
              "    <tr style=\"text-align: right;\">\n",
              "      <th></th>\n",
              "      <th>Sexo</th>\n",
              "      <th>Edad</th>\n",
              "      <th>Estatura</th>\n",
              "      <th>Peso</th>\n",
              "      <th>Medalla</th>\n",
              "    </tr>\n",
              "    <tr>\n",
              "      <th>ID</th>\n",
              "      <th></th>\n",
              "      <th></th>\n",
              "      <th></th>\n",
              "      <th></th>\n",
              "      <th></th>\n",
              "    </tr>\n",
              "  </thead>\n",
              "  <tbody>\n",
              "    <tr>\n",
              "      <th>1</th>\n",
              "      <td>0</td>\n",
              "      <td>24</td>\n",
              "      <td>180</td>\n",
              "      <td>80.0</td>\n",
              "      <td>0</td>\n",
              "    </tr>\n",
              "    <tr>\n",
              "      <th>2</th>\n",
              "      <td>0</td>\n",
              "      <td>23</td>\n",
              "      <td>170</td>\n",
              "      <td>60.0</td>\n",
              "      <td>0</td>\n",
              "    </tr>\n",
              "    <tr>\n",
              "      <th>3</th>\n",
              "      <td>0</td>\n",
              "      <td>24</td>\n",
              "      <td>0</td>\n",
              "      <td>0.0</td>\n",
              "      <td>0</td>\n",
              "    </tr>\n",
              "    <tr>\n",
              "      <th>4</th>\n",
              "      <td>0</td>\n",
              "      <td>34</td>\n",
              "      <td>0</td>\n",
              "      <td>0.0</td>\n",
              "      <td>1</td>\n",
              "    </tr>\n",
              "    <tr>\n",
              "      <th>5</th>\n",
              "      <td>1</td>\n",
              "      <td>21</td>\n",
              "      <td>185</td>\n",
              "      <td>82.0</td>\n",
              "      <td>0</td>\n",
              "    </tr>\n",
              "    <tr>\n",
              "      <th>...</th>\n",
              "      <td>...</td>\n",
              "      <td>...</td>\n",
              "      <td>...</td>\n",
              "      <td>...</td>\n",
              "      <td>...</td>\n",
              "    </tr>\n",
              "    <tr>\n",
              "      <th>135569</th>\n",
              "      <td>0</td>\n",
              "      <td>29</td>\n",
              "      <td>179</td>\n",
              "      <td>89.0</td>\n",
              "      <td>0</td>\n",
              "    </tr>\n",
              "    <tr>\n",
              "      <th>135570</th>\n",
              "      <td>0</td>\n",
              "      <td>27</td>\n",
              "      <td>176</td>\n",
              "      <td>59.0</td>\n",
              "      <td>0</td>\n",
              "    </tr>\n",
              "    <tr>\n",
              "      <th>135570</th>\n",
              "      <td>0</td>\n",
              "      <td>27</td>\n",
              "      <td>176</td>\n",
              "      <td>59.0</td>\n",
              "      <td>0</td>\n",
              "    </tr>\n",
              "    <tr>\n",
              "      <th>135571</th>\n",
              "      <td>0</td>\n",
              "      <td>30</td>\n",
              "      <td>185</td>\n",
              "      <td>96.0</td>\n",
              "      <td>0</td>\n",
              "    </tr>\n",
              "    <tr>\n",
              "      <th>135571</th>\n",
              "      <td>0</td>\n",
              "      <td>34</td>\n",
              "      <td>185</td>\n",
              "      <td>96.0</td>\n",
              "      <td>0</td>\n",
              "    </tr>\n",
              "  </tbody>\n",
              "</table>\n",
              "<p>271116 rows × 5 columns</p>\n",
              "</div>"
            ],
            "text/plain": [
              "        Sexo  Edad  Estatura  Peso  Medalla\n",
              "ID                                         \n",
              "1          0    24       180  80.0        0\n",
              "2          0    23       170  60.0        0\n",
              "3          0    24         0   0.0        0\n",
              "4          0    34         0   0.0        1\n",
              "5          1    21       185  82.0        0\n",
              "...      ...   ...       ...   ...      ...\n",
              "135569     0    29       179  89.0        0\n",
              "135570     0    27       176  59.0        0\n",
              "135570     0    27       176  59.0        0\n",
              "135571     0    30       185  96.0        0\n",
              "135571     0    34       185  96.0        0\n",
              "\n",
              "[271116 rows x 5 columns]"
            ]
          },
          "metadata": {},
          "execution_count": 176
        }
      ]
    },
    {
      "cell_type": "code",
      "metadata": {
        "colab": {
          "base_uri": "https://localhost:8080/",
          "height": 450
        },
        "id": "8cGJUobTpti6",
        "outputId": "7fa47f12-0699-44f8-c0a6-b3d845593273"
      },
      "source": [
        "JJOO"
      ],
      "execution_count": null,
      "outputs": [
        {
          "output_type": "execute_result",
          "data": {
            "text/html": [
              "<div>\n",
              "<style scoped>\n",
              "    .dataframe tbody tr th:only-of-type {\n",
              "        vertical-align: middle;\n",
              "    }\n",
              "\n",
              "    .dataframe tbody tr th {\n",
              "        vertical-align: top;\n",
              "    }\n",
              "\n",
              "    .dataframe thead th {\n",
              "        text-align: right;\n",
              "    }\n",
              "</style>\n",
              "<table border=\"1\" class=\"dataframe\">\n",
              "  <thead>\n",
              "    <tr style=\"text-align: right;\">\n",
              "      <th></th>\n",
              "      <th>Sexo</th>\n",
              "      <th>Edad</th>\n",
              "      <th>Estatura</th>\n",
              "      <th>Peso</th>\n",
              "      <th>Medalla</th>\n",
              "    </tr>\n",
              "    <tr>\n",
              "      <th>ID</th>\n",
              "      <th></th>\n",
              "      <th></th>\n",
              "      <th></th>\n",
              "      <th></th>\n",
              "      <th></th>\n",
              "    </tr>\n",
              "  </thead>\n",
              "  <tbody>\n",
              "    <tr>\n",
              "      <th>1</th>\n",
              "      <td>0</td>\n",
              "      <td>24</td>\n",
              "      <td>180</td>\n",
              "      <td>80.0</td>\n",
              "      <td>0</td>\n",
              "    </tr>\n",
              "    <tr>\n",
              "      <th>2</th>\n",
              "      <td>0</td>\n",
              "      <td>23</td>\n",
              "      <td>170</td>\n",
              "      <td>60.0</td>\n",
              "      <td>0</td>\n",
              "    </tr>\n",
              "    <tr>\n",
              "      <th>3</th>\n",
              "      <td>0</td>\n",
              "      <td>24</td>\n",
              "      <td>0</td>\n",
              "      <td>0.0</td>\n",
              "      <td>0</td>\n",
              "    </tr>\n",
              "    <tr>\n",
              "      <th>4</th>\n",
              "      <td>0</td>\n",
              "      <td>34</td>\n",
              "      <td>0</td>\n",
              "      <td>0.0</td>\n",
              "      <td>1</td>\n",
              "    </tr>\n",
              "    <tr>\n",
              "      <th>5</th>\n",
              "      <td>1</td>\n",
              "      <td>21</td>\n",
              "      <td>185</td>\n",
              "      <td>82.0</td>\n",
              "      <td>0</td>\n",
              "    </tr>\n",
              "    <tr>\n",
              "      <th>...</th>\n",
              "      <td>...</td>\n",
              "      <td>...</td>\n",
              "      <td>...</td>\n",
              "      <td>...</td>\n",
              "      <td>...</td>\n",
              "    </tr>\n",
              "    <tr>\n",
              "      <th>135569</th>\n",
              "      <td>0</td>\n",
              "      <td>29</td>\n",
              "      <td>179</td>\n",
              "      <td>89.0</td>\n",
              "      <td>0</td>\n",
              "    </tr>\n",
              "    <tr>\n",
              "      <th>135570</th>\n",
              "      <td>0</td>\n",
              "      <td>27</td>\n",
              "      <td>176</td>\n",
              "      <td>59.0</td>\n",
              "      <td>0</td>\n",
              "    </tr>\n",
              "    <tr>\n",
              "      <th>135570</th>\n",
              "      <td>0</td>\n",
              "      <td>27</td>\n",
              "      <td>176</td>\n",
              "      <td>59.0</td>\n",
              "      <td>0</td>\n",
              "    </tr>\n",
              "    <tr>\n",
              "      <th>135571</th>\n",
              "      <td>0</td>\n",
              "      <td>30</td>\n",
              "      <td>185</td>\n",
              "      <td>96.0</td>\n",
              "      <td>0</td>\n",
              "    </tr>\n",
              "    <tr>\n",
              "      <th>135571</th>\n",
              "      <td>0</td>\n",
              "      <td>34</td>\n",
              "      <td>185</td>\n",
              "      <td>96.0</td>\n",
              "      <td>0</td>\n",
              "    </tr>\n",
              "  </tbody>\n",
              "</table>\n",
              "<p>271116 rows × 5 columns</p>\n",
              "</div>"
            ],
            "text/plain": [
              "        Sexo  Edad  Estatura  Peso  Medalla\n",
              "ID                                         \n",
              "1          0    24       180  80.0        0\n",
              "2          0    23       170  60.0        0\n",
              "3          0    24         0   0.0        0\n",
              "4          0    34         0   0.0        1\n",
              "5          1    21       185  82.0        0\n",
              "...      ...   ...       ...   ...      ...\n",
              "135569     0    29       179  89.0        0\n",
              "135570     0    27       176  59.0        0\n",
              "135570     0    27       176  59.0        0\n",
              "135571     0    30       185  96.0        0\n",
              "135571     0    34       185  96.0        0\n",
              "\n",
              "[271116 rows x 5 columns]"
            ]
          },
          "metadata": {},
          "execution_count": 177
        }
      ]
    },
    {
      "cell_type": "markdown",
      "metadata": {
        "id": "28Qe5IZoqRQc"
      },
      "source": [
        "Se importan las librerias para aplicar nuestro modelo"
      ]
    },
    {
      "cell_type": "code",
      "metadata": {
        "id": "c3db-o6Dp7k5"
      },
      "source": [
        "from sklearn.linear_model import LogisticRegression\n",
        "from sklearn.model_selection import train_test_split \n"
      ],
      "execution_count": null,
      "outputs": []
    },
    {
      "cell_type": "markdown",
      "metadata": {
        "id": "U30HajPesRr6"
      },
      "source": [
        "una vez importadas las librerias procedemos a separar nuestros datos en variables predictorias y predicciones\n",
        "asi mismo creamos el set de datos de entrenamiento y de prueba con 80% para entrenamiento y 20% para prueba "
      ]
    },
    {
      "cell_type": "code",
      "metadata": {
        "id": "KyfotHeLsQMx"
      },
      "source": [
        "X=JJOO[['Sexo',\t'Edad','Estatura','Peso']]\n",
        "Y=JJOO['Medalla']\n",
        "X_train,X_test,y_train,y_test=train_test_split(X,Y,test_size=.20,random_state=1) "
      ],
      "execution_count": null,
      "outputs": []
    },
    {
      "cell_type": "markdown",
      "metadata": {
        "id": "lqu612VCtYaf"
      },
      "source": [
        "Las siguientes lineas de codigo entrenamos nuestro modelo con nuestros datos de entrenamiento"
      ]
    },
    {
      "cell_type": "code",
      "metadata": {
        "colab": {
          "base_uri": "https://localhost:8080/"
        },
        "id": "kesSmoGetROY",
        "outputId": "716959e7-e7c2-47cf-90d8-38151335bd4a"
      },
      "source": [
        "modelo=LogisticRegression()\n",
        "modelo.fit(X_train,y_train)"
      ],
      "execution_count": null,
      "outputs": [
        {
          "output_type": "execute_result",
          "data": {
            "text/plain": [
              "LogisticRegression(C=1.0, class_weight=None, dual=False, fit_intercept=True,\n",
              "                   intercept_scaling=1, l1_ratio=None, max_iter=100,\n",
              "                   multi_class='auto', n_jobs=None, penalty='l2',\n",
              "                   random_state=None, solver='lbfgs', tol=0.0001, verbose=0,\n",
              "                   warm_start=False)"
            ]
          },
          "metadata": {},
          "execution_count": 180
        }
      ]
    },
    {
      "cell_type": "markdown",
      "metadata": {
        "id": "KXjDw4igtnvy"
      },
      "source": [
        "Y con nuestro set de prueba sealizamos predicciones"
      ]
    },
    {
      "cell_type": "code",
      "metadata": {
        "colab": {
          "base_uri": "https://localhost:8080/",
          "height": 419
        },
        "id": "mjv7PdqCttkj",
        "outputId": "c2b3e4b4-eff5-4717-d173-fdb2b52d9f96"
      },
      "source": [
        "predict=modelo.predict(X_test)\n",
        "predict=pd.DataFrame(predict)\n",
        "predict\n"
      ],
      "execution_count": null,
      "outputs": [
        {
          "output_type": "execute_result",
          "data": {
            "text/html": [
              "<div>\n",
              "<style scoped>\n",
              "    .dataframe tbody tr th:only-of-type {\n",
              "        vertical-align: middle;\n",
              "    }\n",
              "\n",
              "    .dataframe tbody tr th {\n",
              "        vertical-align: top;\n",
              "    }\n",
              "\n",
              "    .dataframe thead th {\n",
              "        text-align: right;\n",
              "    }\n",
              "</style>\n",
              "<table border=\"1\" class=\"dataframe\">\n",
              "  <thead>\n",
              "    <tr style=\"text-align: right;\">\n",
              "      <th></th>\n",
              "      <th>0</th>\n",
              "    </tr>\n",
              "  </thead>\n",
              "  <tbody>\n",
              "    <tr>\n",
              "      <th>0</th>\n",
              "      <td>0</td>\n",
              "    </tr>\n",
              "    <tr>\n",
              "      <th>1</th>\n",
              "      <td>0</td>\n",
              "    </tr>\n",
              "    <tr>\n",
              "      <th>2</th>\n",
              "      <td>0</td>\n",
              "    </tr>\n",
              "    <tr>\n",
              "      <th>3</th>\n",
              "      <td>0</td>\n",
              "    </tr>\n",
              "    <tr>\n",
              "      <th>4</th>\n",
              "      <td>0</td>\n",
              "    </tr>\n",
              "    <tr>\n",
              "      <th>...</th>\n",
              "      <td>...</td>\n",
              "    </tr>\n",
              "    <tr>\n",
              "      <th>54219</th>\n",
              "      <td>0</td>\n",
              "    </tr>\n",
              "    <tr>\n",
              "      <th>54220</th>\n",
              "      <td>0</td>\n",
              "    </tr>\n",
              "    <tr>\n",
              "      <th>54221</th>\n",
              "      <td>0</td>\n",
              "    </tr>\n",
              "    <tr>\n",
              "      <th>54222</th>\n",
              "      <td>0</td>\n",
              "    </tr>\n",
              "    <tr>\n",
              "      <th>54223</th>\n",
              "      <td>0</td>\n",
              "    </tr>\n",
              "  </tbody>\n",
              "</table>\n",
              "<p>54224 rows × 1 columns</p>\n",
              "</div>"
            ],
            "text/plain": [
              "       0\n",
              "0      0\n",
              "1      0\n",
              "2      0\n",
              "3      0\n",
              "4      0\n",
              "...   ..\n",
              "54219  0\n",
              "54220  0\n",
              "54221  0\n",
              "54222  0\n",
              "54223  0\n",
              "\n",
              "[54224 rows x 1 columns]"
            ]
          },
          "metadata": {},
          "execution_count": 181
        }
      ]
    },
    {
      "cell_type": "code",
      "metadata": {
        "id": "aiuF6TdPr3ll"
      },
      "source": [
        "from sklearn.metrics import confusion_matrix\n",
        "import seaborn as sns"
      ],
      "execution_count": null,
      "outputs": []
    },
    {
      "cell_type": "code",
      "metadata": {
        "colab": {
          "base_uri": "https://localhost:8080/",
          "height": 282
        },
        "id": "odWU0Pvat7sJ",
        "outputId": "fbfee855-31df-4095-c06f-8ff4b1571a36"
      },
      "source": [
        "matriz=confusion_matrix(y_test,predict)\n",
        "sns.heatmap(matriz,annot=True,cmap=\"YlGnBu\")"
      ],
      "execution_count": null,
      "outputs": [
        {
          "output_type": "execute_result",
          "data": {
            "text/plain": [
              "<matplotlib.axes._subplots.AxesSubplot at 0x7f1fb98e9d90>"
            ]
          },
          "metadata": {},
          "execution_count": 183
        },
        {
          "output_type": "display_data",
          "data": {
            "image/png": "[encoded data removed]",
            "text/plain": [
              "<Figure size 432x288 with 2 Axes>"
            ]
          },
          "metadata": {
            "needs_background": "light"
          }
        }
      ]
    }
  ]
}